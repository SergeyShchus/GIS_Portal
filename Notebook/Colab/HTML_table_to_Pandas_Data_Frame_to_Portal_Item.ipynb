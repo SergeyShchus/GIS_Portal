{
  "nbformat": 4,
  "nbformat_minor": 0,
  "metadata": {
    "colab": {
      "name": "HTML table to Pandas Data Frame to Portal Item.ipynb",
      "provenance": [],
      "authorship_tag": "ABX9TyMKqGv1Q2k0ikXkmcAQyhrk",
      "include_colab_link": true
    },
    "kernelspec": {
      "name": "python3",
      "display_name": "Python 3"
    },
    "language_info": {
      "name": "python"
    },
    "widgets": {
      "application/vnd.jupyter.widget-state+json": {
        "8a7b52ebb3dd464cb7efa4386b837edc": {
          "model_module": "arcgis-map-ipywidget",
          "model_name": "ArcGISMapIPyWidgetModel",
          "state": {
            "_view_name": "ArcGISMapIPyWidgetView",
            "_time_info": {},
            "_trigger_new_jlab_window_with_args": {},
            "_webscene": {},
            "_scale": -1,
            "_uuid": "18374e23-eb90-4e68-8264-af93c91e869b",
            "_image_overlays_to_remove": [],
            "_view_module": "arcgis-map-ipywidget",
            "_extent": {
              "xmin": -7.315559543999935,
              "ymin": 48.06238660500003,
              "ymax": 58.754386605000036,
              "xmax": 3.376440456000065
            },
            "_model_module_version": "1.8.4",
            "_readonly_webmap_from_js": {},
            "_gallery_basemaps": {
              "default": {
                "baseMapLayers": [
                  {
                    "url": "https://services.arcgisonline.com/ArcGIS/rest/services/World_Topo_Map/MapServer",
                    "resourceInfo": {
                      "layers": [
                        {
                          "name": "Citations",
                          "maxScale": 0,
                          "defaultVisibility": false,
                          "parentLayerId": -1,
                          "id": 0,
                          "minScale": 0,
                          "subLayerIds": null
                        }
                      ],
                      "tables": [],
                      "exportTilesAllowed": false,
                      "supportedImageFormatTypes": "PNG32,PNG24,PNG,JPG,DIB,TIFF,EMF,PS,PDF,GIF,SVG,SVGZ,BMP",
                      "supportsDynamicLayers": false,
                      "initialExtent": {
                        "xmin": -28848255.049479112,
                        "ymin": -2077452.082122866,
                        "ymax": 16430757.376790084,
                        "xmax": 28848255.049479112,
                        "spatialReference": {
                          "wkid": 102100,
                          "latestWkid": 3857
                        }
                      },
                      "maxImageHeight": 4096,
                      "maxScale": 70.5310735,
                      "capabilities": "Map,Tilemap,Query,Data",
                      "spatialReference": {
                        "wkid": 102100,
                        "latestWkid": 3857
                      },
                      "mapName": "Layers",
                      "currentVersion": 10.3,
                      "maxRecordCount": 100,
                      "maxImageWidth": 4096,
                      "units": "esriMeters",
                      "fullExtent": {
                        "xmin": -20037507.067161843,
                        "ymin": -19971868.880408604,
                        "ymax": 19971868.88040863,
                        "xmax": 20037507.067161843,
                        "spatialReference": {
                          "wkid": 102100,
                          "latestWkid": 3857
                        }
                      },
                      "singleFusedMapCache": true,
                      "supportedQueryFormats": "JSON, AMF",
                      "minScale": 591657527.591555,
                      "supportedExtensions": "KmlServer",
                      "tileInfo": {
                        "origin": {
                          "y": 20037508.342787,
                          "x": -20037508.342787
                        },
                        "rows": 256,
                        "format": "JPEG",
                        "cols": 256,
                        "compressionQuality": 90,
                        "lods": [
                          {
                            "scale": 591657527.591555,
                            "resolution": 156543.03392800014,
                            "level": 0
                          },
                          {
                            "scale": 295828763.795777,
                            "resolution": 78271.51696399994,
                            "level": 1
                          },
                          {
                            "scale": 147914381.897889,
                            "resolution": 39135.75848200009,
                            "level": 2
                          },
                          {
                            "scale": 73957190.948944,
                            "resolution": 19567.87924099992,
                            "level": 3
                          },
                          {
                            "scale": 36978595.474472,
                            "resolution": 9783.93962049996,
                            "level": 4
                          },
                          {
                            "scale": 18489297.737236,
                            "resolution": 4891.96981024998,
                            "level": 5
                          },
                          {
                            "scale": 9244648.868618,
                            "resolution": 2445.98490512499,
                            "level": 6
                          },
                          {
                            "scale": 4622324.434309,
                            "resolution": 1222.992452562495,
                            "level": 7
                          },
                          {
                            "scale": 2311162.217155,
                            "resolution": 611.4962262813797,
                            "level": 8
                          },
                          {
                            "scale": 1155581.108577,
                            "resolution": 305.74811314055756,
                            "level": 9
                          },
                          {
                            "scale": 577790.554289,
                            "resolution": 152.87405657041106,
                            "level": 10
                          },
                          {
                            "scale": 288895.277144,
                            "resolution": 76.43702828507324,
                            "level": 11
                          },
                          {
                            "scale": 144447.638572,
                            "resolution": 38.21851414253662,
                            "level": 12
                          },
                          {
                            "scale": 72223.819286,
                            "resolution": 19.10925707126831,
                            "level": 13
                          },
                          {
                            "scale": 36111.909643,
                            "resolution": 9.554628535634155,
                            "level": 14
                          },
                          {
                            "scale": 18055.954822,
                            "resolution": 4.77731426794937,
                            "level": 15
                          },
                          {
                            "scale": 9027.977411,
                            "resolution": 2.388657133974685,
                            "level": 16
                          },
                          {
                            "scale": 4513.988705,
                            "resolution": 1.1943285668550503,
                            "level": 17
                          },
                          {
                            "scale": 2256.994353,
                            "resolution": 0.5971642835598172,
                            "level": 18
                          },
                          {
                            "scale": 1128.497176,
                            "resolution": 0.29858214164761665,
                            "level": 19
                          },
                          {
                            "scale": 564.248588,
                            "resolution": 0.14929107082380833,
                            "level": 20
                          },
                          {
                            "scale": 282.124294,
                            "resolution": 0.07464553541190416,
                            "level": 21
                          },
                          {
                            "scale": 141.062147,
                            "resolution": 0.03732276770595208,
                            "level": 22
                          },
                          {
                            "scale": 70.5310735,
                            "resolution": 0.01866138385297604,
                            "level": 23
                          }
                        ],
                        "spatialReference": {
                          "wkid": 102100,
                          "latestWkid": 3857
                        },
                        "dpi": 96
                      }
                    },
                    "layerType": "ArcGISTiledMapServiceLayer"
                  }
                ],
                "title": "Topographic"
              }
            },
            "_center": {},
            "time_slider": false,
            "print_service_url": "",
            "tab_mode": "auto",
            "ready": false,
            "_trigger_print_js_debug_info": "",
            "_basemap": "default",
            "_readonly_heading": 0,
            "_model_module": "arcgis-map-ipywidget",
            "_overlay_this_image": {},
            "_snap_to_zoom": true,
            "_link_writeonly_tilt": 0,
            "_link_writeonly_rotation": 0,
            "layout": "IPY_MODEL_52f311203f4848829f477bcd34126a4f",
            "_model_name": "ArcGISMapIPyWidgetModel",
            "_zoom": -1,
            "_view_module_version": "1.8.4",
            "_readonly_end_time": "",
            "jupyter_target": "",
            "_readonly_extent": {},
            "_writeonly_end_time": "1900-01-01T00:00:00.000000",
            "_portal_token": "",
            "_portal_sharing_rest_url": "https://www.arcgis.com/sharing/rest/",
            "_writeonly_start_time": "1900-01-01T00:00:00.000000",
            "_tilt": 0,
            "_username": "None",
            "_readonly_center": {},
            "_dom_classes": [],
            "_preview_screenshot_callback_resp": "",
            "_heading": 0,
            "_trigger_webscene_save_to_this_portal_id": "",
            "_readonly_zoom": -1,
            "_js_cdn_override": "",
            "_link_writeonly_extent": {},
            "_center_long_lat": [],
            "_overlay_these_images_on_widget_load": [],
            "_link_writeonly_heading": 0,
            "_add_this_graphic": {},
            "_readonly_scale": -1,
            "_view_count": null,
            "legend": false,
            "_webmap": {},
            "_draw_these_notype_layers_on_widget_load": [
              {
                "featureSet": {
                  "geometryType": "esriGeometryPoint",
                  "features": [
                    {
                      "geometry": {
                        "y": 4778944.3605,
                        "x": -11066784.7856,
                        "spatialReference": {
                          "wkid": 102100,
                          "latestWkid": 3857
                        }
                      },
                      "attributes": {
                        "Unregistered_firearms": 392273257,
                        "Computation_method": "1",
                        "ObjectId": 1,
                        "Estimate_of_civilian_firearms_per_100_persons": 120.5,
                        "Registered_firearms": 1073743,
                        "Region": "Americas",
                        "Population_2017": 326474000,
                        "Subregion": "North America",
                        "Country__or_dependent_territory__subnational_area__etc__": "United States",
                        "Estimate_of_firearms_in_civilian_possession": 393347000
                      }
                    },
                    {
                      "geometry": {
                        "y": -6754239.916499998,
                        "x": -6540254.9265,
                        "spatialReference": {
                          "wkid": 102100,
                          "latestWkid": 3857
                        }
                      },
                      "attributes": {
                        "Unregistered_firearms": 295,
                        "Computation_method": "2",
                        "ObjectId": 2,
                        "Estimate_of_civilian_firearms_per_100_persons": 62.1,
                        "Registered_firearms": 1705,
                        "Region": "Americas",
                        "Population_2017": 3000,
                        "Subregion": "South America",
                        "Country__or_dependent_territory__subnational_area__etc__": "Falkland Islands",
                        "Estimate_of_firearms_in_civilian_possession": 2000
                      }
                    },
                    {
                      "geometry": {
                        "y": 1793747.6873000003,
                        "x": 5298134.5711,
                        "spatialReference": {
                          "wkid": 102100,
                          "latestWkid": 3857
                        }
                      },
                      "attributes": {
                        "Computation_method": "2",
                        "ObjectId": 3,
                        "Estimate_of_civilian_firearms_per_100_persons": 52.8,
                        "Region": "Asia",
                        "Population_2017": 28120000,
                        "Subregion": "Western Asia",
                        "Country__or_dependent_territory__subnational_area__etc__": "Yemen",
                        "Estimate_of_firearms_in_civilian_possession": 14859000
                      }
                    },
                    {
                      "geometry": {
                        "y": -2428617.4833000004,
                        "x": 18445844.657399997,
                        "spatialReference": {
                          "wkid": 102100,
                          "latestWkid": 3857
                        }
                      },
                      "attributes": {
                        "Unregistered_firearms": 60000,
                        "Computation_method": "2",
                        "ObjectId": 4,
                        "Estimate_of_civilian_firearms_per_100_persons": 42.5,
                        "Registered_firearms": 55000,
                        "Region": "Oceania",
                        "Population_2017": 270000,
                        "Subregion": "Melanesia",
                        "Country__or_dependent_territory__subnational_area__etc__": "New Caledonia",
                        "Estimate_of_firearms_in_civilian_possession": 115000
                      }
                    },
                    {
                      "geometry": {
                        "y": 5280995.810999997,
                        "x": 2143133.9091,
                        "spatialReference": {
                          "wkid": 102100,
                          "latestWkid": 3857
                        }
                      },
                      "attributes": {
                        "Unregistered_firearms": 141464,
                        "Computation_method": "3",
                        "ObjectId": 5,
                        "Estimate_of_civilian_firearms_per_100_persons": 39.1,
                        "Registered_firearms": 103536,
                        "Region": "Europe",
                        "Population_2017": 626000,
                        "Subregion": "Southern Europe",
                        "Country__or_dependent_territory__subnational_area__etc__": "Montenegro",
                        "Estimate_of_firearms_in_civilian_possession": 245000
                      }
                    },
                    {
                      "geometry": {
                        "y": 5469987.553900003,
                        "x": 2315951.9703,
                        "spatialReference": {
                          "wkid": 102100,
                          "latestWkid": 3857
                        }
                      },
                      "attributes": {
                        "Unregistered_firearms": 1532914,
                        "Computation_method": "2",
                        "ObjectId": 6,
                        "Estimate_of_civilian_firearms_per_100_persons": 39.1,
                        "Registered_firearms": 1186086,
                        "Region": "Europe",
                        "Population_2017": 6946000,
                        "Subregion": "Southern Europe",
                        "Country__or_dependent_territory__subnational_area__etc__": "Serbia",
                        "Estimate_of_firearms_in_civilian_possession": 2719000
                      }
                    },
                    {
                      "geometry": {
                        "y": 8423971.9098,
                        "x": -12650634.138,
                        "spatialReference": {
                          "wkid": 102100,
                          "latestWkid": 3857
                        }
                      },
                      "attributes": {
                        "Unregistered_firearms": 10626558,
                        "Computation_method": "2",
                        "ObjectId": 7,
                        "Estimate_of_civilian_firearms_per_100_persons": 34.7,
                        "Registered_firearms": 2081442,
                        "Region": "Americas",
                        "Population_2017": 36626000,
                        "Subregion": "North America",
                        "Country__or_dependent_territory__subnational_area__etc__": "Canada",
                        "Estimate_of_firearms_in_civilian_possession": 12708000
                      }
                    },
                    {
                      "geometry": {
                        "y": -3867895.4811000004,
                        "x": -6236202.245999999,
                        "spatialReference": {
                          "wkid": 102100,
                          "latestWkid": 3857
                        }
                      },
                      "attributes": {
                        "Unregistered_firearms": 592687,
                        "Computation_method": "2",
                        "ObjectId": 8,
                        "Estimate_of_civilian_firearms_per_100_persons": 34.7,
                        "Registered_firearms": 605313,
                        "Region": "Americas",
                        "Population_2017": 3457000,
                        "Subregion": "South America",
                        "Country__or_dependent_territory__subnational_area__etc__": "Uruguay",
                        "Estimate_of_firearms_in_civilian_possession": 1198000
                      }
                    },
                    {
                      "geometry": {
                        "y": 4170701.7119000033,
                        "x": 3698726.977400001,
                        "spatialReference": {
                          "wkid": 102100,
                          "latestWkid": 3857
                        }
                      },
                      "attributes": {
                        "Unregistered_firearms": 130673,
                        "Computation_method": "2",
                        "ObjectId": 9,
                        "Estimate_of_civilian_firearms_per_100_persons": 34,
                        "Registered_firearms": 154327,
                        "Region": "Asia",
                        "Population_2017": 839000,
                        "Subregion": "Western Asia",
                        "Country__or_dependent_territory__subnational_area__etc__": "Cyprus",
                        "Estimate_of_firearms_in_civilian_possession": 285000
                      }
                    },
                    {
                      "geometry": {
                        "y": 9483708.547899999,
                        "x": 2911988.1224999987,
                        "spatialReference": {
                          "wkid": 102100,
                          "latestWkid": 3857
                        }
                      },
                      "attributes": {
                        "Unregistered_firearms": 250604,
                        "Computation_method": "1",
                        "ObjectId": 10,
                        "Estimate_of_civilian_firearms_per_100_persons": 32.4,
                        "Registered_firearms": 1542396,
                        "Region": "Europe",
                        "Population_2017": 5541000,
                        "Subregion": "Northern Europe",
                        "Country__or_dependent_territory__subnational_area__etc__": "Finland",
                        "Estimate_of_firearms_in_civilian_possession": 1793000
                      }
                    },
                    {
                      "geometry": {
                        "y": 4018258.9021999985,
                        "x": 3995638.099300001,
                        "spatialReference": {
                          "wkid": 102100,
                          "latestWkid": 3857
                        }
                      },
                      "attributes": {
                        "Computation_method": "2",
                        "ObjectId": 11,
                        "Estimate_of_civilian_firearms_per_100_persons": 31.9,
                        "Region": "Asia",
                        "Population_2017": 6039000,
                        "Subregion": "Western Asia",
                        "Country__or_dependent_territory__subnational_area__etc__": "Lebanon",
                        "Estimate_of_firearms_in_civilian_possession": 1927000
                      }
                    },
                    {
                      "geometry": {
                        "y": 9604936.728100002,
                        "x": -2068581.3405000009,
                        "spatialReference": {
                          "wkid": 102100,
                          "latestWkid": 3857
                        }
                      },
                      "attributes": {
                        "Unregistered_firearms": 33000,
                        "Computation_method": "2",
                        "ObjectId": 12,
                        "Estimate_of_civilian_firearms_per_100_persons": 31.7,
                        "Registered_firearms": 73000,
                        "Region": "Europe",
                        "Population_2017": 334000,
                        "Subregion": "Northern Europe",
                        "Country__or_dependent_territory__subnational_area__etc__": "Iceland",
                        "Estimate_of_firearms_in_civilian_possession": 106000
                      }
                    },
                    {
                      "geometry": {
                        "y": 5491516.923100002,
                        "x": 1979844.9642999992,
                        "spatialReference": {
                          "wkid": 102100,
                          "latestWkid": 3857
                        }
                      },
                      "attributes": {
                        "Unregistered_firearms": 832000,
                        "Computation_method": "2",
                        "ObjectId": 13,
                        "Estimate_of_civilian_firearms_per_100_persons": 31.2,
                        "Registered_firearms": 353000,
                        "Region": "Europe",
                        "Population_2017": 3793000,
                        "Subregion": "Southern Europe",
                        "Country__or_dependent_territory__subnational_area__etc__": "Bosnia and Herzegovina",
                        "Estimate_of_firearms_in_civilian_possession": 1185000
                      }
                    },
                    {
                      "geometry": {
                        "y": 6038222.923100002,
                        "x": 1573732.2071999982,
                        "spatialReference": {
                          "wkid": 102100,
                          "latestWkid": 3857
                        }
                      },
                      "attributes": {
                        "Unregistered_firearms": 1740000,
                        "Computation_method": "1",
                        "ObjectId": 14,
                        "Estimate_of_civilian_firearms_per_100_persons": 30,
                        "Registered_firearms": 837000,
                        "Region": "Europe",
                        "Population_2017": 8592000,
                        "Subregion": "Western Europe",
                        "Country__or_dependent_territory__subnational_area__etc__": "Austria",
                        "Estimate_of_firearms_in_civilian_possession": 2577000
                      }
                    },
                    {
                      "geometry": {
                        "y": 5102806.879600003,
                        "x": 2417328.689100001,
                        "spatialReference": {
                          "wkid": 102100,
                          "latestWkid": 3857
                        }
                      },
                      "attributes": {
                        "Unregistered_firearms": 451313,
                        "Computation_method": "2",
                        "ObjectId": 15,
                        "Estimate_of_civilian_firearms_per_100_persons": 29.8,
                        "Registered_firearms": 169687,
                        "Region": "Europe",
                        "Population_2017": 2083000,
                        "Subregion": "Southern Europe",
                        "Country__or_dependent_territory__subnational_area__etc__": "North Macedonia",
                        "Estimate_of_firearms_in_civilian_possession": 621000
                      }
                    },
                    {
                      "geometry": {
                        "y": 5965142.584899999,
                        "x": 1063455.3586999997,
                        "spatialReference": {
                          "wkid": 102100,
                          "latestWkid": 3857
                        }
                      },
                      "attributes": {
                        "Computation_method": "3",
                        "ObjectId": 16,
                        "Estimate_of_civilian_firearms_per_100_persons": 28.8,
                        "Region": "Europe",
                        "Population_2017": 38000,
                        "Subregion": "Western Europe",
                        "Country__or_dependent_territory__subnational_area__etc__": "Liechtenstein",
                        "Estimate_of_firearms_in_civilian_possession": 11000
                      }
                    },
                    {
                      "geometry": {
                        "y": 8859142.8006,
                        "x": 1113194.9079000019,
                        "spatialReference": {
                          "wkid": 102100,
                          "latestWkid": 3857
                        }
                      },
                      "attributes": {
                        "Unregistered_firearms": 282362,
                        "Computation_method": "2",
                        "ObjectId": 17,
                        "Estimate_of_civilian_firearms_per_100_persons": 28.8,
                        "Registered_firearms": 1254638,
                        "Region": "Europe",
                        "Population_2017": 5331000,
                        "Subregion": "Northern Europe",
                        "Country__or_dependent_territory__subnational_area__etc__": "Norway",
                        "Estimate_of_firearms_in_civilian_possession": 1537000
                      }
                    },
                    {
                      "geometry": {
                        "y": 4289969.440700002,
                        "x": 1603008.7481000014,
                        "spatialReference": {
                          "wkid": 102100,
                          "latestWkid": 3857
                        }
                      },
                      "attributes": {
                        "Unregistered_firearms": 22575,
                        "Computation_method": "2",
                        "ObjectId": 18,
                        "Estimate_of_civilian_firearms_per_100_persons": 28.3,
                        "Registered_firearms": 96425,
                        "Region": "Europe",
                        "Population_2017": 421000,
                        "Subregion": "Southern Europe",
                        "Country__or_dependent_territory__subnational_area__etc__": "Malta",
                        "Estimate_of_firearms_in_civilian_possession": 119000
                      }
                    },
                    {
                      "geometry": {
                        "y": 5909460.176600002,
                        "x": 917831.8839000016,
                        "spatialReference": {
                          "wkid": 102100,
                          "latestWkid": 3857
                        }
                      },
                      "attributes": {
                        "Unregistered_firearms": 1540281,
                        "Computation_method": "2",
                        "ObjectId": 19,
                        "Estimate_of_civilian_firearms_per_100_persons": 27.6,
                        "Registered_firearms": 791719,
                        "Region": "Europe",
                        "Population_2017": 8454000,
                        "Subregion": "Western Europe",
                        "Country__or_dependent_territory__subnational_area__etc__": "Switzerland",
                        "Estimate_of_firearms_in_civilian_possession": 2332000
                      }
                    },
                    {
                      "geometry": {
                        "y": -5204103.220899999,
                        "x": 19185183.1475,
                        "spatialReference": {
                          "wkid": 102100,
                          "latestWkid": 3857
                        }
                      },
                      "attributes": {
                        "Unregistered_firearms": 12000,
                        "Computation_method": "2",
                        "ObjectId": 20,
                        "Estimate_of_civilian_firearms_per_100_persons": 26.3,
                        "Registered_firearms": 1200000,
                        "Region": "Oceania",
                        "Population_2017": 4605000,
                        "Subregion": "Australasia",
                        "Country__or_dependent_territory__subnational_area__etc__": "New Zealand",
                        "Estimate_of_firearms_in_civilian_possession": 1212000
                      }
                    },
                    {
                      "geometry": {
                        "y": 5248488.444300003,
                        "x": 2325639.2934999987,
                        "spatialReference": {
                          "wkid": 102100,
                          "latestWkid": 3857
                        }
                      },
                      "attributes": {
                        "Unregistered_firearms": 392794,
                        "Computation_method": "2",
                        "ObjectId": 21,
                        "Estimate_of_civilian_firearms_per_100_persons": 23.8,
                        "Registered_firearms": 43206,
                        "Region": "Europe",
                        "Population_2017": 1831000,
                        "Subregion": "Southern Europe",
                        "Country__or_dependent_territory__subnational_area__etc__": "Kosovo",
                        "Estimate_of_firearms_in_civilian_possession": 436000
                      }
                    },
                    {
                      "geometry": {
                        "y": 9533069.287699997,
                        "x": 1921428.7300999984,
                        "spatialReference": {
                          "wkid": 102100,
                          "latestWkid": 3857
                        }
                      },
                      "attributes": {
                        "Unregistered_firearms": 340522,
                        "Computation_method": "1",
                        "ObjectId": 22,
                        "Estimate_of_civilian_firearms_per_100_persons": 23.1,
                        "Registered_firearms": 1955478,
                        "Region": "Europe",
                        "Population_2017": 9921000,
                        "Subregion": "Northern Europe",
                        "Country__or_dependent_territory__subnational_area__etc__": "Sweden",
                        "Estimate_of_firearms_in_civilian_possession": 2296000
                      }
                    },
                    {
                      "geometry": {
                        "y": 12815904.815399997,
                        "x": -4602572.182499999,
                        "spatialReference": {
                          "wkid": 102100,
                          "latestWkid": 3857
                        }
                      },
                      "attributes": {
                        "Computation_method": "3",
                        "ObjectId": 23,
                        "Estimate_of_civilian_firearms_per_100_persons": 22.3,
                        "Region": "Americas",
                        "Population_2017": 56000,
                        "Subregion": "North America",
                        "Country__or_dependent_territory__subnational_area__etc__": "Greenland",
                        "Estimate_of_firearms_in_civilian_possession": 13000
                      }
                    },
                    {
                      "geometry": {
                        "y": 3544012.300300002,
                        "x": 7815752.985599998,
                        "spatialReference": {
                          "wkid": 102100,
                          "latestWkid": 3857
                        }
                      },
                      "attributes": {
                        "Unregistered_firearms": 37917000,
                        "Computation_method": "2",
                        "ObjectId": 24,
                        "Estimate_of_civilian_firearms_per_100_persons": 22.3,
                        "Registered_firearms": 6000000,
                        "Region": "Asia",
                        "Population_2017": 196744000,
                        "Subregion": "South Asia",
                        "Country__or_dependent_territory__subnational_area__etc__": "Pakistan",
                        "Estimate_of_firearms_in_civilian_possession": 43917000
                      }
                    },
                    {
                      "geometry": {
                        "y": 4806993.309600003,
                        "x": -948421.2437000014,
                        "spatialReference": {
                          "wkid": 102100,
                          "latestWkid": 3857
                        }
                      },
                      "attributes": {
                        "Unregistered_firearms": 786000,
                        "Computation_method": "1",
                        "ObjectId": 25,
                        "Estimate_of_civilian_firearms_per_100_persons": 21.3,
                        "Registered_firearms": 1400000,
                        "Region": "Europe",
                        "Population_2017": 10265000,
                        "Subregion": "Southern Europe",
                        "Country__or_dependent_territory__subnational_area__etc__": "Portugal",
                        "Estimate_of_firearms_in_civilian_possession": 2186000
                      }
                    },
                    {
                      "geometry": {
                        "y": 5870453.905500002,
                        "x": 283924.8088000007,
                        "spatialReference": {
                          "wkid": 102100,
                          "latestWkid": 3857
                        }
                      },
                      "attributes": {
                        "Unregistered_firearms": 8230765,
                        "Computation_method": "1",
                        "ObjectId": 26,
                        "Estimate_of_civilian_firearms_per_100_persons": 19.6,
                        "Registered_firearms": 4501235,
                        "Region": "Europe",
                        "Population_2017": 64939000,
                        "Subregion": "Western Europe",
                        "Country__or_dependent_territory__subnational_area__etc__": "France",
                        "Estimate_of_firearms_in_civilian_possession": 12732000
                      }
                    },
                    {
                      "geometry": {
                        "y": 436905.6169999987,
                        "x": -5925884.0427,
                        "spatialReference": {
                          "wkid": 102100,
                          "latestWkid": 3857
                        }
                      },
                      "attributes": {
                        "Computation_method": "3",
                        "ObjectId": 27,
                        "Estimate_of_civilian_firearms_per_100_persons": 19.6,
                        "Region": "Americas",
                        "Population_2017": 283000,
                        "Subregion": "South America",
                        "Country__or_dependent_territory__subnational_area__etc__": "French Guiana",
                        "Estimate_of_firearms_in_civilian_possession": 55000
                      }
                    },
                    {
                      "geometry": {
                        "y": 6640886.454700001,
                        "x": 1156863.0876000002,
                        "spatialReference": {
                          "wkid": 102100,
                          "latestWkid": 3857
                        }
                      },
                      "attributes": {
                        "Unregistered_firearms": 9992000,
                        "Computation_method": "1",
                        "ObjectId": 28,
                        "Estimate_of_civilian_firearms_per_100_persons": 19.6,
                        "Registered_firearms": 5830000,
                        "Region": "Europe",
                        "Population_2017": 80636000,
                        "Subregion": "Western Europe",
                        "Country__or_dependent_territory__subnational_area__etc__": "Germany",
                        "Estimate_of_firearms_in_civilian_possession": 15822000
                      }
                    },
                    {
                      "geometry": {
                        "y": 3900478.342299998,
                        "x": 4873252.5419000015,
                        "spatialReference": {
                          "wkid": 102100,
                          "latestWkid": 3857
                        }
                      },
                      "attributes": {
                        "Computation_method": "2",
                        "ObjectId": 29,
                        "Estimate_of_civilian_firearms_per_100_persons": 19.6,
                        "Region": "Asia",
                        "Population_2017": 38654000,
                        "Subregion": "Western Asia",
                        "Country__or_dependent_territory__subnational_area__etc__": "Iraq",
                        "Estimate_of_firearms_in_civilian_possession": 7588000
                      }
                    },
                    {
                      "geometry": {
                        "y": 5424016.2804000005,
                        "x": 826475.4180999994,
                        "spatialReference": {
                          "wkid": 102100,
                          "latestWkid": 3857
                        }
                      },
                      "attributes": {
                        "Computation_method": "3",
                        "ObjectId": 30,
                        "Estimate_of_civilian_firearms_per_100_persons": 19.6,
                        "Region": "Europe",
                        "Population_2017": 38000,
                        "Subregion": "Western Europe",
                        "Country__or_dependent_territory__subnational_area__etc__": "Monaco",
                        "Estimate_of_firearms_in_civilian_possession": 7000
                      }
                    },
                    {
                      "geometry": {
                        "y": -2407766.8599000014,
                        "x": 6181843.4388,
                        "spatialReference": {
                          "wkid": 102100,
                          "latestWkid": 3857
                        }
                      },
                      "attributes": {
                        "Computation_method": "3",
                        "ObjectId": 31,
                        "Estimate_of_civilian_firearms_per_100_persons": 19.6,
                        "Region": "Africa",
                        "Population_2017": 873000,
                        "Subregion": "East Africa",
                        "Country__or_dependent_territory__subnational_area__etc__": "Réunion",
                        "Estimate_of_firearms_in_civilian_possession": 171000
                      }
                    },
                    {
                      "geometry": {
                        "y": 6407715.787199996,
                        "x": 678194.5441999994,
                        "spatialReference": {
                          "wkid": 102100,
                          "latestWkid": 3857
                        }
                      },
                      "attributes": {
                        "Unregistered_firearms": 24000,
                        "Computation_method": "1",
                        "ObjectId": 32,
                        "Estimate_of_civilian_firearms_per_100_persons": 18.9,
                        "Registered_firearms": 86000,
                        "Region": "Europe",
                        "Population_2017": 584000,
                        "Subregion": "Western Europe",
                        "Country__or_dependent_territory__subnational_area__etc__": "Luxembourg",
                        "Estimate_of_firearms_in_civilian_possession": 110000
                      }
                    },
                    {
                      "geometry": {
                        "y": 2880759.2749999985,
                        "x": -8612924.8125,
                        "spatialReference": {
                          "wkid": 102100,
                          "latestWkid": 3857
                        }
                      },
                      "attributes": {
                        "Unregistered_firearms": 56890,
                        "Computation_method": "2",
                        "ObjectId": 33,
                        "Estimate_of_civilian_firearms_per_100_persons": 18.8,
                        "Registered_firearms": 17110,
                        "Region": "Americas",
                        "Population_2017": 397000,
                        "Subregion": "Caribbean",
                        "Country__or_dependent_territory__subnational_area__etc__": "Bahamas",
                        "Estimate_of_firearms_in_civilian_possession": 74000
                      }
                    },
                    {
                      "geometry": {
                        "y": 3665023.3922000006,
                        "x": 4095233.0383,
                        "spatialReference": {
                          "wkid": 102100,
                          "latestWkid": 3857
                        }
                      },
                      "attributes": {
                        "Unregistered_firearms": 1353000,
                        "Computation_method": "2",
                        "ObjectId": 34,
                        "Estimate_of_civilian_firearms_per_100_persons": 18.7,
                        "Registered_firearms": 120000,
                        "Region": "Asia",
                        "Population_2017": 7877000,
                        "Subregion": "Western Asia",
                        "Country__or_dependent_territory__subnational_area__etc__": "Jordan",
                        "Estimate_of_firearms_in_civilian_possession": 1473000
                      }
                    },
                    {
                      "geometry": {
                        "y": 794724.933600001,
                        "x": -7365211.464,
                        "spatialReference": {
                          "wkid": 102100,
                          "latestWkid": 3857
                        }
                      },
                      "attributes": {
                        "Computation_method": "2",
                        "ObjectId": 35,
                        "Estimate_of_civilian_firearms_per_100_persons": 18.5,
                        "Region": "Americas",
                        "Population_2017": 31926000,
                        "Subregion": "South America",
                        "Country__or_dependent_territory__subnational_area__etc__": "Venezuela",
                        "Estimate_of_firearms_in_civilian_possession": 5895000
                      }
                    },
                    {
                      "geometry": {
                        "y": 4721671.5726,
                        "x": 2449028.7974999994,
                        "spatialReference": {
                          "wkid": 102100,
                          "latestWkid": 3857
                        }
                      },
                      "attributes": {
                        "Unregistered_firearms": 910000,
                        "Computation_method": "1",
                        "ObjectId": 36,
                        "Estimate_of_civilian_firearms_per_100_persons": 17.6,
                        "Registered_firearms": 1010000,
                        "Region": "Europe",
                        "Population_2017": 10893000,
                        "Subregion": "Southern Europe",
                        "Country__or_dependent_territory__subnational_area__etc__": "Greece",
                        "Estimate_of_firearms_in_civilian_possession": 1920000
                      }
                    },
                    {
                      "geometry": {
                        "y": 4202041.914499998,
                        "x": 3740443.6856000014,
                        "spatialReference": {
                          "wkid": 102100,
                          "latestWkid": 3857
                        }
                      },
                      "attributes": {
                        "Unregistered_firearms": 11858,
                        "Computation_method": "2",
                        "ObjectId": 37,
                        "Estimate_of_civilian_firearms_per_100_persons": 17.4,
                        "Registered_firearms": 49142,
                        "Region": "Asia",
                        "Population_2017": 349000,
                        "Subregion": "Western Asia",
                        "Country__or_dependent_territory__subnational_area__etc__": "Northern Cyprus",
                        "Estimate_of_firearms_in_civilian_possession": 61000
                      }
                    },
                    {
                      "geometry": {
                        "y": 3420950.7126,
                        "x": 5300162.0614,
                        "spatialReference": {
                          "wkid": 102100,
                          "latestWkid": 3857
                        }
                      },
                      "attributes": {
                        "Unregistered_firearms": 646000,
                        "Computation_method": "3",
                        "ObjectId": 38,
                        "Estimate_of_civilian_firearms_per_100_persons": 16.7,
                        "Registered_firearms": 39000,
                        "Region": "Asia",
                        "Population_2017": 4100000,
                        "Subregion": "Western Asia",
                        "Country__or_dependent_territory__subnational_area__etc__": "Kuwait",
                        "Estimate_of_firearms_in_civilian_possession": 685000
                      }
                    },
                    {
                      "geometry": {
                        "y": 2344000.973099999,
                        "x": 6245577.598999999,
                        "spatialReference": {
                          "wkid": 102100,
                          "latestWkid": 3857
                        }
                      },
                      "attributes": {
                        "Computation_method": "3",
                        "ObjectId": 39,
                        "Estimate_of_civilian_firearms_per_100_persons": 16.7,
                        "Region": "Asia",
                        "Population_2017": 4741000,
                        "Subregion": "Western Asia",
                        "Country__or_dependent_territory__subnational_area__etc__": "Oman",
                        "Estimate_of_firearms_in_civilian_possession": 792000
                      }
                    },
                    {
                      "geometry": {
                        "y": -2658622.9255999997,
                        "x": -6502245.598099999,
                        "spatialReference": {
                          "wkid": 102100,
                          "latestWkid": 3857
                        }
                      },
                      "attributes": {
                        "Unregistered_firearms": 748000,
                        "Computation_method": "2",
                        "ObjectId": 40,
                        "Estimate_of_civilian_firearms_per_100_persons": 16.7,
                        "Registered_firearms": 392000,
                        "Region": "Americas",
                        "Population_2017": 6812000,
                        "Subregion": "South America",
                        "Country__or_dependent_territory__subnational_area__etc__": "Paraguay",
                        "Estimate_of_firearms_in_civilian_possession": 1140000
                      }
                    },
                    {
                      "geometry": {
                        "y": 2910846.0401999988,
                        "x": 5698795.203499999,
                        "spatialReference": {
                          "wkid": 102100,
                          "latestWkid": 3857
                        }
                      },
                      "attributes": {
                        "Computation_method": "3",
                        "ObjectId": 41,
                        "Estimate_of_civilian_firearms_per_100_persons": 16.7,
                        "Region": "Asia",
                        "Population_2017": 2338000,
                        "Subregion": "Western Asia",
                        "Country__or_dependent_territory__subnational_area__etc__": "Qatar",
                        "Estimate_of_firearms_in_civilian_possession": 390000
                      }
                    },
                    {
                      "geometry": {
                        "y": 2768204.5044,
                        "x": 4959152.743799999,
                        "spatialReference": {
                          "wkid": 102100,
                          "latestWkid": 3857
                        }
                      },
                      "attributes": {
                        "Computation_method": "3",
                        "ObjectId": 42,
                        "Estimate_of_civilian_firearms_per_100_persons": 16.7,
                        "Region": "Asia",
                        "Population_2017": 32743000,
                        "Subregion": "Western Asia",
                        "Country__or_dependent_territory__subnational_area__etc__": "Saudi Arabia",
                        "Estimate_of_firearms_in_civilian_possession": 5468000
                      }
                    },
                    {
                      "geometry": {
                        "y": 2743038.027899999,
                        "x": 6047638.189399999,
                        "spatialReference": {
                          "wkid": 102100,
                          "latestWkid": 3857
                        }
                      },
                      "attributes": {
                        "Computation_method": "3",
                        "ObjectId": 43,
                        "Estimate_of_civilian_firearms_per_100_persons": 16.7,
                        "Region": "Asia",
                        "Population_2017": 9398000,
                        "Subregion": "Western Asia",
                        "Country__or_dependent_territory__subnational_area__etc__": "United Arab Emirates",
                        "Estimate_of_firearms_in_civilian_possession": 1569000
                      }
                    },
                    {
                      "geometry": {
                        "y": 2005749.2093999982,
                        "x": -7215627.814200001,
                        "spatialReference": {
                          "wkid": 102100,
                          "latestWkid": 3857
                        }
                      },
                      "attributes": {
                        "Computation_method": "2",
                        "ObjectId": 44,
                        "Estimate_of_civilian_firearms_per_100_persons": 16.6,
                        "Region": "Americas",
                        "Population_2017": 107000,
                        "Subregion": "Caribbean",
                        "Country__or_dependent_territory__subnational_area__etc__": "U.S. Virgin Islands",
                        "Estimate_of_firearms_in_civilian_possession": 18000
                      }
                    },
                    {
                      "geometry": {
                        "y": 4731165.856799997,
                        "x": 3912021.4131000005,
                        "spatialReference": {
                          "wkid": 102100,
                          "latestWkid": 3857
                        }
                      },
                      "attributes": {
                        "Unregistered_firearms": 10749000,
                        "Computation_method": "2",
                        "ObjectId": 45,
                        "Estimate_of_civilian_firearms_per_100_persons": 16.5,
                        "Registered_firearms": 2500000,
                        "Region": "Asia",
                        "Population_2017": 80418000,
                        "Subregion": "Western Asia",
                        "Country__or_dependent_territory__subnational_area__etc__": "Turkey",
                        "Estimate_of_firearms_in_civilian_possession": 13249000
                      }
                    },
                    {
                      "geometry": {
                        "y": 438027.3757000007,
                        "x": -6235406.298800001,
                        "spatialReference": {
                          "wkid": 102100,
                          "latestWkid": 3857
                        }
                      },
                      "attributes": {
                        "Unregistered_firearms": 58000,
                        "Computation_method": "2",
                        "ObjectId": 46,
                        "Estimate_of_civilian_firearms_per_100_persons": 15.9,
                        "Registered_firearms": 30000,
                        "Region": "Americas",
                        "Population_2017": 552000,
                        "Subregion": "South America",
                        "Country__or_dependent_territory__subnational_area__etc__": "Suriname",
                        "Estimate_of_firearms_in_civilian_possession": 88000
                      }
                    },
                    {
                      "geometry": {
                        "y": 534560.0551999994,
                        "x": -6565110.002900001,
                        "spatialReference": {
                          "wkid": 102100,
                          "latestWkid": 3857
                        }
                      },
                      "attributes": {
                        "Unregistered_firearms": 118000,
                        "Computation_method": "2",
                        "ObjectId": 47,
                        "Estimate_of_civilian_firearms_per_100_persons": 15.8,
                        "Registered_firearms": 4000,
                        "Region": "Americas",
                        "Population_2017": 774000,
                        "Subregion": "South America",
                        "Country__or_dependent_territory__subnational_area__etc__": "Guyana",
                        "Estimate_of_firearms_in_civilian_possession": 122000
                      }
                    },
                    {
                      "geometry": {
                        "y": 5799528.704099998,
                        "x": 1649950.8310000002,
                        "spatialReference": {
                          "wkid": 102100,
                          "latestWkid": 3857
                        }
                      },
                      "attributes": {
                        "Unregistered_firearms": 196906,
                        "Computation_method": "1",
                        "ObjectId": 48,
                        "Estimate_of_civilian_firearms_per_100_persons": 15.6,
                        "Registered_firearms": 127094,
                        "Region": "Europe",
                        "Population_2017": 2071000,
                        "Subregion": "Southern Europe",
                        "Country__or_dependent_territory__subnational_area__etc__": "Slovenia",
                        "Estimate_of_firearms_in_civilian_possession": 324000
                      }
                    },
                    {
                      "geometry": {
                        "y": -2528219.1752000004,
                        "x": 1917088.4976000004,
                        "spatialReference": {
                          "wkid": 102100,
                          "latestWkid": 3857
                        }
                      },
                      "attributes": {
                        "Unregistered_firearms": 195990,
                        "Computation_method": "2",
                        "ObjectId": 49,
                        "Estimate_of_civilian_firearms_per_100_persons": 15.4,
                        "Registered_firearms": 200010,
                        "Region": "Africa",
                        "Population_2017": 2569000,
                        "Subregion": "Southern Africa",
                        "Country__or_dependent_territory__subnational_area__etc__": "Namibia",
                        "Estimate_of_firearms_in_civilian_possession": 396000
                      }
                    },
                    {
                      "geometry": {
                        "y": 1702664.9294999987,
                        "x": 11244631.0323,
                        "spatialReference": {
                          "wkid": 102100,
                          "latestWkid": 3857
                        }
                      },
                      "attributes": {
                        "Unregistered_firearms": 4120820,
                        "Computation_method": "2",
                        "ObjectId": 50,
                        "Estimate_of_civilian_firearms_per_100_persons": 15.1,
                        "Registered_firearms": 6221180,
                        "Region": "Asia",
                        "Population_2017": 68298000,
                        "Subregion": "South-East Asia",
                        "Country__or_dependent_territory__subnational_area__etc__": "Thailand",
                        "Estimate_of_firearms_in_civilian_possession": 10342000
                      }
                    },
                    {
                      "geometry": {
                        "y": -2963198.8555000015,
                        "x": 14970693.8728,
                        "spatialReference": {
                          "wkid": 102100,
                          "latestWkid": 3857
                        }
                      },
                      "attributes": {
                        "Unregistered_firearms": 414205,
                        "Computation_method": "2",
                        "ObjectId": 51,
                        "Estimate_of_civilian_firearms_per_100_persons": 14.5,
                        "Registered_firearms": 3158795,
                        "Region": "Oceania",
                        "Population_2017": 24642000,
                        "Subregion": "Australasia",
                        "Country__or_dependent_territory__subnational_area__etc__": "Australia",
                        "Estimate_of_firearms_in_civilian_possession": 3573000
                      }
                    },
                    {
                      "geometry": {
                        "y": 5286637.2839,
                        "x": 1428599.7608000003,
                        "spatialReference": {
                          "wkid": 102100,
                          "latestWkid": 3857
                        }
                      },
                      "attributes": {
                        "Unregistered_firearms": 6609000,
                        "Computation_method": "1",
                        "ObjectId": 52,
                        "Estimate_of_civilian_firearms_per_100_persons": 14.4,
                        "Registered_firearms": 2000000,
                        "Region": "Europe",
                        "Population_2017": 59798000,
                        "Subregion": "Southern Europe",
                        "Country__or_dependent_territory__subnational_area__etc__": "Italy",
                        "Estimate_of_firearms_in_civilian_possession": 8609000
                      }
                    },
                    {
                      "geometry": {
                        "y": 5455878.991400003,
                        "x": 1387431.3412000015,
                        "spatialReference": {
                          "wkid": 102100,
                          "latestWkid": 3857
                        }
                      },
                      "attributes": {
                        "Computation_method": "3",
                        "ObjectId": 53,
                        "Estimate_of_civilian_firearms_per_100_persons": 14.4,
                        "Region": "Europe",
                        "Population_2017": 32000,
                        "Subregion": "Southern Europe",
                        "Country__or_dependent_territory__subnational_area__etc__": "San Marino",
                        "Estimate_of_firearms_in_civilian_possession": 5000
                      }
                    },
                    {
                      "geometry": {
                        "y": 5243016.470399998,
                        "x": 175471.38850000128,
                        "spatialReference": {
                          "wkid": 102100,
                          "latestWkid": 3857
                        }
                      },
                      "attributes": {
                        "Unregistered_firearms": 2401,
                        "Computation_method": "3",
                        "ObjectId": 54,
                        "Estimate_of_civilian_firearms_per_100_persons": 14.1,
                        "Registered_firearms": 7599,
                        "Region": "Europe",
                        "Population_2017": 69000,
                        "Subregion": "Southern Europe",
                        "Country__or_dependent_territory__subnational_area__etc__": "Andorra",
                        "Estimate_of_firearms_in_civilian_possession": 10000
                      }
                    },
                    {
                      "geometry": {
                        "y": 1668945.114,
                        "x": -9640297.3181,
                        "spatialReference": {
                          "wkid": 102100,
                          "latestWkid": 3857
                        }
                      },
                      "attributes": {
                        "Unregistered_firearms": 696000,
                        "Computation_method": "2",
                        "ObjectId": 55,
                        "Estimate_of_civilian_firearms_per_100_persons": 14.1,
                        "Registered_firearms": 475000,
                        "Region": "Americas",
                        "Population_2017": 8305000,
                        "Subregion": "Central America",
                        "Country__or_dependent_territory__subnational_area__etc__": "Honduras",
                        "Estimate_of_firearms_in_civilian_possession": 1171000
                      }
                    },
                    {
                      "geometry": {
                        "y": 5640224.548299998,
                        "x": 1718285.7853000015,
                        "spatialReference": {
                          "wkid": 102100,
                          "latestWkid": 3857
                        }
                      },
                      "attributes": {
                        "Unregistered_firearms": 186000,
                        "Computation_method": "2",
                        "ObjectId": 56,
                        "Estimate_of_civilian_firearms_per_100_persons": 13.7,
                        "Registered_firearms": 390000,
                        "Region": "Europe",
                        "Population_2017": 4210000,
                        "Subregion": "Southern Europe",
                        "Country__or_dependent_territory__subnational_area__etc__": "Croatia",
                        "Estimate_of_firearms_in_civilian_possession": 576000
                      }
                    },
                    {
                      "geometry": {
                        "y": 7427535.060999997,
                        "x": 2660579.984700002,
                        "spatialReference": {
                          "wkid": 102100,
                          "latestWkid": 3857
                        }
                      },
                      "attributes": {
                        "Unregistered_firearms": 257016,
                        "Computation_method": "2",
                        "ObjectId": 57,
                        "Estimate_of_civilian_firearms_per_100_persons": 13.6,
                        "Registered_firearms": 127984,
                        "Region": "Europe",
                        "Population_2017": 2831000,
                        "Subregion": "Northern Europe",
                        "Country__or_dependent_territory__subnational_area__etc__": "Lithuania",
                        "Estimate_of_firearms_in_civilian_possession": 385000
                      }
                    },
                    {
                      "geometry": {
                        "y": 3128697.774700001,
                        "x": 2007181.6059999987,
                        "spatialReference": {
                          "wkid": 102100,
                          "latestWkid": 3857
                        }
                      },
                      "attributes": {
                        "Computation_method": "2",
                        "ObjectId": 58,
                        "Estimate_of_civilian_firearms_per_100_persons": 13.3,
                        "Region": "Africa",
                        "Population_2017": 6409000,
                        "Subregion": "North Africa",
                        "Country__or_dependent_territory__subnational_area__etc__": "Libya",
                        "Estimate_of_firearms_in_civilian_possession": 851000
                      }
                    },
                    {
                      "geometry": {
                        "y": 2747660.6818000004,
                        "x": -11415630.4843,
                        "spatialReference": {
                          "wkid": 102100,
                          "latestWkid": 3857
                        }
                      },
                      "attributes": {
                        "Unregistered_firearms": 13690408,
                        "Computation_method": "2",
                        "ObjectId": 59,
                        "Estimate_of_civilian_firearms_per_100_persons": 12.9,
                        "Registered_firearms": 3118592,
                        "Region": "Americas",
                        "Population_2017": 130223000,
                        "Subregion": "Central America",
                        "Country__or_dependent_territory__subnational_area__etc__": "Mexico",
                        "Estimate_of_firearms_in_civilian_possession": 16809000
                      }
                    },
                    {
                      "geometry": {
                        "y": 3005505.2936999984,
                        "x": 5628806.2608,
                        "spatialReference": {
                          "wkid": 102100,
                          "latestWkid": 3857
                        }
                      },
                      "attributes": {
                        "Computation_method": "3",
                        "ObjectId": 60,
                        "Estimate_of_civilian_firearms_per_100_persons": 12.8,
                        "Region": "Asia",
                        "Population_2017": 1419000,
                        "Subregion": "Western Asia",
                        "Country__or_dependent_territory__subnational_area__etc__": "Bahrain",
                        "Estimate_of_firearms_in_civilian_possession": 181000
                      }
                    },
                    {
                      "geometry": {
                        "y": 6557979.130900003,
                        "x": 518867.9864999987,
                        "spatialReference": {
                          "wkid": 102100,
                          "latestWkid": 3857
                        }
                      },
                      "attributes": {
                        "Unregistered_firearms": 1024061,
                        "Computation_method": "1",
                        "ObjectId": 61,
                        "Estimate_of_civilian_firearms_per_100_persons": 12.7,
                        "Registered_firearms": 426939,
                        "Region": "Europe",
                        "Population_2017": 11444000,
                        "Subregion": "Western Europe",
                        "Country__or_dependent_territory__subnational_area__etc__": "Belgium",
                        "Estimate_of_firearms_in_civilian_possession": 1451000
                      }
                    },
                    {
                      "geometry": {
                        "y": 4006150.3342999965,
                        "x": 7349837.296999998,
                        "spatialReference": {
                          "wkid": 102100,
                          "latestWkid": 3857
                        }
                      },
                      "attributes": {
                        "Computation_method": "2",
                        "ObjectId": 62,
                        "Estimate_of_civilian_firearms_per_100_persons": 12.5,
                        "Region": "Asia",
                        "Population_2017": 34169000,
                        "Subregion": "South Asia",
                        "Country__or_dependent_territory__subnational_area__etc__": "Afghanistan",
                        "Estimate_of_firearms_in_civilian_possession": 4270000
                      }
                    },
                    {
                      "geometry": {
                        "y": 6401172.194300003,
                        "x": 1706724.8394000009,
                        "spatialReference": {
                          "wkid": 102100,
                          "latestWkid": 3857
                        }
                      },
                      "attributes": {
                        "Unregistered_firearms": 516105,
                        "Computation_method": "2",
                        "ObjectId": 63,
                        "Estimate_of_civilian_firearms_per_100_persons": 12.5,
                        "Registered_firearms": 806895,
                        "Region": "Europe",
                        "Population_2017": 10555000,
                        "Subregion": "Eastern Europe",
                        "Country__or_dependent_territory__subnational_area__etc__": "Czech Republic",
                        "Estimate_of_firearms_in_civilian_possession": 1323000
                      }
                    },
                    {
                      "geometry": {
                        "y": 189562.11919999868,
                        "x": 1150274.5247999988,
                        "spatialReference": {
                          "wkid": 102100,
                          "latestWkid": 3857
                        }
                      },
                      "attributes": {
                        "Computation_method": "2",
                        "ObjectId": 64,
                        "Estimate_of_civilian_firearms_per_100_persons": 12.5,
                        "Region": "Africa",
                        "Population_2017": 894000,
                        "Subregion": "Central Africa",
                        "Country__or_dependent_territory__subnational_area__etc__": "Equatorial Guinea",
                        "Estimate_of_firearms_in_civilian_possession": 112000
                      }
                    },
                    {
                      "geometry": {
                        "y": 2003299.2503000014,
                        "x": -7212032.4728999995,
                        "spatialReference": {
                          "wkid": 102100,
                          "latestWkid": 3857
                        }
                      },
                      "attributes": {
                        "Computation_method": "2",
                        "ObjectId": 65,
                        "Estimate_of_civilian_firearms_per_100_persons": 12.4,
                        "Region": "Africa",
                        "Population_2017": 9225000,
                        "Subregion": "East Africa",
                        "Country__or_dependent_territory__subnational_area__etc__": "Somalia (South Central)",
                        "Estimate_of_firearms_in_civilian_possession": 1145000
                      }
                    },
                    {
                      "geometry": {
                        "y": 8856659.7117,
                        "x": 10776324.665199999,
                        "spatialReference": {
                          "wkid": 102100,
                          "latestWkid": 3857
                        }
                      },
                      "attributes": {
                        "Unregistered_firearms": 11020000,
                        "Computation_method": "2",
                        "ObjectId": 66,
                        "Estimate_of_civilian_firearms_per_100_persons": 12.3,
                        "Registered_firearms": 6600000,
                        "Region": "Europe",
                        "Population_2017": 143375000,
                        "Subregion": "Eastern Europe",
                        "Country__or_dependent_territory__subnational_area__etc__": "Russia",
                        "Estimate_of_firearms_in_civilian_possession": 17620000
                      }
                    },
                    {
                      "geometry": {
                        "y": -3503549.8434999995,
                        "x": -7903683.8463,
                        "spatialReference": {
                          "wkid": 102100,
                          "latestWkid": 3857
                        }
                      },
                      "attributes": {
                        "Unregistered_firearms": 1456818,
                        "Computation_method": "2",
                        "ObjectId": 67,
                        "Estimate_of_civilian_firearms_per_100_persons": 12.1,
                        "Registered_firearms": 763182,
                        "Region": "Americas",
                        "Population_2017": 18313000,
                        "Subregion": "South America",
                        "Country__or_dependent_territory__subnational_area__etc__": "Chile",
                        "Estimate_of_firearms_in_civilian_possession": 2220000
                      }
                    },
                    {
                      "geometry": {
                        "y": 1769687.5989000015,
                        "x": -10059272.1795,
                        "spatialReference": {
                          "wkid": 102100,
                          "latestWkid": 3857
                        }
                      },
                      "attributes": {
                        "Unregistered_firearms": 1541208,
                        "Computation_method": "2",
                        "ObjectId": 68,
                        "Estimate_of_civilian_firearms_per_100_persons": 12.1,
                        "Registered_firearms": 520792,
                        "Region": "Americas",
                        "Population_2017": 17005000,
                        "Subregion": "Central America",
                        "Country__or_dependent_territory__subnational_area__etc__": "Guatemala",
                        "Estimate_of_firearms_in_civilian_possession": 2062000
                      }
                    },
                    {
                      "geometry": {
                        "y": 5032208.546099998,
                        "x": 2233537.2430999987,
                        "spatialReference": {
                          "wkid": 102100,
                          "latestWkid": 3857
                        }
                      },
                      "attributes": {
                        "Unregistered_firearms": 284253,
                        "Computation_method": "2",
                        "ObjectId": 69,
                        "Estimate_of_civilian_firearms_per_100_persons": 12,
                        "Registered_firearms": 65747,
                        "Region": "Europe",
                        "Population_2017": 2911000,
                        "Subregion": "Southern Europe",
                        "Country__or_dependent_territory__subnational_area__etc__": "Albania",
                        "Estimate_of_firearms_in_civilian_possession": 350000
                      }
                    },
                    {
                      "geometry": {
                        "y": 1543655.6922000013,
                        "x": -9892481.6401,
                        "spatialReference": {
                          "wkid": 102100,
                          "latestWkid": 3857
                        }
                      },
                      "attributes": {
                        "Unregistered_firearms": 392413,
                        "Computation_method": "2",
                        "ObjectId": 70,
                        "Estimate_of_civilian_firearms_per_100_persons": 12,
                        "Registered_firearms": 344587,
                        "Region": "Americas",
                        "Population_2017": 6167000,
                        "Subregion": "Central America",
                        "Country__or_dependent_territory__subnational_area__etc__": "El Salvador",
                        "Estimate_of_firearms_in_civilian_possession": 737000
                      }
                    },
                    {
                      "geometry": {
                        "y": 1510454.2544,
                        "x": 16116571.8055,
                        "spatialReference": {
                          "wkid": 102100,
                          "latestWkid": 3857
                        }
                      },
                      "attributes": {
                        "Computation_method": "3",
                        "ObjectId": 71,
                        "Estimate_of_civilian_firearms_per_100_persons": 11.5,
                        "Region": "Oceania",
                        "Population_2017": 174000,
                        "Subregion": "Melanesia",
                        "Country__or_dependent_territory__subnational_area__etc__": "Guam",
                        "Estimate_of_firearms_in_civilian_possession": 20000
                      }
                    },
                    {
                      "geometry": {
                        "y": 2063620.7690999992,
                        "x": -7399290.0495,
                        "spatialReference": {
                          "wkid": 102100,
                          "latestWkid": 3857
                        }
                      },
                      "attributes": {
                        "Computation_method": "2",
                        "ObjectId": 72,
                        "Estimate_of_civilian_firearms_per_100_persons": 11.5,
                        "Region": "Americas",
                        "Population_2017": 3679000,
                        "Subregion": "Caribbean",
                        "Country__or_dependent_territory__subnational_area__etc__": "Puerto Rico",
                        "Estimate_of_firearms_in_civilian_possession": 422000
                      }
                    },
                    {
                      "geometry": {
                        "y": -1379146.6717999987,
                        "x": 1953137.7795000002,
                        "spatialReference": {
                          "wkid": 102100,
                          "latestWkid": 3857
                        }
                      },
                      "attributes": {
                        "Computation_method": "2",
                        "ObjectId": 73,
                        "Estimate_of_civilian_firearms_per_100_persons": 11.2,
                        "Region": "Africa",
                        "Population_2017": 26656000,
                        "Subregion": "Central Africa",
                        "Country__or_dependent_territory__subnational_area__etc__": "Angola",
                        "Estimate_of_firearms_in_civilian_possession": 2982000
                      }
                    },
                    {
                      "geometry": {
                        "y": 7015597.426799998,
                        "x": -906809.2562999986,
                        "spatialReference": {
                          "wkid": 102100,
                          "latestWkid": 3857
                        }
                      },
                      "attributes": {
                        "Unregistered_firearms": 53000,
                        "Computation_method": "1",
                        "ObjectId": 74,
                        "Estimate_of_civilian_firearms_per_100_persons": 11,
                        "Registered_firearms": 153000,
                        "Region": "Europe",
                        "Population_2017": 1873000,
                        "Subregion": "Western Europe",
                        "Country__or_dependent_territory__subnational_area__etc__": "Northern Ireland",
                        "Estimate_of_firearms_in_civilian_possession": 206000
                      }
                    },
                    {
                      "geometry": {
                        "y": 999214.623399999,
                        "x": -8902545.4148,
                        "spatialReference": {
                          "wkid": 102100,
                          "latestWkid": 3857
                        }
                      },
                      "attributes": {
                        "Unregistered_firearms": 256000,
                        "Computation_method": "2",
                        "ObjectId": 75,
                        "Estimate_of_civilian_firearms_per_100_persons": 10.8,
                        "Registered_firearms": 180000,
                        "Region": "Americas",
                        "Population_2017": 4051000,
                        "Subregion": "Central America",
                        "Country__or_dependent_territory__subnational_area__etc__": "Panama",
                        "Estimate_of_firearms_in_civilian_possession": 436000
                      }
                    },
                    {
                      "geometry": {
                        "y": 5969389.986000001,
                        "x": 2162328.9776999988,
                        "spatialReference": {
                          "wkid": 102100,
                          "latestWkid": 3857
                        }
                      },
                      "attributes": {
                        "Unregistered_firearms": 811700,
                        "Computation_method": "1",
                        "ObjectId": 76,
                        "Estimate_of_civilian_firearms_per_100_persons": 10.5,
                        "Registered_firearms": 211300,
                        "Region": "Europe",
                        "Population_2017": 9788000,
                        "Subregion": "Eastern Europe",
                        "Country__or_dependent_territory__subnational_area__etc__": "Hungary",
                        "Estimate_of_firearms_in_civilian_possession": 1023000
                      }
                    },
                    {
                      "geometry": {
                        "y": 7730460.067900002,
                        "x": 2774843.025199998,
                        "spatialReference": {
                          "wkid": 102100,
                          "latestWkid": 3857
                        }
                      },
                      "attributes": {
                        "Unregistered_firearms": 135000,
                        "Computation_method": "2",
                        "ObjectId": 77,
                        "Estimate_of_civilian_firearms_per_100_persons": 10.5,
                        "Registered_firearms": 70000,
                        "Region": "Europe",
                        "Population_2017": 1945000,
                        "Subregion": "Northern Europe",
                        "Country__or_dependent_territory__subnational_area__etc__": "Latvia",
                        "Estimate_of_firearms_in_civilian_possession": 205000
                      }
                    },
                    {
                      "geometry": {
                        "y": 434606.15190000087,
                        "x": -8134755.827500001,
                        "spatialReference": {
                          "wkid": 102100,
                          "latestWkid": 3857
                        }
                      },
                      "attributes": {
                        "Unregistered_firearms": 4264790,
                        "Computation_method": "2",
                        "ObjectId": 78,
                        "Estimate_of_civilian_firearms_per_100_persons": 10.1,
                        "Registered_firearms": 706210,
                        "Region": "Americas",
                        "Population_2017": 49068000,
                        "Subregion": "South America",
                        "Country__or_dependent_territory__subnational_area__etc__": "Colombia",
                        "Estimate_of_firearms_in_civilian_possession": 4971000
                      }
                    },
                    {
                      "geometry": {
                        "y": 5188053.919200003,
                        "x": 4843189.2084,
                        "spatialReference": {
                          "wkid": 102100,
                          "latestWkid": 3857
                        }
                      },
                      "attributes": {
                        "Unregistered_firearms": 243000,
                        "Computation_method": "2",
                        "ObjectId": 79,
                        "Estimate_of_civilian_firearms_per_100_persons": 10.1,
                        "Registered_firearms": 159000,
                        "Region": "Asia",
                        "Population_2017": 3973000,
                        "Subregion": "Western Asia",
                        "Country__or_dependent_territory__subnational_area__etc__": "Georgia",
                        "Estimate_of_firearms_in_civilian_possession": 402000
                      }
                    },
                    {
                      "geometry": {
                        "y": -1530748.3528000005,
                        "x": -19196749.322,
                        "spatialReference": {
                          "wkid": 102100,
                          "latestWkid": 3857
                        }
                      },
                      "attributes": {
                        "Unregistered_firearms": 16000,
                        "Computation_method": "2",
                        "ObjectId": 80,
                        "Estimate_of_civilian_firearms_per_100_persons": 10.1,
                        "Registered_firearms": 4000,
                        "Region": "Oceania",
                        "Population_2017": 196000,
                        "Subregion": "Polynesia",
                        "Country__or_dependent_territory__subnational_area__etc__": "Samoa",
                        "Estimate_of_firearms_in_civilian_possession": 20000
                      }
                    },
                    {
                      "geometry": {
                        "y": 1945173.3553000018,
                        "x": -9873477.956,
                        "spatialReference": {
                          "wkid": 102100,
                          "latestWkid": 3857
                        }
                      },
                      "attributes": {
                        "Unregistered_firearms": 26245,
                        "Computation_method": "2",
                        "ObjectId": 81,
                        "Estimate_of_civilian_firearms_per_100_persons": 10,
                        "Registered_firearms": 10755,
                        "Region": "Americas",
                        "Population_2017": 375000,
                        "Subregion": "Central America",
                        "Country__or_dependent_territory__subnational_area__etc__": "Belize",
                        "Estimate_of_firearms_in_civilian_possession": 37000
                      }
                    },
                    {
                      "geometry": {
                        "y": 1115819.7054000013,
                        "x": -9372691.2953,
                        "spatialReference": {
                          "wkid": 102100,
                          "latestWkid": 3857
                        }
                      },
                      "attributes": {
                        "Unregistered_firearms": 257369,
                        "Computation_method": "2",
                        "ObjectId": 82,
                        "Estimate_of_civilian_firearms_per_100_persons": 10,
                        "Registered_firearms": 235631,
                        "Region": "Americas",
                        "Population_2017": 4906000,
                        "Subregion": "Central America",
                        "Country__or_dependent_territory__subnational_area__etc__": "Costa Rica",
                        "Estimate_of_firearms_in_civilian_possession": 493000
                      }
                    },
                    {
                      "geometry": {
                        "y": 7550317.8549000025,
                        "x": 1119198.8194000013,
                        "spatialReference": {
                          "wkid": 102100,
                          "latestWkid": 3857
                        }
                      },
                      "attributes": {
                        "Unregistered_firearms": 227000,
                        "Computation_method": "1",
                        "ObjectId": 83,
                        "Estimate_of_civilian_firearms_per_100_persons": 9.9,
                        "Registered_firearms": 340000,
                        "Region": "Europe",
                        "Population_2017": 5712000,
                        "Subregion": "Northern Europe",
                        "Country__or_dependent_territory__subnational_area__etc__": "Denmark",
                        "Estimate_of_firearms_in_civilian_possession": 567000
                      }
                    },
                    {
                      "geometry": {
                        "y": 8876025.480099998,
                        "x": -767247.6796999983,
                        "spatialReference": {
                          "wkid": 102100,
                          "latestWkid": 3857
                        }
                      },
                      "attributes": {
                        "Computation_method": "3",
                        "ObjectId": 84,
                        "Estimate_of_civilian_firearms_per_100_persons": 9.9,
                        "Region": "Europe",
                        "Population_2017": 49000,
                        "Subregion": "Northern Europe",
                        "Country__or_dependent_territory__subnational_area__etc__": "Faroe Islands",
                        "Estimate_of_firearms_in_civilian_possession": 5000
                      }
                    },
                    {
                      "geometry": {
                        "y": 6279426.718500003,
                        "x": 3492640.7919000015,
                        "spatialReference": {
                          "wkid": 102100,
                          "latestWkid": 3857
                        }
                      },
                      "attributes": {
                        "Unregistered_firearms": 3596000,
                        "Computation_method": "2",
                        "ObjectId": 85,
                        "Estimate_of_civilian_firearms_per_100_persons": 9.9,
                        "Registered_firearms": 800000,
                        "Region": "Europe",
                        "Population_2017": 44405000,
                        "Subregion": "Eastern Europe",
                        "Country__or_dependent_territory__subnational_area__etc__": "Ukraine",
                        "Estimate_of_firearms_in_civilian_possession": 4396000
                      }
                    },
                    {
                      "geometry": {
                        "y": -3375287.4081999995,
                        "x": 2792454.985800002,
                        "spatialReference": {
                          "wkid": 102100,
                          "latestWkid": 3857
                        }
                      },
                      "attributes": {
                        "Unregistered_firearms": 2351000,
                        "Computation_method": "2",
                        "ObjectId": 86,
                        "Estimate_of_civilian_firearms_per_100_persons": 9.7,
                        "Registered_firearms": 3000000,
                        "Region": "Africa",
                        "Population_2017": 55436000,
                        "Subregion": "Southern Africa",
                        "Country__or_dependent_territory__subnational_area__etc__": "South Africa",
                        "Estimate_of_firearms_in_civilian_possession": 5351000
                      }
                    },
                    {
                      "geometry": {
                        "y": 810739.2485000007,
                        "x": 3377852.5427,
                        "spatialReference": {
                          "wkid": 102100,
                          "latestWkid": 3857
                        }
                      },
                      "attributes": {
                        "Computation_method": "2",
                        "ObjectId": 87,
                        "Estimate_of_civilian_firearms_per_100_persons": 9.6,
                        "Region": "Africa",
                        "Population_2017": 13096000,
                        "Subregion": "East Africa",
                        "Country__or_dependent_territory__subnational_area__etc__": "South Sudan",
                        "Estimate_of_firearms_in_civilian_possession": 1255000
                      }
                    },
                    {
                      "geometry": {
                        "y": 2192461.2074000016,
                        "x": -9043953.9246,
                        "spatialReference": {
                          "wkid": 102100,
                          "latestWkid": 3857
                        }
                      },
                      "attributes": {
                        "Unregistered_firearms": 4444,
                        "Computation_method": "3",
                        "ObjectId": 88,
                        "Estimate_of_civilian_firearms_per_100_persons": 9.2,
                        "Registered_firearms": 1556,
                        "Region": "Americas",
                        "Population_2017": 62000,
                        "Subregion": "Caribbean",
                        "Country__or_dependent_territory__subnational_area__etc__": "Cayman Islands",
                        "Estimate_of_firearms_in_civilian_possession": 6000
                      }
                    },
                    {
                      "geometry": {
                        "y": 2056014.7826000005,
                        "x": -8606232.9977,
                        "spatialReference": {
                          "wkid": 102100,
                          "latestWkid": 3857
                        }
                      },
                      "attributes": {
                        "Unregistered_firearms": 200085,
                        "Computation_method": "2",
                        "ObjectId": 89,
                        "Estimate_of_civilian_firearms_per_100_persons": 8.8,
                        "Registered_firearms": 45915,
                        "Region": "Americas",
                        "Population_2017": 2813000,
                        "Subregion": "Caribbean",
                        "Country__or_dependent_territory__subnational_area__etc__": "Jamaica",
                        "Estimate_of_firearms_in_civilian_possession": 246000
                      }
                    },
                    {
                      "geometry": {
                        "y": 1821492.0132,
                        "x": -6862859.9657000005,
                        "spatialReference": {
                          "wkid": 102100,
                          "latestWkid": 3857
                        }
                      },
                      "attributes": {
                        "Unregistered_firearms": 34500,
                        "Computation_method": "2",
                        "ObjectId": 90,
                        "Estimate_of_civilian_firearms_per_100_persons": 8.5,
                        "Registered_firearms": 5500,
                        "Region": "Americas",
                        "Population_2017": 472000,
                        "Subregion": "Caribbean",
                        "Country__or_dependent_territory__subnational_area__etc__": "Guadeloupe",
                        "Estimate_of_firearms_in_civilian_possession": 40000
                      }
                    },
                    {
                      "geometry": {
                        "y": 1649257.1426,
                        "x": -6792535.053200001,
                        "spatialReference": {
                          "wkid": 102100,
                          "latestWkid": 3857
                        }
                      },
                      "attributes": {
                        "Computation_method": "3",
                        "ObjectId": 91,
                        "Estimate_of_civilian_firearms_per_100_persons": 8.5,
                        "Region": "Americas",
                        "Population_2017": 396000,
                        "Subregion": "Caribbean",
                        "Country__or_dependent_territory__subnational_area__etc__": "Martinique",
                        "Estimate_of_firearms_in_civilian_possession": 34000
                      }
                    },
                    {
                      "geometry": {
                        "y": 2046970.451299999,
                        "x": -7019831.0923999995,
                        "spatialReference": {
                          "wkid": 102100,
                          "latestWkid": 3857
                        }
                      },
                      "attributes": {
                        "Computation_method": "3",
                        "ObjectId": 92,
                        "Estimate_of_civilian_firearms_per_100_persons": 8.5,
                        "Region": "Americas",
                        "Population_2017": 32000,
                        "Subregion": "Caribbean",
                        "Country__or_dependent_territory__subnational_area__etc__": "Saint Martin",
                        "Estimate_of_firearms_in_civilian_possession": 3000
                      }
                    },
                    {
                      "geometry": {
                        "y": 5274755.660400003,
                        "x": 2809304.5599999987,
                        "spatialReference": {
                          "wkid": 102100,
                          "latestWkid": 3857
                        }
                      },
                      "attributes": {
                        "Unregistered_firearms": 244267,
                        "Computation_method": "1",
                        "ObjectId": 93,
                        "Estimate_of_civilian_firearms_per_100_persons": 8.4,
                        "Registered_firearms": 345733,
                        "Region": "Europe",
                        "Population_2017": 7045000,
                        "Subregion": "Eastern Europe",
                        "Country__or_dependent_territory__subnational_area__etc__": "Bulgaria",
                        "Estimate_of_firearms_in_civilian_possession": 590000
                      }
                    },
                    {
                      "geometry": {
                        "y": -1206028.1367999986,
                        "x": -5908111.308700001,
                        "spatialReference": {
                          "wkid": 102100,
                          "latestWkid": 3857
                        }
                      },
                      "attributes": {
                        "Unregistered_firearms": 9429705,
                        "Computation_method": "2",
                        "ObjectId": 94,
                        "Estimate_of_civilian_firearms_per_100_persons": 8.3,
                        "Registered_firearms": 8080295,
                        "Region": "Americas",
                        "Population_2017": 211243000,
                        "Subregion": "South America",
                        "Country__or_dependent_territory__subnational_area__etc__": "Brazil",
                        "Estimate_of_firearms_in_civilian_possession": 17510000
                      }
                    },
                    {
                      "geometry": {
                        "y": -2306652.4811000004,
                        "x": 6408865.404100001,
                        "spatialReference": {
                          "wkid": 102100,
                          "latestWkid": 3857
                        }
                      },
                      "attributes": {
                        "Computation_method": "2",
                        "ObjectId": 95,
                        "Estimate_of_civilian_firearms_per_100_persons": 8.3,
                        "Region": "Africa",
                        "Population_2017": 1281000,
                        "Subregion": "East Africa",
                        "Country__or_dependent_territory__subnational_area__etc__": "Mauritius",
                        "Estimate_of_firearms_in_civilian_possession": 106000
                      }
                    },
                    {
                      "geometry": {
                        "y": 4165621.910599999,
                        "x": 4286387.421,
                        "spatialReference": {
                          "wkid": 102100,
                          "latestWkid": 3857
                        }
                      },
                      "attributes": {
                        "Computation_method": "2",
                        "ObjectId": 96,
                        "Estimate_of_civilian_firearms_per_100_persons": 8.2,
                        "Region": "Asia",
                        "Population_2017": 18907000,
                        "Subregion": "Western Asia",
                        "Country__or_dependent_territory__subnational_area__etc__": "Syria",
                        "Estimate_of_firearms_in_civilian_possession": 1547000
                      }
                    },
                    {
                      "geometry": {
                        "y": 891327.3944000006,
                        "x": -139124.02070000023,
                        "spatialReference": {
                          "wkid": 102100,
                          "latestWkid": 3857
                        }
                      },
                      "attributes": {
                        "Unregistered_firearms": 1043872,
                        "Computation_method": "2",
                        "ObjectId": 97,
                        "Estimate_of_civilian_firearms_per_100_persons": 8,
                        "Registered_firearms": 1236128,
                        "Region": "Africa",
                        "Population_2017": 28657000,
                        "Subregion": "West Africa",
                        "Country__or_dependent_territory__subnational_area__etc__": "Ghana",
                        "Estimate_of_firearms_in_civilian_possession": 2280000
                      }
                    },
                    {
                      "geometry": {
                        "y": -2410807.026299998,
                        "x": -19511593.8801,
                        "spatialReference": {
                          "wkid": 102100,
                          "latestWkid": 3857
                        }
                      },
                      "attributes": {
                        "Computation_method": "2",
                        "ObjectId": 98,
                        "Estimate_of_civilian_firearms_per_100_persons": 8,
                        "Region": "Oceania",
                        "Population_2017": 108000,
                        "Subregion": "Polynesia",
                        "Country__or_dependent_territory__subnational_area__etc__": "Tonga",
                        "Estimate_of_firearms_in_civilian_possession": 9000
                      }
                    },
                    {
                      "geometry": {
                        "y": 5915133.131999999,
                        "x": 11473436.437399998,
                        "spatialReference": {
                          "wkid": 102100,
                          "latestWkid": 3857
                        }
                      },
                      "attributes": {
                        "Unregistered_firearms": 195018,
                        "Computation_method": "3",
                        "ObjectId": 99,
                        "Estimate_of_civilian_firearms_per_100_persons": 7.9,
                        "Registered_firearms": 46982,
                        "Region": "Asia",
                        "Population_2017": 3052000,
                        "Subregion": "East Asia",
                        "Country__or_dependent_territory__subnational_area__etc__": "Mongolia",
                        "Estimate_of_firearms_in_civilian_possession": 242000
                      }
                    },
                    {
                      "geometry": {
                        "y": 4899122.805200003,
                        "x": -405877.8881999999,
                        "spatialReference": {
                          "wkid": 102100,
                          "latestWkid": 3857
                        }
                      },
                      "attributes": {
                        "Unregistered_firearms": 780458,
                        "Computation_method": "1",
                        "ObjectId": 100,
                        "Estimate_of_civilian_firearms_per_100_persons": 7.5,
                        "Registered_firearms": 2683542,
                        "Region": "Europe",
                        "Population_2017": 46070000,
                        "Subregion": "Southern Europe",
                        "Country__or_dependent_territory__subnational_area__etc__": "Spain",
                        "Estimate_of_firearms_in_civilian_possession": 3464000
                      }
                    },
                    {
                      "geometry": {
                        "y": -4231458.4657000005,
                        "x": -7243730.932600001,
                        "spatialReference": {
                          "wkid": 102100,
                          "latestWkid": 3857
                        }
                      },
                      "attributes": {
                        "Unregistered_firearms": 1693668,
                        "Computation_method": "2",
                        "ObjectId": 101,
                        "Estimate_of_civilian_firearms_per_100_persons": 7.4,
                        "Registered_firearms": 1562332,
                        "Region": "Americas",
                        "Population_2017": 44272000,
                        "Subregion": "South America",
                        "Country__or_dependent_territory__subnational_area__etc__": "Argentina",
                        "Estimate_of_firearms_in_civilian_possession": 3256000
                      }
                    },
                    {
                      "geometry": {
                        "y": 2142775.9963999987,
                        "x": -7846914.932600001,
                        "spatialReference": {
                          "wkid": 102100,
                          "latestWkid": 3857
                        }
                      },
                      "attributes": {
                        "Unregistered_firearms": 461574,
                        "Computation_method": "2",
                        "ObjectId": 102,
                        "Estimate_of_civilian_firearms_per_100_persons": 7.4,
                        "Registered_firearms": 333426,
                        "Region": "Americas",
                        "Population_2017": 10767000,
                        "Subregion": "Caribbean",
                        "Country__or_dependent_territory__subnational_area__etc__": "Dominican Republic",
                        "Estimate_of_firearms_in_civilian_possession": 795000
                      }
                    },
                    {
                      "geometry": {
                        "y": 3836784.3805000037,
                        "x": 6045306.2775,
                        "spatialReference": {
                          "wkid": 102100,
                          "latestWkid": 3857
                        }
                      },
                      "attributes": {
                        "Computation_method": "2",
                        "ObjectId": 103,
                        "Estimate_of_civilian_firearms_per_100_persons": 7.3,
                        "Region": "Asia",
                        "Population_2017": 80946000,
                        "Subregion": "South Asia",
                        "Country__or_dependent_territory__subnational_area__etc__": "Iran",
                        "Estimate_of_firearms_in_civilian_possession": 5890000
                      }
                    },
                    {
                      "geometry": {
                        "y": 7015597.426799998,
                        "x": -906809.2562999986,
                        "spatialReference": {
                          "wkid": 102100,
                          "latestWkid": 3857
                        }
                      },
                      "attributes": {
                        "Unregistered_firearms": 142000,
                        "Computation_method": "2",
                        "ObjectId": 104,
                        "Estimate_of_civilian_firearms_per_100_persons": 7.2,
                        "Registered_firearms": 200000,
                        "Region": "Europe",
                        "Population_2017": 4749000,
                        "Subregion": "Western Europe",
                        "Country__or_dependent_territory__subnational_area__etc__": "Ireland",
                        "Estimate_of_firearms_in_civilian_possession": 342000
                      }
                    },
                    {
                      "geometry": {
                        "y": 3760385.2722000033,
                        "x": 3893868.7018,
                        "spatialReference": {
                          "wkid": 102100,
                          "latestWkid": 3857
                        }
                      },
                      "attributes": {
                        "Unregistered_firearms": 267000,
                        "Computation_method": "2",
                        "ObjectId": 105,
                        "Estimate_of_civilian_firearms_per_100_persons": 6.7,
                        "Registered_firearms": 290000,
                        "Region": "Asia",
                        "Population_2017": 8323000,
                        "Subregion": "Western Asia",
                        "Country__or_dependent_territory__subnational_area__etc__": "Israel",
                        "Estimate_of_firearms_in_civilian_possession": 557000
                      }
                    },
                    {
                      "geometry": {
                        "y": 1810890.7159999982,
                        "x": 3340607.6521999985,
                        "spatialReference": {
                          "wkid": 102100,
                          "latestWkid": 3857
                        }
                      },
                      "attributes": {
                        "Unregistered_firearms": 2761276,
                        "Computation_method": "2",
                        "ObjectId": 106,
                        "Estimate_of_civilian_firearms_per_100_persons": 6.6,
                        "Registered_firearms": 6724,
                        "Region": "Africa",
                        "Population_2017": 42166000,
                        "Subregion": "North Africa",
                        "Country__or_dependent_territory__subnational_area__etc__": "Sudan",
                        "Estimate_of_firearms_in_civilian_possession": 2768000
                      }
                    },
                    {
                      "geometry": {
                        "y": 1510963.0218000002,
                        "x": -1712198.5797999986,
                        "spatialReference": {
                          "wkid": 102100,
                          "latestWkid": 3857
                        }
                      },
                      "attributes": {
                        "Computation_method": "2",
                        "ObjectId": 107,
                        "Estimate_of_civilian_firearms_per_100_persons": 6.5,
                        "Region": "Africa",
                        "Population_2017": 2120000,
                        "Subregion": "West Africa",
                        "Country__or_dependent_territory__subnational_area__etc__": "Gambia",
                        "Estimate_of_firearms_in_civilian_possession": 137000
                      }
                    },
                    {
                      "geometry": {
                        "y": 6225577.998800002,
                        "x": 2169366.3079000004,
                        "spatialReference": {
                          "wkid": 102100,
                          "latestWkid": 3857
                        }
                      },
                      "attributes": {
                        "Unregistered_firearms": 75000,
                        "Computation_method": "2",
                        "ObjectId": 108,
                        "Estimate_of_civilian_firearms_per_100_persons": 6.5,
                        "Registered_firearms": 280000,
                        "Region": "Europe",
                        "Population_2017": 5432000,
                        "Subregion": "Eastern Europe",
                        "Country__or_dependent_territory__subnational_area__etc__": "Slovakia",
                        "Estimate_of_firearms_in_civilian_possession": 355000
                      }
                    },
                    {
                      "geometry": {
                        "y": 1739344.2963000014,
                        "x": -6829458.9847,
                        "spatialReference": {
                          "wkid": 102100,
                          "latestWkid": 3857
                        }
                      },
                      "attributes": {
                        "Computation_method": "3",
                        "ObjectId": 109,
                        "Estimate_of_civilian_firearms_per_100_persons": 6.2,
                        "Region": "Americas",
                        "Population_2017": 73000,
                        "Subregion": "Caribbean",
                        "Country__or_dependent_territory__subnational_area__etc__": "Dominica",
                        "Estimate_of_firearms_in_civilian_possession": 5000
                      }
                    },
                    {
                      "geometry": {
                        "y": 465197.4948000014,
                        "x": 8183015.6182,
                        "spatialReference": {
                          "wkid": 102100,
                          "latestWkid": 3857
                        }
                      },
                      "attributes": {
                        "Computation_method": "2",
                        "ObjectId": 110,
                        "Estimate_of_civilian_firearms_per_100_persons": 6.2,
                        "Region": "Asia",
                        "Population_2017": 376000,
                        "Subregion": "South Asia",
                        "Country__or_dependent_territory__subnational_area__etc__": "Maldives",
                        "Estimate_of_firearms_in_civilian_possession": 23000
                      }
                    },
                    {
                      "geometry": {
                        "y": 4908624.424999997,
                        "x": 5002722.552499998,
                        "spatialReference": {
                          "wkid": 102100,
                          "latestWkid": 3857
                        }
                      },
                      "attributes": {
                        "Unregistered_firearms": 140178,
                        "Computation_method": "3",
                        "ObjectId": 111,
                        "Estimate_of_civilian_firearms_per_100_persons": 6.1,
                        "Registered_firearms": 45822,
                        "Region": "Asia",
                        "Population_2017": 3032000,
                        "Subregion": "Western Asia",
                        "Country__or_dependent_territory__subnational_area__etc__": "Armenia",
                        "Estimate_of_firearms_in_civilian_possession": 186000
                      }
                    },
                    {
                      "geometry": {
                        "y": 7083928.456,
                        "x": 3122522.3343,
                        "spatialReference": {
                          "wkid": 102100,
                          "latestWkid": 3857
                        }
                      },
                      "attributes": {
                        "Unregistered_firearms": 451000,
                        "Computation_method": "3",
                        "ObjectId": 112,
                        "Estimate_of_civilian_firearms_per_100_persons": 6.1,
                        "Registered_firearms": 130000,
                        "Region": "Europe",
                        "Population_2017": 9459000,
                        "Subregion": "Eastern Europe",
                        "Country__or_dependent_territory__subnational_area__etc__": "Belarus",
                        "Estimate_of_firearms_in_civilian_possession": 581000
                      }
                    },
                    {
                      "geometry": {
                        "y": 1698840.0034000017,
                        "x": -2629886.4558999985,
                        "spatialReference": {
                          "wkid": 102100,
                          "latestWkid": 3857
                        }
                      },
                      "attributes": {
                        "Computation_method": "2",
                        "ObjectId": 113,
                        "Estimate_of_civilian_firearms_per_100_persons": 5.7,
                        "Region": "Africa",
                        "Population_2017": 533000,
                        "Subregion": "West Africa",
                        "Country__or_dependent_territory__subnational_area__etc__": "Cape Verde",
                        "Estimate_of_firearms_in_civilian_possession": 31000
                      }
                    },
                    {
                      "geometry": {
                        "y": 1929867.5368999988,
                        "x": -6879400.942399999,
                        "spatialReference": {
                          "wkid": 102100,
                          "latestWkid": 3857
                        }
                      },
                      "attributes": {
                        "Unregistered_firearms": 3551,
                        "Computation_method": "2",
                        "ObjectId": 114,
                        "Estimate_of_civilian_firearms_per_100_persons": 5.4,
                        "Registered_firearms": 1449,
                        "Region": "Americas",
                        "Population_2017": 94000,
                        "Subregion": "Caribbean",
                        "Country__or_dependent_territory__subnational_area__etc__": "Antigua and Barbuda",
                        "Estimate_of_firearms_in_civilian_possession": 5000
                      }
                    },
                    {
                      "geometry": {
                        "y": 1890484.1292000003,
                        "x": -6922878.9958999995,
                        "spatialReference": {
                          "wkid": 102100,
                          "latestWkid": 3857
                        }
                      },
                      "attributes": {
                        "Computation_method": "3",
                        "ObjectId": 115,
                        "Estimate_of_civilian_firearms_per_100_persons": 5.4,
                        "Region": "Americas",
                        "Population_2017": 5000,
                        "Subregion": "Caribbean",
                        "Country__or_dependent_territory__subnational_area__etc__": "Montserrat",
                        "Estimate_of_firearms_in_civilian_possession": 300
                      }
                    },
                    {
                      "geometry": {
                        "y": 2677963.1317000017,
                        "x": 8843590.6582,
                        "spatialReference": {
                          "wkid": 102100,
                          "latestWkid": 3857
                        }
                      },
                      "attributes": {
                        "Unregistered_firearms": 61401000,
                        "Computation_method": "2",
                        "ObjectId": 116,
                        "Estimate_of_civilian_firearms_per_100_persons": 5.3,
                        "Registered_firearms": 9700000,
                        "Region": "Asia",
                        "Population_2017": 1342513000,
                        "Subregion": "South Asia",
                        "Country__or_dependent_territory__subnational_area__etc__": "India",
                        "Estimate_of_firearms_in_civilian_possession": 71101000
                      }
                    },
                    {
                      "geometry": {
                        "y": 1452244.9847000018,
                        "x": -9462848.2913,
                        "spatialReference": {
                          "wkid": 102100,
                          "latestWkid": 3857
                        }
                      },
                      "attributes": {
                        "Unregistered_firearms": 180740,
                        "Computation_method": "2",
                        "ObjectId": 117,
                        "Estimate_of_civilian_firearms_per_100_persons": 5.2,
                        "Registered_firearms": 142260,
                        "Region": "Americas",
                        "Population_2017": 6218000,
                        "Subregion": "Central America",
                        "Country__or_dependent_territory__subnational_area__etc__": "Nicaragua",
                        "Estimate_of_firearms_in_civilian_possession": 323000
                      }
                    },
                    {
                      "geometry": {
                        "y": 8109837.437399998,
                        "x": 2836111.602600001,
                        "spatialReference": {
                          "wkid": 102100,
                          "latestWkid": 3857
                        }
                      },
                      "attributes": {
                        "Unregistered_firearms": 18000,
                        "Computation_method": "1",
                        "ObjectId": 118,
                        "Estimate_of_civilian_firearms_per_100_persons": 5,
                        "Registered_firearms": 47000,
                        "Region": "Europe",
                        "Population_2017": 1306000,
                        "Subregion": "Northern Europe",
                        "Country__or_dependent_territory__subnational_area__etc__": "Estonia",
                        "Estimate_of_firearms_in_civilian_possession": 65000
                      }
                    },
                    {
                      "geometry": {
                        "y": -3449973.8004,
                        "x": 3144407.5513000004,
                        "spatialReference": {
                          "wkid": 102100,
                          "latestWkid": 3857
                        }
                      },
                      "attributes": {
                        "Computation_method": "3",
                        "ObjectId": 119,
                        "Estimate_of_civilian_firearms_per_100_persons": 4.8,
                        "Region": "Africa",
                        "Population_2017": 2185000,
                        "Subregion": "Southern Africa",
                        "Country__or_dependent_territory__subnational_area__etc__": "Lesotho",
                        "Estimate_of_firearms_in_civilian_possession": 105000
                      }
                    },
                    {
                      "geometry": {
                        "y": 3763310.6270999983,
                        "x": -556597.4539999999,
                        "spatialReference": {
                          "wkid": 102100,
                          "latestWkid": 3857
                        }
                      },
                      "attributes": {
                        "Computation_method": "2",
                        "ObjectId": 120,
                        "Estimate_of_civilian_firearms_per_100_persons": 4.8,
                        "Region": "Africa",
                        "Population_2017": 35241000,
                        "Subregion": "North Africa",
                        "Country__or_dependent_territory__subnational_area__etc__": "Morocco",
                        "Estimate_of_firearms_in_civilian_possession": 1690000
                      }
                    },
                    {
                      "geometry": {
                        "y": -3069222.5262,
                        "x": 3506335.384300001,
                        "spatialReference": {
                          "wkid": 102100,
                          "latestWkid": 3857
                        }
                      },
                      "attributes": {
                        "Unregistered_firearms": 54000,
                        "Computation_method": "3",
                        "ObjectId": 121,
                        "Estimate_of_civilian_firearms_per_100_persons": 4.8,
                        "Registered_firearms": 10000,
                        "Region": "Africa",
                        "Population_2017": 1320000,
                        "Subregion": "Southern Africa",
                        "Country__or_dependent_territory__subnational_area__etc__": "Swaziland",
                        "Estimate_of_firearms_in_civilian_possession": 64000
                      }
                    },
                    {
                      "geometry": {
                        "y": 3803652.9488999993,
                        "x": -7210168.075999999,
                        "spatialReference": {
                          "wkid": 102100,
                          "latestWkid": 3857
                        }
                      },
                      "attributes": {
                        "Computation_method": "3",
                        "ObjectId": 122,
                        "Estimate_of_civilian_firearms_per_100_persons": 4.6,
                        "Region": "Americas",
                        "Population_2017": 61000,
                        "Subregion": "North America",
                        "Country__or_dependent_territory__subnational_area__etc__": "Bermuda",
                        "Estimate_of_firearms_in_civilian_possession": 3000
                      }
                    },
                    {
                      "geometry": {
                        "y": 1363007.9063999988,
                        "x": -6863920.2793000005,
                        "spatialReference": {
                          "wkid": 102100,
                          "latestWkid": 3857
                        }
                      },
                      "attributes": {
                        "Computation_method": "3",
                        "ObjectId": 123,
                        "Estimate_of_civilian_firearms_per_100_persons": 4.6,
                        "Region": "Americas",
                        "Population_2017": 108000,
                        "Subregion": "Caribbean",
                        "Country__or_dependent_territory__subnational_area__etc__": "Grenada",
                        "Estimate_of_firearms_in_civilian_possession": 5000
                      }
                    },
                    {
                      "geometry": {
                        "y": 1426535.4860000014,
                        "x": 11678653.7714,
                        "spatialReference": {
                          "wkid": 102100,
                          "latestWkid": 3857
                        }
                      },
                      "attributes": {
                        "Computation_method": "2",
                        "ObjectId": 124,
                        "Estimate_of_civilian_firearms_per_100_persons": 4.5,
                        "Region": "Asia",
                        "Population_2017": 16076000,
                        "Subregion": "South-East Asia",
                        "Country__or_dependent_territory__subnational_area__etc__": "Cambodia",
                        "Estimate_of_firearms_in_civilian_possession": 717000
                      }
                    },
                    {
                      "geometry": {
                        "y": -2066831.4600999989,
                        "x": 3896182.1777999997,
                        "spatialReference": {
                          "wkid": 102100,
                          "latestWkid": 3857
                        }
                      },
                      "attributes": {
                        "Unregistered_firearms": 1330000,
                        "Computation_method": "2",
                        "ObjectId": 125,
                        "Estimate_of_civilian_firearms_per_100_persons": 4.5,
                        "Registered_firearms": 7000,
                        "Region": "Africa",
                        "Population_2017": 29538000,
                        "Subregion": "East Africa",
                        "Country__or_dependent_territory__subnational_area__etc__": "Mozambique",
                        "Estimate_of_firearms_in_civilian_possession": 1337000
                      }
                    },
                    {
                      "geometry": {
                        "y": 851797.5214999989,
                        "x": -618349.5579000004,
                        "spatialReference": {
                          "wkid": 102100,
                          "latestWkid": 3857
                        }
                      },
                      "attributes": {
                        "Unregistered_firearms": 1046500,
                        "Computation_method": "3",
                        "ObjectId": 126,
                        "Estimate_of_civilian_firearms_per_100_persons": 4.4,
                        "Registered_firearms": 2500,
                        "Region": "Africa",
                        "Population_2017": 23816000,
                        "Subregion": "West Africa",
                        "Country__or_dependent_territory__subnational_area__etc__": "Ivory Coast",
                        "Estimate_of_firearms_in_civilian_possession": 1049000
                      }
                    },
                    {
                      "geometry": {
                        "y": 2042217.061999999,
                        "x": -7020256.0209,
                        "spatialReference": {
                          "wkid": 102100,
                          "latestWkid": 3857
                        }
                      },
                      "attributes": {
                        "Computation_method": "3",
                        "ObjectId": 127,
                        "Estimate_of_civilian_firearms_per_100_persons": 4.2,
                        "Region": "Americas",
                        "Population_2017": 40000,
                        "Subregion": "Caribbean",
                        "Country__or_dependent_territory__subnational_area__etc__": "Sint Maarten",
                        "Estimate_of_firearms_in_civilian_possession": 2000
                      }
                    },
                    {
                      "geometry": {
                        "y": -2534026.5626000017,
                        "x": 2651004.2397999987,
                        "spatialReference": {
                          "wkid": 102100,
                          "latestWkid": 3857
                        }
                      },
                      "attributes": {
                        "Unregistered_firearms": 64099,
                        "Computation_method": "2",
                        "ObjectId": 128,
                        "Estimate_of_civilian_firearms_per_100_persons": 4.1,
                        "Registered_firearms": 32901,
                        "Region": "Africa",
                        "Population_2017": 2344000,
                        "Subregion": "Southern Africa",
                        "Country__or_dependent_territory__subnational_area__etc__": "Botswana",
                        "Estimate_of_firearms_in_civilian_possession": 97000
                      }
                    },
                    {
                      "geometry": {
                        "y": 3062667.8011000007,
                        "x": 3325168.2776000015,
                        "spatialReference": {
                          "wkid": 102100,
                          "latestWkid": 3857
                        }
                      },
                      "attributes": {
                        "Unregistered_firearms": 3681000,
                        "Computation_method": "2",
                        "ObjectId": 129,
                        "Estimate_of_civilian_firearms_per_100_persons": 4.1,
                        "Registered_firearms": 250000,
                        "Region": "Africa",
                        "Population_2017": 95215000,
                        "Subregion": "North Africa",
                        "Country__or_dependent_territory__subnational_area__etc__": "Egypt",
                        "Estimate_of_firearms_in_civilian_possession": 3931000
                      }
                    },
                    {
                      "geometry": {
                        "y": 4319351.991700001,
                        "x": -595410.3123000003,
                        "spatialReference": {
                          "wkid": 102100,
                          "latestWkid": 3857
                        }
                      },
                      "attributes": {
                        "Computation_method": "1",
                        "ObjectId": 130,
                        "Estimate_of_civilian_firearms_per_100_persons": 4.1,
                        "Region": "Europe",
                        "Population_2017": 32000,
                        "Subregion": "Southern Europe",
                        "Country__or_dependent_territory__subnational_area__etc__": "Gibraltar",
                        "Estimate_of_firearms_in_civilian_possession": 1000
                      }
                    },
                    {
                      "geometry": {
                        "y": -521404.9657000005,
                        "x": 6174587.374499999,
                        "spatialReference": {
                          "wkid": 102100,
                          "latestWkid": 3857
                        }
                      },
                      "attributes": {
                        "Computation_method": "2",
                        "ObjectId": 131,
                        "Estimate_of_civilian_firearms_per_100_persons": 4.1,
                        "Region": "Africa",
                        "Population_2017": 98000,
                        "Subregion": "East Africa",
                        "Country__or_dependent_territory__subnational_area__etc__": "Seychelles",
                        "Estimate_of_firearms_in_civilian_possession": 4000
                      }
                    },
                    {
                      "geometry": {
                        "y": -1717031.3313999996,
                        "x": 18576190.3447,
                        "spatialReference": {
                          "wkid": 102100,
                          "latestWkid": 3857
                        }
                      },
                      "attributes": {
                        "Unregistered_firearms": 6300,
                        "Computation_method": "2",
                        "ObjectId": 132,
                        "Estimate_of_civilian_firearms_per_100_persons": 3.9,
                        "Registered_firearms": 4700,
                        "Region": "Oceania",
                        "Population_2017": 276000,
                        "Subregion": "Melanesia",
                        "Country__or_dependent_territory__subnational_area__etc__": "Vanuatu",
                        "Estimate_of_firearms_in_civilian_possession": 11000
                      }
                    },
                    {
                      "geometry": {
                        "y": 4908197.851800002,
                        "x": 5290871.5066,
                        "spatialReference": {
                          "wkid": 102100,
                          "latestWkid": 3857
                        }
                      },
                      "attributes": {
                        "Computation_method": "2",
                        "ObjectId": 133,
                        "Estimate_of_civilian_firearms_per_100_persons": 3.6,
                        "Region": "Asia",
                        "Population_2017": 9974000,
                        "Subregion": "Western Asia",
                        "Country__or_dependent_territory__subnational_area__etc__": "Azerbaijan",
                        "Estimate_of_firearms_in_civilian_possession": 362000
                      }
                    },
                    {
                      "geometry": {
                        "y": 4378971.093999997,
                        "x": 11569437.687399998,
                        "spatialReference": {
                          "wkid": 102100,
                          "latestWkid": 3857
                        }
                      },
                      "attributes": {
                        "Unregistered_firearms": 49055000,
                        "Computation_method": "2",
                        "ObjectId": 134,
                        "Estimate_of_civilian_firearms_per_100_persons": 3.6,
                        "Registered_firearms": 680000,
                        "Region": "Asia",
                        "Population_2017": 1388233000,
                        "Subregion": "East Asia",
                        "Country__or_dependent_territory__subnational_area__etc__": "China",
                        "Estimate_of_firearms_in_civilian_possession": 49735000
                      }
                    },
                    {
                      "geometry": {
                        "y": 2530483.7994999997,
                        "x": 12641480.598900001,
                        "spatialReference": {
                          "wkid": 102100,
                          "latestWkid": 3857
                        }
                      },
                      "attributes": {
                        "Computation_method": "3",
                        "ObjectId": 135,
                        "Estimate_of_civilian_firearms_per_100_persons": 3.6,
                        "Region": "Asia",
                        "Population_2017": 606000,
                        "Subregion": "East Asia",
                        "Country__or_dependent_territory__subnational_area__etc__": "Macau",
                        "Estimate_of_firearms_in_civilian_possession": 22000
                      }
                    },
                    {
                      "geometry": {
                        "y": 2553834.8247000016,
                        "x": 12703711.9377,
                        "spatialReference": {
                          "wkid": 102100,
                          "latestWkid": 3857
                        }
                      },
                      "attributes": {
                        "Computation_method": "3",
                        "ObjectId": 136,
                        "Estimate_of_civilian_firearms_per_100_persons": 3.6,
                        "Region": "Asia",
                        "Population_2017": 7402000,
                        "Subregion": "East Asia",
                        "Country__or_dependent_territory__subnational_area__etc__": "Hong Kong",
                        "Estimate_of_firearms_in_civilian_possession": 265000
                      }
                    },
                    {
                      "geometry": {
                        "y": 1593137.6396999992,
                        "x": 13454255.108,
                        "spatialReference": {
                          "wkid": 102100,
                          "latestWkid": 3857
                        }
                      },
                      "attributes": {
                        "Unregistered_firearms": 2037000,
                        "Computation_method": "2",
                        "ObjectId": 137,
                        "Estimate_of_civilian_firearms_per_100_persons": 3.6,
                        "Registered_firearms": 1739000,
                        "Region": "Asia",
                        "Population_2017": 103797000,
                        "Subregion": "South-East Asia",
                        "Country__or_dependent_territory__subnational_area__etc__": "Philippines",
                        "Estimate_of_firearms_in_civilian_possession": 3776000
                      }
                    },
                    {
                      "geometry": {
                        "y": 1479415.0883000009,
                        "x": -6629790.8464,
                        "spatialReference": {
                          "wkid": 102100,
                          "latestWkid": 3857
                        }
                      },
                      "attributes": {
                        "Unregistered_firearms": 7000,
                        "Computation_method": "3",
                        "ObjectId": 138,
                        "Estimate_of_civilian_firearms_per_100_persons": 3.5,
                        "Registered_firearms": 3000,
                        "Region": "Americas",
                        "Population_2017": 286000,
                        "Subregion": "Caribbean",
                        "Country__or_dependent_territory__subnational_area__etc__": "Barbados",
                        "Estimate_of_firearms_in_civilian_possession": 10000
                      }
                    },
                    {
                      "geometry": {
                        "y": -69454.05469999835,
                        "x": 1311539.5117000006,
                        "spatialReference": {
                          "wkid": 102100,
                          "latestWkid": 3857
                        }
                      },
                      "attributes": {
                        "Computation_method": "2",
                        "ObjectId": 139,
                        "Estimate_of_civilian_firearms_per_100_persons": 3.4,
                        "Region": "Africa",
                        "Population_2017": 1801000,
                        "Subregion": "Central Africa",
                        "Country__or_dependent_territory__subnational_area__etc__": "Gabon",
                        "Estimate_of_firearms_in_civilian_possession": 61000
                      }
                    },
                    {
                      "geometry": {
                        "y": 1960405.5931999981,
                        "x": -6987035.0594999995,
                        "spatialReference": {
                          "wkid": 102100,
                          "latestWkid": 3857
                        }
                      },
                      "attributes": {
                        "Computation_method": "3",
                        "ObjectId": 140,
                        "Estimate_of_civilian_firearms_per_100_persons": 3.4,
                        "Region": "Americas",
                        "Population_2017": 57000,
                        "Subregion": "Caribbean",
                        "Country__or_dependent_territory__subnational_area__etc__": "Saint Kitts and Nevis",
                        "Estimate_of_firearms_in_civilian_possession": 2000
                      }
                    },
                    {
                      "geometry": {
                        "y": 1562590.3068000004,
                        "x": -6786848.8418000005,
                        "spatialReference": {
                          "wkid": 102100,
                          "latestWkid": 3857
                        }
                      },
                      "attributes": {
                        "Computation_method": "3",
                        "ObjectId": 141,
                        "Estimate_of_civilian_firearms_per_100_persons": 3.4,
                        "Region": "Americas",
                        "Population_2017": 188000,
                        "Subregion": "Caribbean",
                        "Country__or_dependent_territory__subnational_area__etc__": "Saint Lucia",
                        "Estimate_of_firearms_in_civilian_possession": 6000
                      }
                    },
                    {
                      "geometry": {
                        "y": 1482801.5185000002,
                        "x": -6812836.49,
                        "spatialReference": {
                          "wkid": 102100,
                          "latestWkid": 3857
                        }
                      },
                      "attributes": {
                        "Unregistered_firearms": 1135,
                        "Computation_method": "3",
                        "ObjectId": 142,
                        "Estimate_of_civilian_firearms_per_100_persons": 3.4,
                        "Registered_firearms": 2865,
                        "Region": "Americas",
                        "Population_2017": 110000,
                        "Subregion": "Caribbean",
                        "Country__or_dependent_territory__subnational_area__etc__": "Saint Vincent and the Grenadines",
                        "Estimate_of_firearms_in_civilian_possession": 4000
                      }
                    },
                    {
                      "geometry": {
                        "y": 26640.033100001514,
                        "x": 734937.9569000006,
                        "spatialReference": {
                          "wkid": 102100,
                          "latestWkid": 3857
                        }
                      },
                      "attributes": {
                        "Computation_method": "3",
                        "ObjectId": 143,
                        "Estimate_of_civilian_firearms_per_100_persons": 3.4,
                        "Region": "Africa",
                        "Population_2017": 198000,
                        "Subregion": "Central Africa",
                        "Country__or_dependent_territory__subnational_area__etc__": "São Tomé and Príncipe",
                        "Estimate_of_firearms_in_civilian_possession": 7000
                      }
                    },
                    {
                      "geometry": {
                        "y": 2482510.8192000017,
                        "x": -7995312.922700001,
                        "spatialReference": {
                          "wkid": 102100,
                          "latestWkid": 3857
                        }
                      },
                      "attributes": {
                        "Unregistered_firearms": 700,
                        "Computation_method": "2",
                        "ObjectId": 144,
                        "Estimate_of_civilian_firearms_per_100_persons": 3.3,
                        "Registered_firearms": 300,
                        "Region": "Americas",
                        "Population_2017": 35000,
                        "Subregion": "Caribbean",
                        "Country__or_dependent_territory__subnational_area__etc__": "Turks and Caicos Islands",
                        "Estimate_of_firearms_in_civilian_possession": 1000
                      }
                    },
                    {
                      "geometry": {
                        "y": 1072991.0866999999,
                        "x": 902442.3797999993,
                        "spatialReference": {
                          "wkid": 102100,
                          "latestWkid": 3857
                        }
                      },
                      "attributes": {
                        "Computation_method": "2",
                        "ObjectId": 145,
                        "Estimate_of_civilian_firearms_per_100_persons": 3.2,
                        "Region": "Africa",
                        "Population_2017": 191836000,
                        "Subregion": "West Africa",
                        "Country__or_dependent_territory__subnational_area__etc__": "Nigeria",
                        "Estimate_of_firearms_in_civilian_possession": 6154000
                      }
                    },
                    {
                      "geometry": {
                        "y": 1172359.055399999,
                        "x": -6819486.3452,
                        "spatialReference": {
                          "wkid": 102100,
                          "latestWkid": 3857
                        }
                      },
                      "attributes": {
                        "Unregistered_firearms": 32450,
                        "Computation_method": "2",
                        "ObjectId": 146,
                        "Estimate_of_civilian_firearms_per_100_persons": 3.2,
                        "Registered_firearms": 10550,
                        "Region": "Americas",
                        "Population_2017": 1369000,
                        "Subregion": "Caribbean",
                        "Country__or_dependent_territory__subnational_area__etc__": "Trinidad and Tobago",
                        "Estimate_of_firearms_in_civilian_possession": 43000
                      }
                    },
                    {
                      "geometry": {
                        "y": 1315423.8425000012,
                        "x": 4740003.687199999,
                        "spatialReference": {
                          "wkid": 102100,
                          "latestWkid": 3857
                        }
                      },
                      "attributes": {
                        "Computation_method": "2",
                        "ObjectId": 147,
                        "Estimate_of_civilian_firearms_per_100_persons": 3.1,
                        "Region": "Africa",
                        "Population_2017": 911000,
                        "Subregion": "East Africa",
                        "Country__or_dependent_territory__subnational_area__etc__": "Djibouti",
                        "Estimate_of_firearms_in_civilian_possession": 28000
                      }
                    },
                    {
                      "geometry": {
                        "y": 2095628.1083999984,
                        "x": 11551407.3176,
                        "spatialReference": {
                          "wkid": 102100,
                          "latestWkid": 3857
                        }
                      },
                      "attributes": {
                        "Computation_method": "3",
                        "ObjectId": 148,
                        "Estimate_of_civilian_firearms_per_100_persons": 3,
                        "Region": "Asia",
                        "Population_2017": 7038000,
                        "Subregion": "South-East Asia",
                        "Country__or_dependent_territory__subnational_area__etc__": "Laos",
                        "Estimate_of_firearms_in_civilian_possession": 215000
                      }
                    },
                    {
                      "geometry": {
                        "y": 5974948.9553999975,
                        "x": 3168565.278999999,
                        "spatialReference": {
                          "wkid": 102100,
                          "latestWkid": 3857
                        }
                      },
                      "attributes": {
                        "Unregistered_firearms": 66337,
                        "Computation_method": "2",
                        "ObjectId": 149,
                        "Estimate_of_civilian_firearms_per_100_persons": 3,
                        "Registered_firearms": 54663,
                        "Region": "Europe",
                        "Population_2017": 4055000,
                        "Subregion": "Eastern Europe",
                        "Country__or_dependent_territory__subnational_area__etc__": "Moldova",
                        "Estimate_of_firearms_in_civilian_possession": 121000
                      }
                    },
                    {
                      "geometry": {
                        "y": 6137371.416599996,
                        "x": 7480118.2469,
                        "spatialReference": {
                          "wkid": 102100,
                          "latestWkid": 3857
                        }
                      },
                      "attributes": {
                        "Unregistered_firearms": 220000,
                        "Computation_method": "2",
                        "ObjectId": 150,
                        "Estimate_of_civilian_firearms_per_100_persons": 2.8,
                        "Registered_firearms": 284000,
                        "Region": "Asia",
                        "Population_2017": 18064000,
                        "Subregion": "Central Asia",
                        "Country__or_dependent_territory__subnational_area__etc__": "Kazakhstan",
                        "Estimate_of_firearms_in_civilian_possession": 504000
                      }
                    },
                    {
                      "geometry": {
                        "y": 5076268.709899999,
                        "x": 8289694.671799999,
                        "spatialReference": {
                          "wkid": 102100,
                          "latestWkid": 3857
                        }
                      },
                      "attributes": {
                        "Unregistered_firearms": 141763,
                        "Computation_method": "3",
                        "ObjectId": 151,
                        "Estimate_of_civilian_firearms_per_100_persons": 2.8,
                        "Registered_firearms": 29237,
                        "Region": "Asia",
                        "Population_2017": 6125000,
                        "Subregion": "Central Asia",
                        "Country__or_dependent_territory__subnational_area__etc__": "Kyrgyzstan",
                        "Estimate_of_firearms_in_civilian_possession": 171000
                      }
                    },
                    {
                      "geometry": {
                        "y": 2303798.607999999,
                        "x": -1150096.0623000003,
                        "spatialReference": {
                          "wkid": 102100,
                          "latestWkid": 3857
                        }
                      },
                      "attributes": {
                        "Computation_method": "2",
                        "ObjectId": 152,
                        "Estimate_of_civilian_firearms_per_100_persons": 2.8,
                        "Region": "Africa",
                        "Population_2017": 4266000,
                        "Subregion": "West Africa",
                        "Country__or_dependent_territory__subnational_area__etc__": "Mauritania",
                        "Estimate_of_firearms_in_civilian_possession": 120000
                      }
                    },
                    {
                      "geometry": {
                        "y": -2156843.9395999983,
                        "x": 3326702.470400002,
                        "spatialReference": {
                          "wkid": 102100,
                          "latestWkid": 3857
                        }
                      },
                      "attributes": {
                        "Unregistered_firearms": 264315,
                        "Computation_method": "2",
                        "ObjectId": 153,
                        "Estimate_of_civilian_firearms_per_100_persons": 2.8,
                        "Registered_firearms": 190685,
                        "Region": "Africa",
                        "Population_2017": 16338000,
                        "Subregion": "East Africa",
                        "Country__or_dependent_territory__subnational_area__etc__": "Zimbabwe",
                        "Estimate_of_firearms_in_civilian_possession": 455000
                      }
                    },
                    {
                      "geometry": {
                        "y": 1403701.1433000006,
                        "x": -7789080.7664,
                        "spatialReference": {
                          "wkid": 102100,
                          "latestWkid": 3857
                        }
                      },
                      "attributes": {
                        "Computation_method": "3",
                        "ObjectId": 154,
                        "Estimate_of_civilian_firearms_per_100_persons": 2.6,
                        "Region": "Americas",
                        "Population_2017": 105000,
                        "Subregion": "Caribbean",
                        "Country__or_dependent_territory__subnational_area__etc__": "Aruba",
                        "Estimate_of_firearms_in_civilian_possession": 3000
                      }
                    },
                    {
                      "geometry": {
                        "y": 1367738.7485999987,
                        "x": -7677865.054199999,
                        "spatialReference": {
                          "wkid": 102100,
                          "latestWkid": 3857
                        }
                      },
                      "attributes": {
                        "Computation_method": "3",
                        "ObjectId": 155,
                        "Estimate_of_civilian_firearms_per_100_persons": 2.6,
                        "Region": "Americas",
                        "Population_2017": 160000,
                        "Subregion": "Caribbean",
                        "Country__or_dependent_territory__subnational_area__etc__": "Curaçao",
                        "Estimate_of_firearms_in_civilian_possession": 4000
                      }
                    },
                    {
                      "geometry": {
                        "y": 2084712.5086000003,
                        "x": -8052691.9421999995,
                        "spatialReference": {
                          "wkid": 102100,
                          "latestWkid": 3857
                        }
                      },
                      "attributes": {
                        "Unregistered_firearms": 270621,
                        "Computation_method": "2",
                        "ObjectId": 156,
                        "Estimate_of_civilian_firearms_per_100_persons": 2.6,
                        "Registered_firearms": 20379,
                        "Region": "Americas",
                        "Population_2017": 10983000,
                        "Subregion": "Caribbean",
                        "Country__or_dependent_territory__subnational_area__etc__": "Haiti",
                        "Estimate_of_firearms_in_civilian_possession": 291000
                      }
                    },
                    {
                      "geometry": {
                        "y": 6845341.912799999,
                        "x": 625184.3308999985,
                        "spatialReference": {
                          "wkid": 102100,
                          "latestWkid": 3857
                        }
                      },
                      "attributes": {
                        "Unregistered_firearms": 236653,
                        "Computation_method": "1",
                        "ObjectId": 157,
                        "Estimate_of_civilian_firearms_per_100_persons": 2.6,
                        "Registered_firearms": 205347,
                        "Region": "Europe",
                        "Population_2017": 17033000,
                        "Subregion": "Western Europe",
                        "Country__or_dependent_territory__subnational_area__etc__": "Netherlands",
                        "Estimate_of_firearms_in_civilian_possession": 442000
                      }
                    },
                    {
                      "geometry": {
                        "y": 1710971.1711999997,
                        "x": 16225206.5687,
                        "spatialReference": {
                          "wkid": 102100,
                          "latestWkid": 3857
                        }
                      },
                      "attributes": {
                        "Computation_method": "2",
                        "ObjectId": 158,
                        "Estimate_of_civilian_firearms_per_100_persons": 2.6,
                        "Region": "Oceania",
                        "Population_2017": 56000,
                        "Subregion": "Micronesia",
                        "Country__or_dependent_territory__subnational_area__etc__": "Northern Mariana Islands",
                        "Estimate_of_firearms_in_civilian_possession": 1000
                      }
                    },
                    {
                      "geometry": {
                        "y": 5755681.687299997,
                        "x": 2780034.2102999985,
                        "spatialReference": {
                          "wkid": 102100,
                          "latestWkid": 3857
                        }
                      },
                      "attributes": {
                        "Unregistered_firearms": 296000,
                        "Computation_method": "2",
                        "ObjectId": 159,
                        "Estimate_of_civilian_firearms_per_100_persons": 2.6,
                        "Registered_firearms": 210000,
                        "Region": "Europe",
                        "Population_2017": 19238000,
                        "Subregion": "Eastern Europe",
                        "Country__or_dependent_territory__subnational_area__etc__": "Romania",
                        "Estimate_of_firearms_in_civilian_possession": 506000
                      }
                    },
                    {
                      "geometry": {
                        "y": -1999822.8398000002,
                        "x": -16631240.2714,
                        "spatialReference": {
                          "wkid": 102100,
                          "latestWkid": 3857
                        }
                      },
                      "attributes": {
                        "Computation_method": "2",
                        "ObjectId": 160,
                        "Estimate_of_civilian_firearms_per_100_persons": 2.5,
                        "Region": "Oceania",
                        "Population_2017": 289000,
                        "Subregion": "Polynesia",
                        "Country__or_dependent_territory__subnational_area__etc__": "French Polynesia",
                        "Estimate_of_firearms_in_civilian_possession": 7000
                      }
                    },
                    {
                      "geometry": {
                        "y": 6822539.325000003,
                        "x": 2159461.085499998,
                        "spatialReference": {
                          "wkid": 102100,
                          "latestWkid": 3857
                        }
                      },
                      "attributes": {
                        "Unregistered_firearms": 588000,
                        "Computation_method": "1",
                        "ObjectId": 161,
                        "Estimate_of_civilian_firearms_per_100_persons": 2.5,
                        "Registered_firearms": 380000,
                        "Region": "Europe",
                        "Population_2017": 38564000,
                        "Subregion": "Eastern Europe",
                        "Country__or_dependent_territory__subnational_area__etc__": "Poland",
                        "Estimate_of_firearms_in_civilian_possession": 968000
                      }
                    },
                    {
                      "geometry": {
                        "y": -91481.6154000014,
                        "x": 1695985.2120000012,
                        "spatialReference": {
                          "wkid": 102100,
                          "latestWkid": 3857
                        }
                      },
                      "attributes": {
                        "Computation_method": "2",
                        "ObjectId": 162,
                        "Estimate_of_civilian_firearms_per_100_persons": 2.4,
                        "Region": "Africa",
                        "Population_2017": 4866000,
                        "Subregion": "Central Africa",
                        "Country__or_dependent_territory__subnational_area__etc__": "Congo",
                        "Estimate_of_firearms_in_civilian_possession": 119000
                      }
                    },
                    {
                      "geometry": {
                        "y": -159073.81720000133,
                        "x": -8769219.4427,
                        "spatialReference": {
                          "wkid": 102100,
                          "latestWkid": 3857
                        }
                      },
                      "attributes": {
                        "Unregistered_firearms": 234898,
                        "Computation_method": "2",
                        "ObjectId": 163,
                        "Estimate_of_civilian_firearms_per_100_persons": 2.4,
                        "Registered_firearms": 167102,
                        "Region": "Americas",
                        "Population_2017": 16626000,
                        "Subregion": "South America",
                        "Country__or_dependent_territory__subnational_area__etc__": "Ecuador",
                        "Estimate_of_firearms_in_civilian_possession": 402000
                      }
                    },
                    {
                      "geometry": {
                        "y": 850505.4673999995,
                        "x": 8983330.668499999,
                        "spatialReference": {
                          "wkid": 102100,
                          "latestWkid": 3857
                        }
                      },
                      "attributes": {
                        "Unregistered_firearms": 459000,
                        "Computation_method": "2",
                        "ObjectId": 164,
                        "Estimate_of_civilian_firearms_per_100_persons": 2.4,
                        "Registered_firearms": 35000,
                        "Region": "Asia",
                        "Population_2017": 20905000,
                        "Subregion": "South Asia",
                        "Country__or_dependent_territory__subnational_area__etc__": "Sri Lanka",
                        "Estimate_of_firearms_in_civilian_possession": 494000
                      }
                    },
                    {
                      "geometry": {
                        "y": 3267155.4186000004,
                        "x": 298332.44299999997,
                        "spatialReference": {
                          "wkid": 102100,
                          "latestWkid": 3857
                        }
                      },
                      "attributes": {
                        "Unregistered_firearms": 677000,
                        "Computation_method": "2",
                        "ObjectId": 165,
                        "Estimate_of_civilian_firearms_per_100_persons": 2.1,
                        "Registered_firearms": 200000,
                        "Region": "Africa",
                        "Population_2017": 41064000,
                        "Subregion": "North Africa",
                        "Country__or_dependent_territory__subnational_area__etc__": "Algeria",
                        "Estimate_of_firearms_in_civilian_possession": 877000
                      }
                    },
                    {
                      "geometry": {
                        "y": 632475.0579999983,
                        "x": 1417973.1237999983,
                        "spatialReference": {
                          "wkid": 102100,
                          "latestWkid": 3857
                        }
                      },
                      "attributes": {
                        "Computation_method": "2",
                        "ObjectId": 166,
                        "Estimate_of_civilian_firearms_per_100_persons": 2.1,
                        "Region": "Africa",
                        "Population_2017": 24514000,
                        "Subregion": "Central Africa",
                        "Country__or_dependent_territory__subnational_area__etc__": "Cameroon",
                        "Estimate_of_firearms_in_civilian_possession": 510000
                      }
                    },
                    {
                      "geometry": {
                        "y": 2511525.2347999997,
                        "x": -8849899.5181,
                        "spatialReference": {
                          "wkid": 102100,
                          "latestWkid": 3857
                        }
                      },
                      "attributes": {
                        "Unregistered_firearms": 175850,
                        "Computation_method": "2",
                        "ObjectId": 167,
                        "Estimate_of_civilian_firearms_per_100_persons": 2.1,
                        "Registered_firearms": 58150,
                        "Region": "Americas",
                        "Population_2017": 11390000,
                        "Subregion": "Caribbean",
                        "Country__or_dependent_territory__subnational_area__etc__": "Cuba",
                        "Estimate_of_firearms_in_civilian_possession": 234000
                      }
                    },
                    {
                      "geometry": {
                        "y": 719234.3713999987,
                        "x": -1036427.511500001,
                        "spatialReference": {
                          "wkid": 102100,
                          "latestWkid": 3857
                        }
                      },
                      "attributes": {
                        "Computation_method": "2",
                        "ObjectId": 168,
                        "Estimate_of_civilian_firearms_per_100_persons": 2.1,
                        "Region": "Africa",
                        "Population_2017": 4730000,
                        "Subregion": "West Africa",
                        "Country__or_dependent_territory__subnational_area__etc__": "Liberia",
                        "Estimate_of_firearms_in_civilian_possession": 97000
                      }
                    },
                    {
                      "geometry": {
                        "y": -1882544.102499999,
                        "x": -7190960.1417,
                        "spatialReference": {
                          "wkid": 102100,
                          "latestWkid": 3857
                        }
                      },
                      "attributes": {
                        "Unregistered_firearms": 207018,
                        "Computation_method": "3",
                        "ObjectId": 169,
                        "Estimate_of_civilian_firearms_per_100_persons": 2,
                        "Registered_firearms": 10982,
                        "Region": "Americas",
                        "Population_2017": 11053000,
                        "Subregion": "South America",
                        "Country__or_dependent_territory__subnational_area__etc__": "Bolivia",
                        "Estimate_of_firearms_in_civilian_possession": 218000
                      }
                    },
                    {
                      "geometry": {
                        "y": -370044.6110999994,
                        "x": 3331396.2041000016,
                        "spatialReference": {
                          "wkid": 102100,
                          "latestWkid": 3857
                        }
                      },
                      "attributes": {
                        "Computation_method": "2",
                        "ObjectId": 170,
                        "Estimate_of_civilian_firearms_per_100_persons": 2,
                        "Region": "Africa",
                        "Population_2017": 11936000,
                        "Subregion": "East Africa",
                        "Country__or_dependent_territory__subnational_area__etc__": "Burundi",
                        "Estimate_of_firearms_in_civilian_possession": 238000
                      }
                    },
                    {
                      "geometry": {
                        "y": -1118889.9748999998,
                        "x": -8460281.3003,
                        "spatialReference": {
                          "wkid": 102100,
                          "latestWkid": 3857
                        }
                      },
                      "attributes": {
                        "Unregistered_firearms": 267155,
                        "Computation_method": "2",
                        "ObjectId": 171,
                        "Estimate_of_civilian_firearms_per_100_persons": 2,
                        "Registered_firearms": 365845,
                        "Region": "Americas",
                        "Population_2017": 32166000,
                        "Subregion": "South America",
                        "Country__or_dependent_territory__subnational_area__etc__": "Peru",
                        "Estimate_of_firearms_in_civilian_possession": 633000
                      }
                    },
                    {
                      "geometry": {
                        "y": 1615899.5375999995,
                        "x": -1609597.4116000012,
                        "spatialReference": {
                          "wkid": 102100,
                          "latestWkid": 3857
                        }
                      },
                      "attributes": {
                        "Unregistered_firearms": 315947,
                        "Computation_method": "2",
                        "ObjectId": 172,
                        "Estimate_of_civilian_firearms_per_100_persons": 2,
                        "Registered_firearms": 7053,
                        "Region": "Africa",
                        "Population_2017": 16054000,
                        "Subregion": "West Africa",
                        "Country__or_dependent_territory__subnational_area__etc__": "Senegal",
                        "Estimate_of_firearms_in_civilian_possession": 323000
                      }
                    },
                    {
                      "geometry": {
                        "y": 733443.5526,
                        "x": 2280433.3715999983,
                        "spatialReference": {
                          "wkid": 102100,
                          "latestWkid": 3857
                        }
                      },
                      "attributes": {
                        "Computation_method": "2",
                        "ObjectId": 173,
                        "Estimate_of_civilian_firearms_per_100_persons": 1.8,
                        "Region": "Africa",
                        "Population_2017": 5099000,
                        "Subregion": "Central Africa",
                        "Country__or_dependent_territory__subnational_area__etc__": "Central African Republic",
                        "Estimate_of_firearms_in_civilian_possession": 94000
                      }
                    },
                    {
                      "geometry": {
                        "y": 2406130.4651999995,
                        "x": 10743606.1235,
                        "spatialReference": {
                          "wkid": 102100,
                          "latestWkid": 3857
                        }
                      },
                      "attributes": {
                        "Computation_method": "3",
                        "ObjectId": 174,
                        "Estimate_of_civilian_firearms_per_100_persons": 1.6,
                        "Region": "Asia",
                        "Population_2017": 54836000,
                        "Subregion": "South-East Asia",
                        "Country__or_dependent_territory__subnational_area__etc__": "Myanmar",
                        "Estimate_of_firearms_in_civilian_possession": 877000
                      }
                    },
                    {
                      "geometry": {
                        "y": 1824032.1678000018,
                        "x": 12003951.386100002,
                        "spatialReference": {
                          "wkid": 102100,
                          "latestWkid": 3857
                        }
                      },
                      "attributes": {
                        "Computation_method": "2",
                        "ObjectId": 175,
                        "Estimate_of_civilian_firearms_per_100_persons": 1.6,
                        "Region": "Asia",
                        "Population_2017": 95415000,
                        "Subregion": "South-East Asia",
                        "Country__or_dependent_territory__subnational_area__etc__": "Vietnam",
                        "Estimate_of_firearms_in_civilian_possession": 1562000
                      }
                    },
                    {
                      "geometry": {
                        "y": -1307328.6251000017,
                        "x": 4826169.2894,
                        "spatialReference": {
                          "wkid": 102100,
                          "latestWkid": 3857
                        }
                      },
                      "attributes": {
                        "Computation_method": "2",
                        "ObjectId": 176,
                        "Estimate_of_civilian_firearms_per_100_persons": 1.5,
                        "Region": "Africa",
                        "Population_2017": 826000,
                        "Subregion": "East Africa",
                        "Country__or_dependent_territory__subnational_area__etc__": "Comoros",
                        "Estimate_of_firearms_in_civilian_possession": 12000
                      }
                    },
                    {
                      "geometry": {
                        "y": 1346861.3071000017,
                        "x": -1668118.2193000019,
                        "spatialReference": {
                          "wkid": 102100,
                          "latestWkid": 3857
                        }
                      },
                      "attributes": {
                        "Computation_method": "2",
                        "ObjectId": 177,
                        "Estimate_of_civilian_firearms_per_100_persons": 1.5,
                        "Region": "Africa",
                        "Population_2017": 1933000,
                        "Subregion": "West Africa",
                        "Country__or_dependent_territory__subnational_area__etc__": "Guinea-Bissau",
                        "Estimate_of_firearms_in_civilian_possession": 29000
                      }
                    },
                    {
                      "geometry": {
                        "y": 58825.465700000525,
                        "x": 4217861.949099999,
                        "spatialReference": {
                          "wkid": 102100,
                          "latestWkid": 3857
                        }
                      },
                      "attributes": {
                        "Unregistered_firearms": 741864,
                        "Computation_method": "2",
                        "ObjectId": 178,
                        "Estimate_of_civilian_firearms_per_100_persons": 1.5,
                        "Registered_firearms": 8136,
                        "Region": "Africa",
                        "Population_2017": 48467000,
                        "Subregion": "East Africa",
                        "Country__or_dependent_territory__subnational_area__etc__": "Kenya",
                        "Estimate_of_firearms_in_civilian_possession": 750000
                      }
                    },
                    {
                      "geometry": {
                        "y": 3281684.584399998,
                        "x": 9344621.5324,
                        "spatialReference": {
                          "wkid": 102100,
                          "latestWkid": 3857
                        }
                      },
                      "attributes": {
                        "Unregistered_firearms": 409685,
                        "Computation_method": "2",
                        "ObjectId": 179,
                        "Estimate_of_civilian_firearms_per_100_persons": 1.5,
                        "Registered_firearms": 34315,
                        "Region": "Asia",
                        "Population_2017": 29187000,
                        "Subregion": "South Asia",
                        "Country__or_dependent_territory__subnational_area__etc__": "Nepal",
                        "Estimate_of_firearms_in_civilian_possession": 444000
                      }
                    },
                    {
                      "geometry": {
                        "y": 503771.9538999982,
                        "x": 12773995.0814,
                        "spatialReference": {
                          "wkid": 102100,
                          "latestWkid": 3857
                        }
                      },
                      "attributes": {
                        "Computation_method": "2",
                        "ObjectId": 180,
                        "Estimate_of_civilian_firearms_per_100_persons": 1.4,
                        "Region": "Asia",
                        "Population_2017": 434000,
                        "Subregion": "South-East Asia",
                        "Country__or_dependent_territory__subnational_area__etc__": "Brunei",
                        "Estimate_of_firearms_in_civilian_possession": 6000
                      }
                    },
                    {
                      "geometry": {
                        "y": -833985.2281000018,
                        "x": 19889629.304799996,
                        "spatialReference": {
                          "wkid": 102100,
                          "latestWkid": 3857
                        }
                      },
                      "attributes": {
                        "Unregistered_firearms": 50,
                        "Computation_method": "2",
                        "ObjectId": 181,
                        "Estimate_of_civilian_firearms_per_100_persons": 1.2,
                        "Registered_firearms": 50,
                        "Region": "Oceania",
                        "Population_2017": 10000,
                        "Subregion": "Polynesia",
                        "Country__or_dependent_territory__subnational_area__etc__": "Tuvalu",
                        "Estimate_of_firearms_in_civilian_possession": 100
                      }
                    },
                    {
                      "geometry": {
                        "y": 1963118.4697999991,
                        "x": -391897.11290000007,
                        "spatialReference": {
                          "wkid": 102100,
                          "latestWkid": 3857
                        }
                      },
                      "attributes": {
                        "Computation_method": "2",
                        "ObjectId": 182,
                        "Estimate_of_civilian_firearms_per_100_persons": 1.1,
                        "Region": "Africa",
                        "Population_2017": 18690000,
                        "Subregion": "West Africa",
                        "Country__or_dependent_territory__subnational_area__etc__": "Mali",
                        "Estimate_of_firearms_in_civilian_possession": 206000
                      }
                    },
                    {
                      "geometry": {
                        "y": 3751859.1877999976,
                        "x": 3918967.502799999,
                        "spatialReference": {
                          "wkid": 102100,
                          "latestWkid": 3857
                        }
                      },
                      "attributes": {
                        "Computation_method": "2",
                        "ObjectId": 183,
                        "Estimate_of_civilian_firearms_per_100_persons": 1.1,
                        "Region": "Asia",
                        "Population_2017": 4952000,
                        "Subregion": "Western Asia",
                        "Country__or_dependent_territory__subnational_area__etc__": "Palestine",
                        "Estimate_of_firearms_in_civilian_possession": 56000
                      }
                    },
                    {
                      "geometry": {
                        "y": 4044431.4042000026,
                        "x": 1069615.1636000015,
                        "spatialReference": {
                          "wkid": 102100,
                          "latestWkid": 3857
                        }
                      },
                      "attributes": {
                        "Unregistered_firearms": 119592,
                        "Computation_method": "3",
                        "ObjectId": 184,
                        "Estimate_of_civilian_firearms_per_100_persons": 1.1,
                        "Registered_firearms": 3408,
                        "Region": "Africa",
                        "Population_2017": 11495000,
                        "Subregion": "North Africa",
                        "Country__or_dependent_territory__subnational_area__etc__": "Tunisia",
                        "Estimate_of_firearms_in_civilian_possession": 123000
                      }
                    },
                    {
                      "geometry": {
                        "y": 1732601.8244000003,
                        "x": 2078798.6218999997,
                        "spatialReference": {
                          "wkid": 102100,
                          "latestWkid": 3857
                        }
                      },
                      "attributes": {
                        "Computation_method": "2",
                        "ObjectId": 185,
                        "Estimate_of_civilian_firearms_per_100_persons": 1,
                        "Region": "Africa",
                        "Population_2017": 14965000,
                        "Subregion": "Central Africa",
                        "Country__or_dependent_territory__subnational_area__etc__": "Chad",
                        "Estimate_of_firearms_in_civilian_possession": 151000
                      }
                    },
                    {
                      "geometry": {
                        "y": 1168144.863400001,
                        "x": -1218113.6270999983,
                        "spatialReference": {
                          "wkid": 102100,
                          "latestWkid": 3857
                        }
                      },
                      "attributes": {
                        "Computation_method": "2",
                        "ObjectId": 186,
                        "Estimate_of_civilian_firearms_per_100_persons": 1,
                        "Region": "Africa",
                        "Population_2017": 13291000,
                        "Subregion": "West Africa",
                        "Country__or_dependent_territory__subnational_area__etc__": "Guinea",
                        "Estimate_of_firearms_in_civilian_possession": 130000
                      }
                    },
                    {
                      "geometry": {
                        "y": -722398.9519999996,
                        "x": 16169579.1518,
                        "spatialReference": {
                          "wkid": 102100,
                          "latestWkid": 3857
                        }
                      },
                      "attributes": {
                        "Unregistered_firearms": 51957,
                        "Computation_method": "2",
                        "ObjectId": 187,
                        "Estimate_of_civilian_firearms_per_100_persons": 1,
                        "Registered_firearms": 27043,
                        "Region": "Oceania",
                        "Population_2017": 7934000,
                        "Subregion": "Melanesia",
                        "Country__or_dependent_territory__subnational_area__etc__": "Papua New Guinea",
                        "Estimate_of_firearms_in_civilian_possession": 79000
                      }
                    },
                    {
                      "geometry": {
                        "y": 1378310.859099999,
                        "x": -194152.79089999944,
                        "spatialReference": {
                          "wkid": 102100,
                          "latestWkid": 3857
                        }
                      },
                      "attributes": {
                        "Computation_method": "2",
                        "ObjectId": 188,
                        "Estimate_of_civilian_firearms_per_100_persons": 0.9,
                        "Region": "Africa",
                        "Population_2017": 19173000,
                        "Subregion": "West Africa",
                        "Country__or_dependent_territory__subnational_area__etc__": "Burkina Faso",
                        "Estimate_of_firearms_in_civilian_possession": 175000
                      }
                    },
                    {
                      "geometry": {
                        "y": -1628056.7041000016,
                        "x": 3202436.0923000015,
                        "spatialReference": {
                          "wkid": 102100,
                          "latestWkid": 3857
                        }
                      },
                      "attributes": {
                        "Unregistered_firearms": 71358,
                        "Computation_method": "2",
                        "ObjectId": 189,
                        "Estimate_of_civilian_firearms_per_100_persons": 0.9,
                        "Registered_firearms": 86642,
                        "Region": "Africa",
                        "Population_2017": 17238000,
                        "Subregion": "East Africa",
                        "Country__or_dependent_territory__subnational_area__etc__": "Zambia",
                        "Estimate_of_firearms_in_civilian_possession": 158000
                      }
                    },
                    {
                      "geometry": {
                        "y": 3175395.1653999984,
                        "x": 10066201.987599999,
                        "spatialReference": {
                          "wkid": 102100,
                          "latestWkid": 3857
                        }
                      },
                      "attributes": {
                        "Unregistered_firearms": 1691,
                        "Computation_method": "3",
                        "ObjectId": 190,
                        "Estimate_of_civilian_firearms_per_100_persons": 0.8,
                        "Registered_firearms": 4309,
                        "Region": "Asia",
                        "Population_2017": 793000,
                        "Subregion": "South Asia",
                        "Country__or_dependent_territory__subnational_area__etc__": "Bhutan",
                        "Estimate_of_firearms_in_civilian_possession": 6000
                      }
                    },
                    {
                      "geometry": {
                        "y": 206181.84219999984,
                        "x": -17517004.9335,
                        "spatialReference": {
                          "wkid": 102100,
                          "latestWkid": 3857
                        }
                      },
                      "attributes": {
                        "Computation_method": "2",
                        "ObjectId": 191,
                        "Estimate_of_civilian_firearms_per_100_persons": 0.8,
                        "Region": "Oceania",
                        "Population_2017": 116000,
                        "Subregion": "Melanesia",
                        "Country__or_dependent_territory__subnational_area__etc__": "Kiribati",
                        "Estimate_of_firearms_in_civilian_possession": 900
                      }
                    },
                    {
                      "geometry": {
                        "y": -718232.5760000013,
                        "x": 3895661.5044,
                        "spatialReference": {
                          "wkid": 102100,
                          "latestWkid": 3857
                        }
                      },
                      "attributes": {
                        "Unregistered_firearms": 311150,
                        "Computation_method": "2",
                        "ObjectId": 192,
                        "Estimate_of_civilian_firearms_per_100_persons": 0.8,
                        "Registered_firearms": 115850,
                        "Region": "Africa",
                        "Population_2017": 56878000,
                        "Subregion": "East Africa",
                        "Country__or_dependent_territory__subnational_area__etc__": "Tanzania",
                        "Estimate_of_firearms_in_civilian_possession": 427000
                      }
                    },
                    {
                      "geometry": {
                        "y": 954101.2142999992,
                        "x": 108474.61699999869,
                        "spatialReference": {
                          "wkid": 102100,
                          "latestWkid": 3857
                        }
                      },
                      "attributes": {
                        "Unregistered_firearms": 48000,
                        "Computation_method": "2",
                        "ObjectId": 193,
                        "Estimate_of_civilian_firearms_per_100_persons": 0.8,
                        "Registered_firearms": 10000,
                        "Region": "Africa",
                        "Population_2017": 7692000,
                        "Subregion": "West Africa",
                        "Country__or_dependent_territory__subnational_area__etc__": "Togo",
                        "Estimate_of_firearms_in_civilian_possession": 58000
                      }
                    },
                    {
                      "geometry": {
                        "y": 168535.68769999966,
                        "x": 3599594.3988000005,
                        "spatialReference": {
                          "wkid": 102100,
                          "latestWkid": 3857
                        }
                      },
                      "attributes": {
                        "Unregistered_firearms": 309844,
                        "Computation_method": "2",
                        "ObjectId": 194,
                        "Estimate_of_civilian_firearms_per_100_persons": 0.8,
                        "Registered_firearms": 21156,
                        "Region": "Africa",
                        "Population_2017": 41653000,
                        "Subregion": "East Africa",
                        "Country__or_dependent_territory__subnational_area__etc__": "Uganda",
                        "Estimate_of_firearms_in_civilian_possession": 331000
                      }
                    },
                    {
                      "geometry": {
                        "y": 2087977.4070000015,
                        "x": -7190594.2871,
                        "spatialReference": {
                          "wkid": 102100,
                          "latestWkid": 3857
                        }
                      },
                      "attributes": {
                        "Unregistered_firearms": 252,
                        "Computation_method": "2",
                        "ObjectId": 195,
                        "Estimate_of_civilian_firearms_per_100_persons": 0.8,
                        "Registered_firearms": 48,
                        "Region": "Americas",
                        "Population_2017": 31000,
                        "Subregion": "Caribbean",
                        "Country__or_dependent_territory__subnational_area__etc__": "British Virgin Islands",
                        "Estimate_of_firearms_in_civilian_possession": 300
                      }
                    },
                    {
                      "geometry": {
                        "y": -1608736.4503999986,
                        "x": -19004253.7559,
                        "spatialReference": {
                          "wkid": 102100,
                          "latestWkid": 3857
                        }
                      },
                      "attributes": {
                        "Unregistered_firearms": 150,
                        "Computation_method": "2",
                        "ObjectId": 196,
                        "Estimate_of_civilian_firearms_per_100_persons": 0.7,
                        "Registered_firearms": 250,
                        "Region": "Oceania",
                        "Population_2017": 56000,
                        "Subregion": "Polynesia",
                        "Country__or_dependent_territory__subnational_area__etc__": "American Samoa",
                        "Estimate_of_firearms_in_civilian_possession": 400
                      }
                    },
                    {
                      "geometry": {
                        "y": -2199365.617800001,
                        "x": 5198384.520100001,
                        "spatialReference": {
                          "wkid": 102100,
                          "latestWkid": 3857
                        }
                      },
                      "attributes": {
                        "Computation_method": "2",
                        "ObjectId": 197,
                        "Estimate_of_civilian_firearms_per_100_persons": 0.7,
                        "Region": "Africa",
                        "Population_2017": 25613000,
                        "Subregion": "East Africa",
                        "Country__or_dependent_territory__subnational_area__etc__": "Madagascar",
                        "Estimate_of_firearms_in_civilian_possession": 168000
                      }
                    },
                    {
                      "geometry": {
                        "y": 278387.0760000013,
                        "x": 12523442.714200001,
                        "spatialReference": {
                          "wkid": 102100,
                          "latestWkid": 3857
                        }
                      },
                      "attributes": {
                        "Unregistered_firearms": 74962,
                        "Computation_method": "2",
                        "ObjectId": 198,
                        "Estimate_of_civilian_firearms_per_100_persons": 0.7,
                        "Registered_firearms": 142038,
                        "Region": "Asia",
                        "Population_2017": 31164000,
                        "Subregion": "South-East Asia",
                        "Country__or_dependent_territory__subnational_area__etc__": "Malaysia",
                        "Estimate_of_firearms_in_civilian_possession": 217000
                      }
                    },
                    {
                      "geometry": {
                        "y": 767768.1528999992,
                        "x": 17613806.787199996,
                        "spatialReference": {
                          "wkid": 102100,
                          "latestWkid": 3857
                        }
                      },
                      "attributes": {
                        "Computation_method": "2",
                        "ObjectId": 199,
                        "Estimate_of_civilian_firearms_per_100_persons": 0.7,
                        "Region": "Oceania",
                        "Population_2017": 106000,
                        "Subregion": "Micronesia",
                        "Country__or_dependent_territory__subnational_area__etc__": "F.S. Micronesia",
                        "Estimate_of_firearms_in_civilian_possession": 700
                      }
                    },
                    {
                      "geometry": {
                        "y": -2018291.6411000006,
                        "x": 19810787.4282,
                        "spatialReference": {
                          "wkid": 102100,
                          "latestWkid": 3857
                        }
                      },
                      "attributes": {
                        "Unregistered_firearms": 3462,
                        "Computation_method": "2",
                        "ObjectId": 200,
                        "Estimate_of_civilian_firearms_per_100_persons": 0.5,
                        "Registered_firearms": 1538,
                        "Region": "Oceania",
                        "Population_2017": 903000,
                        "Subregion": "Melanesia",
                        "Country__or_dependent_territory__subnational_area__etc__": "Fiji",
                        "Estimate_of_firearms_in_civilian_possession": 5000
                      }
                    },
                    {
                      "geometry": {
                        "y": 788934.0474000014,
                        "x": 19068506.6845,
                        "spatialReference": {
                          "wkid": 102100,
                          "latestWkid": 3857
                        }
                      },
                      "attributes": {
                        "Computation_method": "2",
                        "ObjectId": 201,
                        "Estimate_of_civilian_firearms_per_100_persons": 0.5,
                        "Region": "Oceania",
                        "Population_2017": 53000,
                        "Subregion": "Melanesia",
                        "Country__or_dependent_territory__subnational_area__etc__": "Marshall Islands",
                        "Estimate_of_firearms_in_civilian_possession": 300
                      }
                    },
                    {
                      "geometry": {
                        "y": 1969873.5808000006,
                        "x": 1046589.4136999995,
                        "spatialReference": {
                          "wkid": 102100,
                          "latestWkid": 3857
                        }
                      },
                      "attributes": {
                        "Unregistered_firearms": 115000,
                        "Computation_method": "2",
                        "ObjectId": 202,
                        "Estimate_of_civilian_firearms_per_100_persons": 0.5,
                        "Registered_firearms": 2000,
                        "Region": "Africa",
                        "Population_2017": 21564000,
                        "Subregion": "West Africa",
                        "Country__or_dependent_territory__subnational_area__etc__": "Niger",
                        "Estimate_of_firearms_in_civilian_possession": 117000
                      }
                    },
                    {
                      "geometry": {
                        "y": 828475.2564000003,
                        "x": 14973762.825400002,
                        "spatialReference": {
                          "wkid": 102100,
                          "latestWkid": 3857
                        }
                      },
                      "attributes": {
                        "Computation_method": "2",
                        "ObjectId": 203,
                        "Estimate_of_civilian_firearms_per_100_persons": 0.5,
                        "Region": "Oceania",
                        "Population_2017": 22000,
                        "Subregion": "Melanesia",
                        "Country__or_dependent_territory__subnational_area__etc__": "Palau",
                        "Estimate_of_firearms_in_civilian_possession": 100
                      }
                    },
                    {
                      "geometry": {
                        "y": -222505.42709999904,
                        "x": 3334721.4657999985,
                        "spatialReference": {
                          "wkid": 102100,
                          "latestWkid": 3857
                        }
                      },
                      "attributes": {
                        "Computation_method": "2",
                        "ObjectId": 204,
                        "Estimate_of_civilian_firearms_per_100_persons": 0.5,
                        "Region": "Africa",
                        "Population_2017": 12160000,
                        "Subregion": "East Africa",
                        "Country__or_dependent_territory__subnational_area__etc__": "Rwanda",
                        "Estimate_of_firearms_in_civilian_possession": 66000
                      }
                    },
                    {
                      "geometry": {
                        "y": 956238.6911999993,
                        "x": -1312682.9730999991,
                        "spatialReference": {
                          "wkid": 102100,
                          "latestWkid": 3857
                        }
                      },
                      "attributes": {
                        "Computation_method": "2",
                        "ObjectId": 205,
                        "Estimate_of_civilian_firearms_per_100_persons": 0.5,
                        "Region": "Africa",
                        "Population_2017": 6733000,
                        "Subregion": "West Africa",
                        "Country__or_dependent_territory__subnational_area__etc__": "Sierra Leone",
                        "Estimate_of_firearms_in_civilian_possession": 35000
                      }
                    },
                    {
                      "geometry": {
                        "y": 2729624.355900001,
                        "x": 10050864.7128,
                        "spatialReference": {
                          "wkid": 102100,
                          "latestWkid": 3857
                        }
                      },
                      "attributes": {
                        "Unregistered_firearms": 474000,
                        "Computation_method": "2",
                        "ObjectId": 206,
                        "Estimate_of_civilian_firearms_per_100_persons": 0.4,
                        "Registered_firearms": 185000,
                        "Region": "Asia",
                        "Population_2017": 164828000,
                        "Subregion": "South Asia",
                        "Country__or_dependent_territory__subnational_area__etc__": "Bangladesh",
                        "Estimate_of_firearms_in_civilian_possession": 659000
                      }
                    },
                    {
                      "geometry": {
                        "y": 1731046.9598999992,
                        "x": 4325949.652600002,
                        "spatialReference": {
                          "wkid": 102100,
                          "latestWkid": 3857
                        }
                      },
                      "attributes": {
                        "Computation_method": "2",
                        "ObjectId": 207,
                        "Estimate_of_civilian_firearms_per_100_persons": 0.4,
                        "Region": "Africa",
                        "Population_2017": 5482000,
                        "Subregion": "East Africa",
                        "Country__or_dependent_territory__subnational_area__etc__": "Eritrea",
                        "Estimate_of_firearms_in_civilian_possession": 23000
                      }
                    },
                    {
                      "geometry": {
                        "y": 963111.9516999982,
                        "x": 4413233.397100002,
                        "spatialReference": {
                          "wkid": 102100,
                          "latestWkid": 3857
                        }
                      },
                      "attributes": {
                        "Computation_method": "2",
                        "ObjectId": 208,
                        "Estimate_of_civilian_firearms_per_100_persons": 0.4,
                        "Region": "Africa",
                        "Population_2017": 104345000,
                        "Subregion": "East Africa",
                        "Country__or_dependent_territory__subnational_area__etc__": "Ethiopia",
                        "Estimate_of_firearms_in_civilian_possession": 377000
                      }
                    },
                    {
                      "geometry": {
                        "y": 4721671.5726,
                        "x": 7903683.846299998,
                        "spatialReference": {
                          "wkid": 102100,
                          "latestWkid": 3857
                        }
                      },
                      "attributes": {
                        "Unregistered_firearms": 27137,
                        "Computation_method": "2",
                        "ObjectId": 209,
                        "Estimate_of_civilian_firearms_per_100_persons": 0.4,
                        "Registered_firearms": 9863,
                        "Region": "Asia",
                        "Population_2017": 8858000,
                        "Subregion": "Central Asia",
                        "Country__or_dependent_territory__subnational_area__etc__": "Tajikistan",
                        "Estimate_of_firearms_in_civilian_possession": 37000
                      }
                    },
                    {
                      "geometry": {
                        "y": 4749406.440399997,
                        "x": 6587359.0243999995,
                        "spatialReference": {
                          "wkid": 102100,
                          "latestWkid": 3857
                        }
                      },
                      "attributes": {
                        "Computation_method": "3",
                        "ObjectId": 210,
                        "Estimate_of_civilian_firearms_per_100_persons": 0.4,
                        "Region": "Asia",
                        "Population_2017": 5503000,
                        "Subregion": "Central Asia",
                        "Country__or_dependent_territory__subnational_area__etc__": "Turkmenistan",
                        "Estimate_of_firearms_in_civilian_possession": 23000
                      }
                    },
                    {
                      "geometry": {
                        "y": 5098471.894400001,
                        "x": 7060091.7223000005,
                        "spatialReference": {
                          "wkid": 102100,
                          "latestWkid": 3857
                        }
                      },
                      "attributes": {
                        "Computation_method": "3",
                        "ObjectId": 211,
                        "Estimate_of_civilian_firearms_per_100_persons": 0.4,
                        "Region": "Asia",
                        "Population_2017": 30691000,
                        "Subregion": "Central Asia",
                        "Country__or_dependent_territory__subnational_area__etc__": "Uzbekistan",
                        "Estimate_of_firearms_in_civilian_possession": 127000
                      }
                    },
                    {
                      "geometry": {
                        "y": 1080697.5141000003,
                        "x": 260398.20650000125,
                        "spatialReference": {
                          "wkid": 102100,
                          "latestWkid": 3857
                        }
                      },
                      "attributes": {
                        "Computation_method": "2",
                        "ObjectId": 212,
                        "Estimate_of_civilian_firearms_per_100_persons": 0.3,
                        "Region": "Africa",
                        "Population_2017": 11459000,
                        "Subregion": "West Africa",
                        "Country__or_dependent_territory__subnational_area__etc__": "Benin",
                        "Estimate_of_firearms_in_civilian_possession": 33000
                      }
                    },
                    {
                      "geometry": {
                        "y": 4391158.216300003,
                        "x": 15503631.9054,
                        "spatialReference": {
                          "wkid": 102100,
                          "latestWkid": 3857
                        }
                      },
                      "attributes": {
                        "Unregistered_firearms": 201779,
                        "Computation_method": "2",
                        "ObjectId": 213,
                        "Estimate_of_civilian_firearms_per_100_persons": 0.3,
                        "Registered_firearms": 175221,
                        "Region": "Asia",
                        "Population_2017": 126045000,
                        "Subregion": "East Asia",
                        "Country__or_dependent_territory__subnational_area__etc__": "Japan",
                        "Estimate_of_firearms_in_civilian_possession": 377000
                      }
                    },
                    {
                      "geometry": {
                        "y": 4886573.552199997,
                        "x": 14156465.348899998,
                        "spatialReference": {
                          "wkid": 102100,
                          "latestWkid": 3857
                        }
                      },
                      "attributes": {
                        "Computation_method": "3",
                        "ObjectId": 214,
                        "Estimate_of_civilian_firearms_per_100_persons": 0.3,
                        "Region": "Asia",
                        "Population_2017": 25405000,
                        "Subregion": "East Asia",
                        "Country__or_dependent_territory__subnational_area__etc__": "North Korea",
                        "Estimate_of_firearms_in_civilian_possession": 76000
                      }
                    },
                    {
                      "geometry": {
                        "y": -1518004.6110999994,
                        "x": 3811661.252799999,
                        "spatialReference": {
                          "wkid": 102100,
                          "latestWkid": 3857
                        }
                      },
                      "attributes": {
                        "Unregistered_firearms": 34500,
                        "Computation_method": "2",
                        "ObjectId": 215,
                        "Estimate_of_civilian_firearms_per_100_persons": 0.3,
                        "Registered_firearms": 12500,
                        "Region": "Africa",
                        "Population_2017": 18299000,
                        "Subregion": "East Africa",
                        "Country__or_dependent_territory__subnational_area__etc__": "Malawi",
                        "Estimate_of_firearms_in_civilian_possession": 47000
                      }
                    },
                    {
                      "geometry": {
                        "y": 150678.71040000021,
                        "x": 11556800.932999998,
                        "spatialReference": {
                          "wkid": 102100,
                          "latestWkid": 3857
                        }
                      },
                      "attributes": {
                        "Unregistered_firearms": 19205,
                        "Computation_method": "3",
                        "ObjectId": 216,
                        "Estimate_of_civilian_firearms_per_100_persons": 0.3,
                        "Registered_firearms": 795,
                        "Region": "Asia",
                        "Population_2017": 5785000,
                        "Subregion": "South-East Asia",
                        "Country__or_dependent_territory__subnational_area__etc__": "Singapore",
                        "Estimate_of_firearms_in_civilian_possession": 20000
                      }
                    },
                    {
                      "geometry": {
                        "y": -986408.9120999984,
                        "x": 14010116.959299996,
                        "spatialReference": {
                          "wkid": 102100,
                          "latestWkid": 3857
                        }
                      },
                      "attributes": {
                        "Computation_method": "2",
                        "ObjectId": 217,
                        "Estimate_of_civilian_firearms_per_100_persons": 0.3,
                        "Region": "Asia",
                        "Population_2017": 1237000,
                        "Subregion": "South-East Asia",
                        "Country__or_dependent_territory__subnational_area__etc__": "East Timor",
                        "Estimate_of_firearms_in_civilian_possession": 3000
                      }
                    },
                    {
                      "geometry": {
                        "y": 4349755.093900003,
                        "x": 14227342.915399998,
                        "spatialReference": {
                          "wkid": 102100,
                          "latestWkid": 3857
                        }
                      },
                      "attributes": {
                        "Unregistered_firearms": 39470,
                        "Computation_method": "2",
                        "ObjectId": 218,
                        "Estimate_of_civilian_firearms_per_100_persons": 0.2,
                        "Registered_firearms": 39530,
                        "Region": "Asia",
                        "Population_2017": 50705000,
                        "Subregion": "East Asia",
                        "Country__or_dependent_territory__subnational_area__etc__": "South Korea",
                        "Estimate_of_firearms_in_civilian_possession": 79000
                      }
                    },
                    {
                      "geometry": {
                        "y": -1076277.3500999995,
                        "x": 17828961.889,
                        "spatialReference": {
                          "wkid": 102100,
                          "latestWkid": 3857
                        }
                      },
                      "attributes": {
                        "Computation_method": "2",
                        "ObjectId": 219,
                        "Estimate_of_civilian_firearms_per_100_persons": 0.2,
                        "Region": "Oceania",
                        "Population_2017": 606000,
                        "Subregion": "Melanesia",
                        "Country__or_dependent_territory__subnational_area__etc__": "Solomon Islands",
                        "Estimate_of_firearms_in_civilian_possession": 1000
                      }
                    },
                    {
                      "geometry": {
                        "y": -1173794.633299999,
                        "x": 11759398.279399998,
                        "spatialReference": {
                          "wkid": 102100,
                          "latestWkid": 3857
                        }
                      },
                      "attributes": {
                        "Computation_method": "2",
                        "ObjectId": 220,
                        "Estimate_of_civilian_firearms_per_100_persons": 0,
                        "Region": "Asia",
                        "Population_2017": 2000,
                        "Subregion": "South-East Asia",
                        "Country__or_dependent_territory__subnational_area__etc__": "Christmas Island",
                        "Estimate_of_firearms_in_civilian_possession": "–"
                      }
                    },
                    {
                      "geometry": {
                        "y": 5146348.196000002,
                        "x": 1386295.0146999992,
                        "spatialReference": {
                          "wkid": 102100,
                          "latestWkid": 3857
                        }
                      },
                      "attributes": {
                        "Computation_method": "2",
                        "ObjectId": 221,
                        "Estimate_of_civilian_firearms_per_100_persons": 0,
                        "Region": "Europe",
                        "Population_2017": 1000,
                        "Subregion": "Southern Europe",
                        "Country__or_dependent_territory__subnational_area__etc__": "Holy See",
                        "Estimate_of_firearms_in_civilian_possession": "–"
                      }
                    },
                    {
                      "geometry": {
                        "y": -110191.53720000014,
                        "x": 12681056.085099999,
                        "spatialReference": {
                          "wkid": 102100,
                          "latestWkid": 3857
                        }
                      },
                      "attributes": {
                        "Unregistered_firearms": 40898,
                        "Computation_method": "2",
                        "ObjectId": 222,
                        "Estimate_of_civilian_firearms_per_100_persons": 0,
                        "Registered_firearms": 41102,
                        "Region": "Asia",
                        "Population_2017": 263510000,
                        "Subregion": "South-East Asia",
                        "Country__or_dependent_territory__subnational_area__etc__": "Indonesia",
                        "Estimate_of_firearms_in_civilian_possession": 82000
                      }
                    },
                    {
                      "geometry": {
                        "y": -58837.715300001204,
                        "x": 18583029.576700002,
                        "spatialReference": {
                          "wkid": 102100,
                          "latestWkid": 3857
                        }
                      },
                      "attributes": {
                        "Computation_method": "2",
                        "ObjectId": 223,
                        "Estimate_of_civilian_firearms_per_100_persons": 0,
                        "Region": "Oceania",
                        "Population_2017": 10000,
                        "Subregion": "Melanesia",
                        "Country__or_dependent_territory__subnational_area__etc__": "Nauru",
                        "Estimate_of_firearms_in_civilian_possession": "–"
                      }
                    },
                    {
                      "geometry": {
                        "y": 2723316.4629000016,
                        "x": 13464478.0178,
                        "spatialReference": {
                          "wkid": 102100,
                          "latestWkid": 3857
                        }
                      },
                      "attributes": {
                        "Unregistered_firearms": 5000,
                        "Computation_method": "2",
                        "ObjectId": 224,
                        "Estimate_of_civilian_firearms_per_100_persons": 0,
                        "Registered_firearms": 5000,
                        "Region": "Asia",
                        "Population_2017": 23405000,
                        "Subregion": "East Asia",
                        "Country__or_dependent_territory__subnational_area__etc__": "Taiwan",
                        "Estimate_of_firearms_in_civilian_possession": 10000
                      }
                    }
                  ]
                },
                "options": {
                  "field_name": "Estimate_of_civilian_firearms_per_100_persons",
                  "renderer": "ClassedSizeRenderer"
                },
                "_hashFromPython": "8732630434285",
                "layerDefinition": {
                  "supportsValidateSql": true,
                  "standardMaxRecordCount": 32000,
                  "extent": {
                    "xmin": -19511593.8801,
                    "ymin": -6754239.916499998,
                    "ymax": 12815904.815399997,
                    "xmax": 19889629.304799996,
                    "spatialReference": {
                      "wkid": 102100,
                      "latestWkid": 3857
                    }
                  },
                  "supportsCalculate": true,
                  "supportsLayerOverrides ": true,
                  "supportsASyncCalculate": true,
                  "supportsCoordinatesQuantization": true,
                  "supportsRollbackOnFailureParameter": true,
                  "allowGeometryUpdates": true,
                  "globalIdField": "",
                  "supportsAdvancedQueries": true,
                  "supportsAppend": true,
                  "supportsAttachmentsResizing": true,
                  "id": 0,
                  "preferredTimeReference": null,
                  "relationships": [],
                  "drawingInfo": {
                    "renderer": {
                      "symbol": {
                        "contentType": "image/png",
                        "imageData": "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",
                        "url": "http://static.arcgis.com/images/Symbols/Basic/RedSphere.png",
                        "height": 15,
                        "width": 15,
                        "type": "esriPMS"
                      },
                      "type": "simple"
                    }
                  },
                  "supportsReturningQueryGeometry": true,
                  "capabilities": "Create,Delete,Query,Update,Editing",
                  "indexes": [],
                  "currentVersion": 10.81,
                  "geometryType": "esriGeometryPoint",
                  "supportsFieldDescriptionProperty": true,
                  "advancedQueryCapabilities": {
                    "supportsOrderBy": true,
                    "supportsQueryWithResultType": true,
                    "supportsAdvancedQueryRelated": true,
                    "supportsQueryWithCacheHint": true,
                    "supportsCountDistinct": true,
                    "supportsQueryAnalytic": true,
                    "supportsReturningGeometryCentroid": false,
                    "supportsQueryWithDistance": true,
                    "supportsQueryRelatedPagination": true,
                    "supportsDistinct": true,
                    "supportsReturningQueryExtent": true,
                    "supportsPaginationOnAggregatedQueries": true,
                    "supportsHavingClause": true,
                    "supportsPercentileStatistics": true,
                    "supportsOutFieldSQLExpression": true,
                    "supportsQueryWithDatumTransformation": true,
                    "supportsStatistics": true,
                    "supportsMaxRecordCountFactor": true,
                    "supportsDisjointSpatialRel": true,
                    "supportsTopFeaturesQuery": true,
                    "supportsPagination": true,
                    "supportsSqlExpression": true
                  },
                  "type": "Feature Layer",
                  "useStandardizedQueries": false,
                  "supportedQueryFormats": "JSON, geoJSON",
                  "isDataVersioned": false,
                  "supportsAttachmentsByUploadId": true,
                  "supportsApplyEditsWithGlobalIds": false,
                  "dateFieldsTimeReference": {
                    "timeZone": "UTC",
                    "respectsDaylightSaving": false
                  },
                  "description": "",
                  "supportsTruncate": false,
                  "hasStaticData": false,
                  "defaultVisibility": true,
                  "supportsQuantizationEditMode": true,
                  "objectIdField": "ObjectId",
                  "tileMaxRecordCount": 8000,
                  "standardMaxRecordCountNoGeometry": 32000,
                  "htmlPopupType": "esriServerHTMLPopupTypeNone",
                  "types": [],
                  "hasM": false,
                  "displayField": "",
                  "typeIdField": "",
                  "name": "",
                  "templates": [
                    {
                      "prototype": {
                        "attributes": {
                          "Unregistered_firearms": null,
                          "Computation_method": null,
                          "Estimate_of_civilian_firearms_per_100_persons": null,
                          "Registered_firearms": null,
                          "Region": null,
                          "Population_2017": null,
                          "Subregion": null,
                          "Country__or_dependent_territory__subnational_area__etc__": null,
                          "Estimate_of_firearms_in_civilian_possession": null
                        }
                      },
                      "drawingTool": "esriFeatureEditToolPoint",
                      "name": "New Feature",
                      "description": ""
                    }
                  ],
                  "supportsStatistics": true,
                  "hasAttachments": false,
                  "fields": [
                    {
                      "domain": null,
                      "name": "Country__or_dependent_territory__subnational_area__etc__",
                      "nullable": true,
                      "defaultValue": null,
                      "editable": true,
                      "alias": "Country (or dependent territory, subnational area, etc.)",
                      "length": 4000,
                      "sqlType": "sqlTypeNVarchar",
                      "type": "esriFieldTypeString"
                    },
                    {
                      "domain": null,
                      "name": "Estimate_of_civilian_firearms_per_100_persons",
                      "nullable": true,
                      "defaultValue": null,
                      "editable": true,
                      "alias": "Estimate of civilian firearms per 100 persons",
                      "sqlType": "sqlTypeFloat",
                      "type": "esriFieldTypeDouble"
                    },
                    {
                      "domain": null,
                      "name": "Region",
                      "nullable": true,
                      "defaultValue": null,
                      "editable": true,
                      "alias": "Region",
                      "length": 4000,
                      "sqlType": "sqlTypeNVarchar",
                      "type": "esriFieldTypeString"
                    },
                    {
                      "domain": null,
                      "name": "Subregion",
                      "nullable": true,
                      "defaultValue": null,
                      "editable": true,
                      "alias": "Subregion",
                      "length": 4000,
                      "sqlType": "sqlTypeNVarchar",
                      "type": "esriFieldTypeString"
                    },
                    {
                      "domain": null,
                      "name": "Population_2017",
                      "nullable": true,
                      "defaultValue": null,
                      "editable": true,
                      "alias": "Population 2017",
                      "sqlType": "sqlTypeFloat",
                      "type": "esriFieldTypeDouble"
                    },
                    {
                      "domain": null,
                      "name": "Estimate_of_firearms_in_civilian_possession",
                      "nullable": true,
                      "defaultValue": null,
                      "editable": true,
                      "alias": "Estimate of firearms in civilian possession",
                      "sqlType": "sqlTypeInteger",
                      "type": "esriFieldTypeInteger"
                    },
                    {
                      "domain": null,
                      "name": "Computation_method",
                      "nullable": true,
                      "defaultValue": null,
                      "editable": true,
                      "alias": "Computation method",
                      "length": 256,
                      "sqlType": "sqlTypeNVarchar",
                      "type": "esriFieldTypeString"
                    },
                    {
                      "domain": null,
                      "name": "Registered_firearms",
                      "nullable": true,
                      "defaultValue": null,
                      "editable": true,
                      "alias": "Registered firearms",
                      "sqlType": "sqlTypeFloat",
                      "type": "esriFieldTypeDouble"
                    },
                    {
                      "domain": null,
                      "name": "Unregistered_firearms",
                      "nullable": true,
                      "defaultValue": null,
                      "editable": true,
                      "alias": "Unregistered firearms",
                      "sqlType": "sqlTypeFloat",
                      "type": "esriFieldTypeDouble"
                    },
                    {
                      "domain": null,
                      "name": "ObjectId",
                      "nullable": false,
                      "defaultValue": null,
                      "editable": false,
                      "alias": "ObjectId",
                      "sqlType": "sqlTypeInteger",
                      "type": "esriFieldTypeOID"
                    }
                  ],
                  "maxScale": 0,
                  "supportsTilesAndBasicQueriesMode ": true,
                  "copyrightText": "",
                  "hasZ": false,
                  "supportsExceedsLimitStatistics": true,
                  "maxRecordCount": -1,
                  "minScale": 0,
                  "maxRecordCountFactor": 1
                }
              }
            ],
            "_auth_mode": "anonymous",
            "_portal_url": "https://www.arcgis.com",
            "hide_mode_switch": false,
            "_draw_these_graphics_on_widget_load": [],
            "_trigger_screenshot_with_args": {},
            "_trigger_interactive_draw_mode_for": "",
            "_custom_msg": "",
            "_rotation": 0,
            "_cell_output_screenshot_callback_resp": "",
            "_readonly_tilt": 0,
            "mode": "2D",
            "_readonly_rotation": 0,
            "_file_output_screenshot_callback_resp": "",
            "_readonly_start_time": "",
            "time_mode": "time-window",
            "_layers_to_remove": [],
            "_add_this_notype_layer": {}
          }
        }
      }
    }
  },
  "cells": [
    {
      "cell_type": "markdown",
      "metadata": {
        "id": "view-in-github",
        "colab_type": "text"
      },
      "source": [
        "<a href=\"https://colab.research.google.com/github/SergeyShchus/GIS_Portal/blob/master/Notebook/Colab/HTML_table_to_Pandas_Data_Frame_to_Portal_Item.ipynb\" target=\"_parent\"><img src=\"https://colab.research.google.com/assets/colab-badge.svg\" alt=\"Open In Colab\"/></a>"
      ]
    },
    {
      "cell_type": "code",
      "metadata": {
        "id": "TxsIyAa1xnnp"
      },
      "source": [
        "import pandas as pd"
      ],
      "execution_count": 5,
      "outputs": []
    },
    {
      "cell_type": "code",
      "metadata": {
        "colab": {
          "base_uri": "https://localhost:8080/",
          "height": 264
        },
        "id": "kc_9Kr7Qxw8d",
        "outputId": "53e00236-260c-4981-aa49-7863da2ee6e0"
      },
      "source": [
        "df = pd.read_html(\"https://en.wikipedia.org/wiki/Number_of_guns_per_capita_by_country\")[0]\n",
        "df.head()"
      ],
      "execution_count": 6,
      "outputs": [
        {
          "output_type": "execute_result",
          "data": {
            "text/html": [
              "<div>\n",
              "<style scoped>\n",
              "    .dataframe tbody tr th:only-of-type {\n",
              "        vertical-align: middle;\n",
              "    }\n",
              "\n",
              "    .dataframe tbody tr th {\n",
              "        vertical-align: top;\n",
              "    }\n",
              "\n",
              "    .dataframe thead th {\n",
              "        text-align: right;\n",
              "    }\n",
              "</style>\n",
              "<table border=\"1\" class=\"dataframe\">\n",
              "  <thead>\n",
              "    <tr style=\"text-align: right;\">\n",
              "      <th></th>\n",
              "      <th>Unnamed: 0</th>\n",
              "      <th>Country (or dependent territory, subnational area, etc.)</th>\n",
              "      <th>Estimate of civilian firearms per 100 persons</th>\n",
              "      <th>Region</th>\n",
              "      <th>Subregion</th>\n",
              "      <th>Population 2017</th>\n",
              "      <th>Estimate of firearms in civilian possession</th>\n",
              "      <th>Computation method</th>\n",
              "      <th>Registered firearms</th>\n",
              "      <th>Unregistered firearms</th>\n",
              "      <th>Notes</th>\n",
              "    </tr>\n",
              "  </thead>\n",
              "  <tbody>\n",
              "    <tr>\n",
              "      <th>0</th>\n",
              "      <td>NaN</td>\n",
              "      <td>NaN</td>\n",
              "      <td>NaN</td>\n",
              "      <td>NaN</td>\n",
              "      <td>NaN</td>\n",
              "      <td>NaN</td>\n",
              "      <td>NaN</td>\n",
              "      <td>NaN</td>\n",
              "      <td>NaN</td>\n",
              "      <td>NaN</td>\n",
              "      <td>NaN</td>\n",
              "    </tr>\n",
              "    <tr>\n",
              "      <th>1</th>\n",
              "      <td>1.0</td>\n",
              "      <td>United States</td>\n",
              "      <td>120.5</td>\n",
              "      <td>Americas</td>\n",
              "      <td>North America</td>\n",
              "      <td>326474000.0</td>\n",
              "      <td>393347000</td>\n",
              "      <td>1.0</td>\n",
              "      <td>1073743.0</td>\n",
              "      <td>392273257.0</td>\n",
              "      <td>[note 2]</td>\n",
              "    </tr>\n",
              "    <tr>\n",
              "      <th>2</th>\n",
              "      <td>2.0</td>\n",
              "      <td>Falkland Islands</td>\n",
              "      <td>62.1</td>\n",
              "      <td>Americas</td>\n",
              "      <td>South America</td>\n",
              "      <td>3000.0</td>\n",
              "      <td>2000</td>\n",
              "      <td>2.0</td>\n",
              "      <td>1705.0</td>\n",
              "      <td>295.0</td>\n",
              "      <td>NaN</td>\n",
              "    </tr>\n",
              "    <tr>\n",
              "      <th>3</th>\n",
              "      <td>3.0</td>\n",
              "      <td>Yemen</td>\n",
              "      <td>52.8</td>\n",
              "      <td>Asia</td>\n",
              "      <td>Western Asia</td>\n",
              "      <td>28120000.0</td>\n",
              "      <td>14859000</td>\n",
              "      <td>2.0</td>\n",
              "      <td>NaN</td>\n",
              "      <td>NaN</td>\n",
              "      <td>NaN</td>\n",
              "    </tr>\n",
              "    <tr>\n",
              "      <th>4</th>\n",
              "      <td>4.0</td>\n",
              "      <td>New Caledonia</td>\n",
              "      <td>42.5</td>\n",
              "      <td>Oceania</td>\n",
              "      <td>Melanesia</td>\n",
              "      <td>270000.0</td>\n",
              "      <td>115000</td>\n",
              "      <td>2.0</td>\n",
              "      <td>55000.0</td>\n",
              "      <td>60000.0</td>\n",
              "      <td>NaN</td>\n",
              "    </tr>\n",
              "  </tbody>\n",
              "</table>\n",
              "</div>"
            ],
            "text/plain": [
              "   Unnamed: 0  ...     Notes\n",
              "0         NaN  ...       NaN\n",
              "1         1.0  ...  [note 2]\n",
              "2         2.0  ...       NaN\n",
              "3         3.0  ...       NaN\n",
              "4         4.0  ...       NaN\n",
              "\n",
              "[5 rows x 11 columns]"
            ]
          },
          "metadata": {
            "tags": []
          },
          "execution_count": 6
        }
      ]
    },
    {
      "cell_type": "code",
      "metadata": {
        "id": "MCzWcEKix6FO"
      },
      "source": [
        "df.dropna(thresh=4, inplace=True)"
      ],
      "execution_count": 7,
      "outputs": []
    },
    {
      "cell_type": "code",
      "metadata": {
        "id": "QL76okf_yaxz"
      },
      "source": [
        "del df['Unnamed: 0']\n",
        "del df['Notes']"
      ],
      "execution_count": 8,
      "outputs": []
    },
    {
      "cell_type": "code",
      "metadata": {
        "colab": {
          "base_uri": "https://localhost:8080/",
          "height": 281
        },
        "id": "4Z8sOs02yeEm",
        "outputId": "2e38e771-d523-4ddb-a248-248fabf4bf68"
      },
      "source": [
        "df.head()"
      ],
      "execution_count": 9,
      "outputs": [
        {
          "output_type": "execute_result",
          "data": {
            "text/html": [
              "<div>\n",
              "<style scoped>\n",
              "    .dataframe tbody tr th:only-of-type {\n",
              "        vertical-align: middle;\n",
              "    }\n",
              "\n",
              "    .dataframe tbody tr th {\n",
              "        vertical-align: top;\n",
              "    }\n",
              "\n",
              "    .dataframe thead th {\n",
              "        text-align: right;\n",
              "    }\n",
              "</style>\n",
              "<table border=\"1\" class=\"dataframe\">\n",
              "  <thead>\n",
              "    <tr style=\"text-align: right;\">\n",
              "      <th></th>\n",
              "      <th>Country (or dependent territory, subnational area, etc.)</th>\n",
              "      <th>Estimate of civilian firearms per 100 persons</th>\n",
              "      <th>Region</th>\n",
              "      <th>Subregion</th>\n",
              "      <th>Population 2017</th>\n",
              "      <th>Estimate of firearms in civilian possession</th>\n",
              "      <th>Computation method</th>\n",
              "      <th>Registered firearms</th>\n",
              "      <th>Unregistered firearms</th>\n",
              "    </tr>\n",
              "  </thead>\n",
              "  <tbody>\n",
              "    <tr>\n",
              "      <th>1</th>\n",
              "      <td>United States</td>\n",
              "      <td>120.5</td>\n",
              "      <td>Americas</td>\n",
              "      <td>North America</td>\n",
              "      <td>326474000.0</td>\n",
              "      <td>393347000</td>\n",
              "      <td>1.0</td>\n",
              "      <td>1073743.0</td>\n",
              "      <td>392273257.0</td>\n",
              "    </tr>\n",
              "    <tr>\n",
              "      <th>2</th>\n",
              "      <td>Falkland Islands</td>\n",
              "      <td>62.1</td>\n",
              "      <td>Americas</td>\n",
              "      <td>South America</td>\n",
              "      <td>3000.0</td>\n",
              "      <td>2000</td>\n",
              "      <td>2.0</td>\n",
              "      <td>1705.0</td>\n",
              "      <td>295.0</td>\n",
              "    </tr>\n",
              "    <tr>\n",
              "      <th>3</th>\n",
              "      <td>Yemen</td>\n",
              "      <td>52.8</td>\n",
              "      <td>Asia</td>\n",
              "      <td>Western Asia</td>\n",
              "      <td>28120000.0</td>\n",
              "      <td>14859000</td>\n",
              "      <td>2.0</td>\n",
              "      <td>NaN</td>\n",
              "      <td>NaN</td>\n",
              "    </tr>\n",
              "    <tr>\n",
              "      <th>4</th>\n",
              "      <td>New Caledonia</td>\n",
              "      <td>42.5</td>\n",
              "      <td>Oceania</td>\n",
              "      <td>Melanesia</td>\n",
              "      <td>270000.0</td>\n",
              "      <td>115000</td>\n",
              "      <td>2.0</td>\n",
              "      <td>55000.0</td>\n",
              "      <td>60000.0</td>\n",
              "    </tr>\n",
              "    <tr>\n",
              "      <th>5</th>\n",
              "      <td>Montenegro</td>\n",
              "      <td>39.1</td>\n",
              "      <td>Europe</td>\n",
              "      <td>Southern Europe</td>\n",
              "      <td>626000.0</td>\n",
              "      <td>245000</td>\n",
              "      <td>3.0</td>\n",
              "      <td>103536.0</td>\n",
              "      <td>141464.0</td>\n",
              "    </tr>\n",
              "  </tbody>\n",
              "</table>\n",
              "</div>"
            ],
            "text/plain": [
              "  Country (or dependent territory, subnational area, etc.)  ...  Unregistered firearms\n",
              "1                                      United States        ...            392273257.0\n",
              "2                                   Falkland Islands        ...                  295.0\n",
              "3                                              Yemen        ...                    NaN\n",
              "4                                      New Caledonia        ...                60000.0\n",
              "5                                         Montenegro        ...               141464.0\n",
              "\n",
              "[5 rows x 9 columns]"
            ]
          },
          "metadata": {
            "tags": []
          },
          "execution_count": 9
        }
      ]
    },
    {
      "cell_type": "code",
      "metadata": {
        "id": "ZY8NMV-W1KgU"
      },
      "source": [
        "df.iloc[0,1] = 120.5"
      ],
      "execution_count": 10,
      "outputs": []
    },
    {
      "cell_type": "code",
      "metadata": {
        "colab": {
          "base_uri": "https://localhost:8080/"
        },
        "id": "de03qXuP1q72",
        "outputId": "d35e622c-980c-491f-a105-111164fe73f6"
      },
      "source": [
        "df.dtypes"
      ],
      "execution_count": 11,
      "outputs": [
        {
          "output_type": "execute_result",
          "data": {
            "text/plain": [
              "Country (or dependent territory, subnational area, etc.)     object\n",
              "Estimate of civilian firearms per 100 persons               float64\n",
              "Region                                                       object\n",
              "Subregion                                                    object\n",
              "Population 2017                                             float64\n",
              "Estimate of firearms in civilian possession                  object\n",
              "Computation method                                          float64\n",
              "Registered firearms                                         float64\n",
              "Unregistered firearms                                       float64\n",
              "dtype: object"
            ]
          },
          "metadata": {
            "tags": []
          },
          "execution_count": 11
        }
      ]
    },
    {
      "cell_type": "code",
      "metadata": {
        "colab": {
          "base_uri": "https://localhost:8080/",
          "height": 281
        },
        "id": "JtW215NY2K8V",
        "outputId": "bd1942dc-3c5f-46fe-9a8d-68c3f1530494"
      },
      "source": [
        "converted_column = pd.to_numeric(df[\"Estimate of civilian firearms per 100 persons\"], errors = 'coerce')\n",
        "df['Estimate of civilian firearms per 100 persons'] = converted_column\n",
        "df.head()"
      ],
      "execution_count": 12,
      "outputs": [
        {
          "output_type": "execute_result",
          "data": {
            "text/html": [
              "<div>\n",
              "<style scoped>\n",
              "    .dataframe tbody tr th:only-of-type {\n",
              "        vertical-align: middle;\n",
              "    }\n",
              "\n",
              "    .dataframe tbody tr th {\n",
              "        vertical-align: top;\n",
              "    }\n",
              "\n",
              "    .dataframe thead th {\n",
              "        text-align: right;\n",
              "    }\n",
              "</style>\n",
              "<table border=\"1\" class=\"dataframe\">\n",
              "  <thead>\n",
              "    <tr style=\"text-align: right;\">\n",
              "      <th></th>\n",
              "      <th>Country (or dependent territory, subnational area, etc.)</th>\n",
              "      <th>Estimate of civilian firearms per 100 persons</th>\n",
              "      <th>Region</th>\n",
              "      <th>Subregion</th>\n",
              "      <th>Population 2017</th>\n",
              "      <th>Estimate of firearms in civilian possession</th>\n",
              "      <th>Computation method</th>\n",
              "      <th>Registered firearms</th>\n",
              "      <th>Unregistered firearms</th>\n",
              "    </tr>\n",
              "  </thead>\n",
              "  <tbody>\n",
              "    <tr>\n",
              "      <th>1</th>\n",
              "      <td>United States</td>\n",
              "      <td>120.5</td>\n",
              "      <td>Americas</td>\n",
              "      <td>North America</td>\n",
              "      <td>326474000.0</td>\n",
              "      <td>393347000</td>\n",
              "      <td>1.0</td>\n",
              "      <td>1073743.0</td>\n",
              "      <td>392273257.0</td>\n",
              "    </tr>\n",
              "    <tr>\n",
              "      <th>2</th>\n",
              "      <td>Falkland Islands</td>\n",
              "      <td>62.1</td>\n",
              "      <td>Americas</td>\n",
              "      <td>South America</td>\n",
              "      <td>3000.0</td>\n",
              "      <td>2000</td>\n",
              "      <td>2.0</td>\n",
              "      <td>1705.0</td>\n",
              "      <td>295.0</td>\n",
              "    </tr>\n",
              "    <tr>\n",
              "      <th>3</th>\n",
              "      <td>Yemen</td>\n",
              "      <td>52.8</td>\n",
              "      <td>Asia</td>\n",
              "      <td>Western Asia</td>\n",
              "      <td>28120000.0</td>\n",
              "      <td>14859000</td>\n",
              "      <td>2.0</td>\n",
              "      <td>NaN</td>\n",
              "      <td>NaN</td>\n",
              "    </tr>\n",
              "    <tr>\n",
              "      <th>4</th>\n",
              "      <td>New Caledonia</td>\n",
              "      <td>42.5</td>\n",
              "      <td>Oceania</td>\n",
              "      <td>Melanesia</td>\n",
              "      <td>270000.0</td>\n",
              "      <td>115000</td>\n",
              "      <td>2.0</td>\n",
              "      <td>55000.0</td>\n",
              "      <td>60000.0</td>\n",
              "    </tr>\n",
              "    <tr>\n",
              "      <th>5</th>\n",
              "      <td>Montenegro</td>\n",
              "      <td>39.1</td>\n",
              "      <td>Europe</td>\n",
              "      <td>Southern Europe</td>\n",
              "      <td>626000.0</td>\n",
              "      <td>245000</td>\n",
              "      <td>3.0</td>\n",
              "      <td>103536.0</td>\n",
              "      <td>141464.0</td>\n",
              "    </tr>\n",
              "  </tbody>\n",
              "</table>\n",
              "</div>"
            ],
            "text/plain": [
              "  Country (or dependent territory, subnational area, etc.)  ...  Unregistered firearms\n",
              "1                                      United States        ...            392273257.0\n",
              "2                                   Falkland Islands        ...                  295.0\n",
              "3                                              Yemen        ...                    NaN\n",
              "4                                      New Caledonia        ...                60000.0\n",
              "5                                         Montenegro        ...               141464.0\n",
              "\n",
              "[5 rows x 9 columns]"
            ]
          },
          "metadata": {
            "tags": []
          },
          "execution_count": 12
        }
      ]
    },
    {
      "cell_type": "code",
      "metadata": {
        "colab": {
          "base_uri": "https://localhost:8080/"
        },
        "id": "nhqXM53U4Bmd",
        "outputId": "e7257f27-6a2c-432b-c3b5-bddffaef0b0d"
      },
      "source": [
        "!pip install arcgis"
      ],
      "execution_count": 13,
      "outputs": [
        {
          "output_type": "stream",
          "text": [
            "Requirement already satisfied: arcgis in /usr/local/lib/python3.7/dist-packages (1.8.4)\n",
            "Requirement already satisfied: requests-ntlm in /usr/local/lib/python3.7/dist-packages (from arcgis) (1.1.0)\n",
            "Requirement already satisfied: numpy>=1.16.2 in /usr/local/lib/python3.7/dist-packages (from arcgis) (1.19.5)\n",
            "Requirement already satisfied: requests in /usr/local/lib/python3.7/dist-packages (from arcgis) (2.23.0)\n",
            "Requirement already satisfied: ipywidgets>=7 in /usr/local/lib/python3.7/dist-packages (from arcgis) (7.6.3)\n",
            "Requirement already satisfied: six in /usr/local/lib/python3.7/dist-packages (from arcgis) (1.15.0)\n",
            "Requirement already satisfied: lerc in /usr/local/lib/python3.7/dist-packages (from arcgis) (0.1.0)\n",
            "Requirement already satisfied: pyshp>=2 in /usr/local/lib/python3.7/dist-packages (from arcgis) (2.1.3)\n",
            "Requirement already satisfied: requests-toolbelt in /usr/local/lib/python3.7/dist-packages (from arcgis) (0.9.1)\n",
            "Requirement already satisfied: widgetsnbextension>=3 in /usr/local/lib/python3.7/dist-packages (from arcgis) (3.5.1)\n",
            "Requirement already satisfied: pandas>=1 in /usr/local/lib/python3.7/dist-packages (from arcgis) (1.1.5)\n",
            "Requirement already satisfied: matplotlib in /usr/local/lib/python3.7/dist-packages (from arcgis) (3.2.2)\n",
            "Requirement already satisfied: keyring>=19 in /usr/local/lib/python3.7/dist-packages (from arcgis) (23.0.0)\n",
            "Requirement already satisfied: jupyterlab in /usr/local/lib/python3.7/dist-packages (from arcgis) (3.0.12)\n",
            "Requirement already satisfied: requests-oauthlib in /usr/local/lib/python3.7/dist-packages (from arcgis) (1.3.0)\n",
            "Requirement already satisfied: ujson>=3 in /usr/local/lib/python3.7/dist-packages (from arcgis) (4.0.2)\n",
            "Requirement already satisfied: python-certifi-win32 in /usr/local/lib/python3.7/dist-packages (from arcgis) (1.6)\n",
            "Requirement already satisfied: cryptography>=1.3 in /usr/local/lib/python3.7/dist-packages (from requests-ntlm->arcgis) (3.4.6)\n",
            "Requirement already satisfied: ntlm-auth>=1.0.2 in /usr/local/lib/python3.7/dist-packages (from requests-ntlm->arcgis) (1.5.0)\n",
            "Requirement already satisfied: chardet<4,>=3.0.2 in /usr/local/lib/python3.7/dist-packages (from requests->arcgis) (3.0.4)\n",
            "Requirement already satisfied: idna<3,>=2.5 in /usr/local/lib/python3.7/dist-packages (from requests->arcgis) (2.10)\n",
            "Requirement already satisfied: urllib3!=1.25.0,!=1.25.1,<1.26,>=1.21.1 in /usr/local/lib/python3.7/dist-packages (from requests->arcgis) (1.24.3)\n",
            "Requirement already satisfied: certifi>=2017.4.17 in /usr/local/lib/python3.7/dist-packages (from requests->arcgis) (2020.12.5)\n",
            "Requirement already satisfied: ipython>=4.0.0; python_version >= \"3.3\" in /usr/local/lib/python3.7/dist-packages (from ipywidgets>=7->arcgis) (5.5.0)\n",
            "Requirement already satisfied: nbformat>=4.2.0 in /usr/local/lib/python3.7/dist-packages (from ipywidgets>=7->arcgis) (5.1.2)\n",
            "Requirement already satisfied: jupyterlab-widgets>=1.0.0; python_version >= \"3.6\" in /usr/local/lib/python3.7/dist-packages (from ipywidgets>=7->arcgis) (1.0.0)\n",
            "Requirement already satisfied: ipykernel>=4.5.1 in /usr/local/lib/python3.7/dist-packages (from ipywidgets>=7->arcgis) (4.10.1)\n",
            "Requirement already satisfied: traitlets>=4.3.1 in /usr/local/lib/python3.7/dist-packages (from ipywidgets>=7->arcgis) (5.0.5)\n",
            "Requirement already satisfied: notebook>=4.4.1 in /usr/local/lib/python3.7/dist-packages (from widgetsnbextension>=3->arcgis) (5.3.1)\n",
            "Requirement already satisfied: python-dateutil>=2.7.3 in /usr/local/lib/python3.7/dist-packages (from pandas>=1->arcgis) (2.8.1)\n",
            "Requirement already satisfied: pytz>=2017.2 in /usr/local/lib/python3.7/dist-packages (from pandas>=1->arcgis) (2018.9)\n",
            "Requirement already satisfied: pyparsing!=2.0.4,!=2.1.2,!=2.1.6,>=2.0.1 in /usr/local/lib/python3.7/dist-packages (from matplotlib->arcgis) (2.4.7)\n",
            "Requirement already satisfied: kiwisolver>=1.0.1 in /usr/local/lib/python3.7/dist-packages (from matplotlib->arcgis) (1.3.1)\n",
            "Requirement already satisfied: cycler>=0.10 in /usr/local/lib/python3.7/dist-packages (from matplotlib->arcgis) (0.10.0)\n",
            "Requirement already satisfied: SecretStorage>=3.2; sys_platform == \"linux\" in /usr/local/lib/python3.7/dist-packages (from keyring>=19->arcgis) (3.3.1)\n",
            "Requirement already satisfied: jeepney>=0.4.2; sys_platform == \"linux\" in /usr/local/lib/python3.7/dist-packages (from keyring>=19->arcgis) (0.6.0)\n",
            "Requirement already satisfied: importlib-metadata>=3.6 in /usr/local/lib/python3.7/dist-packages (from keyring>=19->arcgis) (3.7.2)\n",
            "Requirement already satisfied: jupyter-core in /usr/local/lib/python3.7/dist-packages (from jupyterlab->arcgis) (4.7.1)\n",
            "Requirement already satisfied: jupyter-packaging~=0.7.3 in /usr/local/lib/python3.7/dist-packages (from jupyterlab->arcgis) (0.7.12)\n",
            "Requirement already satisfied: nbclassic~=0.2 in /usr/local/lib/python3.7/dist-packages (from jupyterlab->arcgis) (0.2.6)\n",
            "Requirement already satisfied: jupyterlab-server~=2.3 in /usr/local/lib/python3.7/dist-packages (from jupyterlab->arcgis) (2.3.0)\n",
            "Requirement already satisfied: packaging in /usr/local/lib/python3.7/dist-packages (from jupyterlab->arcgis) (20.9)\n",
            "Requirement already satisfied: tornado>=6.1.0 in /usr/local/lib/python3.7/dist-packages (from jupyterlab->arcgis) (6.1)\n",
            "Requirement already satisfied: jupyter-server~=1.4 in /usr/local/lib/python3.7/dist-packages (from jupyterlab->arcgis) (1.5.1)\n",
            "Requirement already satisfied: jinja2>=2.10 in /usr/local/lib/python3.7/dist-packages (from jupyterlab->arcgis) (2.11.3)\n",
            "Requirement already satisfied: oauthlib>=3.0.0 in /usr/local/lib/python3.7/dist-packages (from requests-oauthlib->arcgis) (3.1.0)\n",
            "Requirement already satisfied: setuptools-scm in /usr/local/lib/python3.7/dist-packages (from python-certifi-win32->arcgis) (6.0.1)\n",
            "Requirement already satisfied: wrapt>=1.10.4 in /usr/local/lib/python3.7/dist-packages (from python-certifi-win32->arcgis) (1.12.1)\n",
            "Requirement already satisfied: cffi>=1.12 in /usr/local/lib/python3.7/dist-packages (from cryptography>=1.3->requests-ntlm->arcgis) (1.14.5)\n",
            "Requirement already satisfied: prompt-toolkit<2.0.0,>=1.0.4 in /usr/local/lib/python3.7/dist-packages (from ipython>=4.0.0; python_version >= \"3.3\"->ipywidgets>=7->arcgis) (1.0.18)\n",
            "Requirement already satisfied: decorator in /usr/local/lib/python3.7/dist-packages (from ipython>=4.0.0; python_version >= \"3.3\"->ipywidgets>=7->arcgis) (4.4.2)\n",
            "Requirement already satisfied: simplegeneric>0.8 in /usr/local/lib/python3.7/dist-packages (from ipython>=4.0.0; python_version >= \"3.3\"->ipywidgets>=7->arcgis) (0.8.1)\n",
            "Requirement already satisfied: pexpect; sys_platform != \"win32\" in /usr/local/lib/python3.7/dist-packages (from ipython>=4.0.0; python_version >= \"3.3\"->ipywidgets>=7->arcgis) (4.8.0)\n",
            "Requirement already satisfied: setuptools>=18.5 in /usr/local/lib/python3.7/dist-packages (from ipython>=4.0.0; python_version >= \"3.3\"->ipywidgets>=7->arcgis) (54.1.2)\n",
            "Requirement already satisfied: pickleshare in /usr/local/lib/python3.7/dist-packages (from ipython>=4.0.0; python_version >= \"3.3\"->ipywidgets>=7->arcgis) (0.7.5)\n",
            "Requirement already satisfied: pygments in /usr/local/lib/python3.7/dist-packages (from ipython>=4.0.0; python_version >= \"3.3\"->ipywidgets>=7->arcgis) (2.6.1)\n",
            "Requirement already satisfied: ipython-genutils in /usr/local/lib/python3.7/dist-packages (from nbformat>=4.2.0->ipywidgets>=7->arcgis) (0.2.0)\n",
            "Requirement already satisfied: jsonschema!=2.5.0,>=2.4 in /usr/local/lib/python3.7/dist-packages (from nbformat>=4.2.0->ipywidgets>=7->arcgis) (3.2.0)\n",
            "Requirement already satisfied: jupyter-client in /usr/local/lib/python3.7/dist-packages (from ipykernel>=4.5.1->ipywidgets>=7->arcgis) (6.1.12)\n",
            "Requirement already satisfied: Send2Trash in /usr/local/lib/python3.7/dist-packages (from notebook>=4.4.1->widgetsnbextension>=3->arcgis) (1.5.0)\n",
            "Requirement already satisfied: terminado>=0.8.1 in /usr/local/lib/python3.7/dist-packages (from notebook>=4.4.1->widgetsnbextension>=3->arcgis) (0.9.2)\n",
            "Requirement already satisfied: nbconvert in /usr/local/lib/python3.7/dist-packages (from notebook>=4.4.1->widgetsnbextension>=3->arcgis) (5.6.1)\n",
            "Requirement already satisfied: zipp>=0.5 in /usr/local/lib/python3.7/dist-packages (from importlib-metadata>=3.6->keyring>=19->arcgis) (3.4.1)\n",
            "Requirement already satisfied: typing-extensions>=3.6.4; python_version < \"3.8\" in /usr/local/lib/python3.7/dist-packages (from importlib-metadata>=3.6->keyring>=19->arcgis) (3.7.4.3)\n",
            "Requirement already satisfied: babel in /usr/local/lib/python3.7/dist-packages (from jupyterlab-server~=2.3->jupyterlab->arcgis) (2.9.0)\n",
            "Requirement already satisfied: json5 in /usr/local/lib/python3.7/dist-packages (from jupyterlab-server~=2.3->jupyterlab->arcgis) (0.9.5)\n",
            "Requirement already satisfied: pyzmq>=17 in /usr/local/lib/python3.7/dist-packages (from jupyter-server~=1.4->jupyterlab->arcgis) (22.0.3)\n",
            "Requirement already satisfied: prometheus-client in /usr/local/lib/python3.7/dist-packages (from jupyter-server~=1.4->jupyterlab->arcgis) (0.9.0)\n",
            "Requirement already satisfied: anyio>=2.0.2 in /usr/local/lib/python3.7/dist-packages (from jupyter-server~=1.4->jupyterlab->arcgis) (2.2.0)\n",
            "Requirement already satisfied: argon2-cffi in /usr/local/lib/python3.7/dist-packages (from jupyter-server~=1.4->jupyterlab->arcgis) (20.1.0)\n",
            "Requirement already satisfied: MarkupSafe>=0.23 in /usr/local/lib/python3.7/dist-packages (from jinja2>=2.10->jupyterlab->arcgis) (1.1.1)\n",
            "Requirement already satisfied: pycparser in /usr/local/lib/python3.7/dist-packages (from cffi>=1.12->cryptography>=1.3->requests-ntlm->arcgis) (2.20)\n",
            "Requirement already satisfied: wcwidth in /usr/local/lib/python3.7/dist-packages (from prompt-toolkit<2.0.0,>=1.0.4->ipython>=4.0.0; python_version >= \"3.3\"->ipywidgets>=7->arcgis) (0.2.5)\n",
            "Requirement already satisfied: ptyprocess>=0.5 in /usr/local/lib/python3.7/dist-packages (from pexpect; sys_platform != \"win32\"->ipython>=4.0.0; python_version >= \"3.3\"->ipywidgets>=7->arcgis) (0.7.0)\n",
            "Requirement already satisfied: pyrsistent>=0.14.0 in /usr/local/lib/python3.7/dist-packages (from jsonschema!=2.5.0,>=2.4->nbformat>=4.2.0->ipywidgets>=7->arcgis) (0.17.3)\n",
            "Requirement already satisfied: attrs>=17.4.0 in /usr/local/lib/python3.7/dist-packages (from jsonschema!=2.5.0,>=2.4->nbformat>=4.2.0->ipywidgets>=7->arcgis) (20.3.0)\n",
            "Requirement already satisfied: defusedxml in /usr/local/lib/python3.7/dist-packages (from nbconvert->notebook>=4.4.1->widgetsnbextension>=3->arcgis) (0.7.1)\n",
            "Requirement already satisfied: pandocfilters>=1.4.1 in /usr/local/lib/python3.7/dist-packages (from nbconvert->notebook>=4.4.1->widgetsnbextension>=3->arcgis) (1.4.3)\n",
            "Requirement already satisfied: testpath in /usr/local/lib/python3.7/dist-packages (from nbconvert->notebook>=4.4.1->widgetsnbextension>=3->arcgis) (0.4.4)\n",
            "Requirement already satisfied: bleach in /usr/local/lib/python3.7/dist-packages (from nbconvert->notebook>=4.4.1->widgetsnbextension>=3->arcgis) (3.3.0)\n",
            "Requirement already satisfied: mistune<2,>=0.8.1 in /usr/local/lib/python3.7/dist-packages (from nbconvert->notebook>=4.4.1->widgetsnbextension>=3->arcgis) (0.8.4)\n",
            "Requirement already satisfied: entrypoints>=0.2.2 in /usr/local/lib/python3.7/dist-packages (from nbconvert->notebook>=4.4.1->widgetsnbextension>=3->arcgis) (0.3)\n",
            "Requirement already satisfied: sniffio>=1.1 in /usr/local/lib/python3.7/dist-packages (from anyio>=2.0.2->jupyter-server~=1.4->jupyterlab->arcgis) (1.2.0)\n",
            "Requirement already satisfied: webencodings in /usr/local/lib/python3.7/dist-packages (from bleach->nbconvert->notebook>=4.4.1->widgetsnbextension>=3->arcgis) (0.5.1)\n"
          ],
          "name": "stdout"
        }
      ]
    },
    {
      "cell_type": "code",
      "metadata": {
        "id": "6rksf6Vj2b9b"
      },
      "source": [
        "from arcgis.gis import GIS\n",
        "import json\n",
        "\n",
        "gis = GIS()"
      ],
      "execution_count": 14,
      "outputs": []
    },
    {
      "cell_type": "code",
      "metadata": {
        "id": "XDgF9wUX3YXL"
      },
      "source": [
        "fc = gis.content.import_data(df, {\"CountryCode\":\"Country__or_dependent_territory__subnational_area__etc__\"})"
      ],
      "execution_count": 15,
      "outputs": []
    },
    {
      "cell_type": "code",
      "metadata": {
        "colab": {
          "base_uri": "https://localhost:8080/",
          "height": 33,
          "referenced_widgets": [
            "8a7b52ebb3dd464cb7efa4386b837edc"
          ]
        },
        "id": "ql29h3Vw6P1u",
        "outputId": "efe07c3d-37d1-44b8-9986-6a161afadfa0"
      },
      "source": [
        "map1 = gis.map('UK')\n",
        "map1"
      ],
      "execution_count": 16,
      "outputs": [
        {
          "output_type": "display_data",
          "data": {
            "application/vnd.jupyter.widget-view+json": {
              "model_id": "8a7b52ebb3dd464cb7efa4386b837edc",
              "version_minor": 0,
              "version_major": 2
            },
            "text/plain": [
              "MapView(layout=Layout(height='400px', width='100%'))"
            ]
          },
          "metadata": {
            "tags": []
          }
        },
        {
          "output_type": "display_data",
          "data": {
            "text/html": [
              "<div class=\"map-static-img-preview-18374e23-eb90-4e68-8264-af93c91e869b\"><img src=\"\"></img></div>"
            ],
            "text/plain": [
              "<IPython.core.display.HTML object>"
            ]
          },
          "metadata": {
            "tags": []
          }
        },
        {
          "output_type": "display_data",
          "data": {
            "text/html": [
              "<div class=\"map-html-embed-preview-18374e23-eb90-4e68-8264-af93c91e869b\"></div>"
            ],
            "text/plain": [
              "<IPython.core.display.HTML object>"
            ]
          },
          "metadata": {
            "tags": []
          }
        }
      ]
    },
    {
      "cell_type": "code",
      "metadata": {
        "id": "V71SKpGL6ik4"
      },
      "source": [
        "map1.add_layer(fc, {\"renderer\":\"ClassedSizeRenderer\",\n",
        "                    \"field_name\": \"Estimate_of_civilian_firearms_per_100_persons\"})"
      ],
      "execution_count": 17,
      "outputs": []
    },
    {
      "cell_type": "code",
      "metadata": {
        "id": "TRwNm6JD6pvd"
      },
      "source": [
        "item_properties = {\n",
        "    \"title\": \"Worldwide Firearms ownership\",\n",
        "    \"tags\" : \"guns,violence\",\n",
        "    \"snippet\": \" GSR Worldwide firearms ownership\",\n",
        "    \"description\": \"test description\",\n",
        "    \"text\": json.dumps({\"featureCollection\": {\"layers\": [dict(fc.layer)]}}),\n",
        "    \"type\": \"Feature Collection\",\n",
        "    \"typeKeywords\": \"Data, Feature Collection, Singlelayer\",\n",
        "    \"extent\" : \"-102.5272,-41.7886,172.5967,64.984\"\n",
        "}\n",
        "\n",
        "item = gis.content.add(item_properties)"
      ],
      "execution_count": null,
      "outputs": []
    },
    {
      "cell_type": "code",
      "metadata": {
        "id": "ac0it1Bl68y0"
      },
      "source": [
        "search_result = gis.content.search(\"Worldwide Firearms ownership\")\n",
        "search_result[0]"
      ],
      "execution_count": null,
      "outputs": []
    },
    {
      "cell_type": "code",
      "metadata": {
        "id": "A2kQoNOj69Sy"
      },
      "source": [
        ""
      ],
      "execution_count": null,
      "outputs": []
    }
  ]
}