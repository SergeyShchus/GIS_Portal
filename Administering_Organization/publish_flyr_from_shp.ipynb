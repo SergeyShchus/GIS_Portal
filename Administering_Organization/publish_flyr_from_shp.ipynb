{
 "cells": [
  {
   "cell_type": "markdown",
   "metadata": {},
   "source": [
    "### Import libraries"
   ]
  },
  {
   "cell_type": "code",
   "execution_count": 1,
   "metadata": {},
   "outputs": [],
   "source": [
    "from pathlib import Path\n",
    "\n",
    "from arcgis.gis import GIS"
   ]
  },
  {
   "cell_type": "markdown",
   "metadata": {},
   "source": [
    "### Connect to the GIS"
   ]
  },
  {
   "cell_type": "code",
   "execution_count": 2,
   "metadata": {},
   "outputs": [],
   "source": [
    "gis = GIS(profile=\"johnny_dino\")"
   ]
  },
  {
   "cell_type": "markdown",
   "metadata": {},
   "source": [
    "### Construct Paths for files containing data and images"
   ]
  },
  {
   "cell_type": "code",
   "execution_count": 3,
   "metadata": {},
   "outputs": [],
   "source": [
    "data_path = Path(r\"~/Conferences/DevSummit/2021/\").expanduser()\n",
    "session = \"Session_12459_Introduction_to_the_ArcGIS_API_for_Python\"\n",
    "datasets = data_path / session / \"nbs/datasets\"\n",
    "\n",
    "thumbnail_imgs = Path(r\"~/data_formats/imgs\").expanduser()"
   ]
  },
  {
   "cell_type": "code",
   "execution_count": 4,
   "metadata": {},
   "outputs": [],
   "source": [
    "shp_file = \"gbr_major_towns15.zip\""
   ]
  },
  {
   "cell_type": "markdown",
   "metadata": {},
   "source": [
    "### Construct item properties"
   ]
  },
  {
   "cell_type": "code",
   "execution_count": 5,
   "metadata": {},
   "outputs": [],
   "source": [
    "shp_properties={\"title\":\"Major Towns in GBR\",\n",
    "                \"type\":\"Shapefile\",\n",
    "                \"description\":\"Major towns and cities in the Great Britain from 2015\",\n",
    "                \"tags\":\"Europe,Great Britain,GBR,cities,administration\",\n",
    "                \"snippet\":\"Major British cities.\"}\n",
    "thumbnail_path = thumbnail_imgs / \"gbr_london_bridge.jpeg\""
   ]
  },
  {
   "cell_type": "markdown",
   "metadata": {},
   "source": [
    "### Add the data item"
   ]
  },
  {
   "cell_type": "code",
   "execution_count": 6,
   "metadata": {},
   "outputs": [],
   "source": [
    "gbr_cities_shp_item = gis.content.add(item_properties=shp_properties,\n",
    "                                      data=str(datasets / shp_file),\n",
    "                                      thumbnail=str(thumbnail_path),\n",
    "                                      folder=\"gbr_demo\")"
   ]
  },
  {
   "cell_type": "code",
   "execution_count": 7,
   "metadata": {},
   "outputs": [
    {
     "data": {
      "text/html": [
       "<div class=\"item_container\" style=\"height: auto; overflow: hidden; border: 1px solid #cfcfcf; border-radius: 2px; background: #f6fafa; line-height: 1.21429em; padding: 10px;\">\n",
       "                    <div class=\"item_left\" style=\"width: 210px; float: left;\">\n",
       "                       <a href='https://geosaurus.maps.arcgis.com/home/item.html?id=9343ee99ab944bb09c10a9571f34a2c4' target='_blank'>\n",
       "                        <img src='data:image/png;base64,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' width='200' height='133' class=\"itemThumbnail\">\n",
       "                       </a>\n",
       "                    </div>\n",
       "\n",
       "                    <div class=\"item_right\"     style=\"float: none; width: auto; overflow: hidden;\">\n",
       "                        <a href='https://geosaurus.maps.arcgis.com/home/item.html?id=9343ee99ab944bb09c10a9571f34a2c4' target='_blank'><b>Major Towns in GBR</b>\n",
       "                        </a>\n",
       "                        <br/>Major British cities.<img src='https://geosaurus.maps.arcgis.com/home/js/jsapi/esri/css/images/item_type_icons/datafiles16.png' style=\"vertical-align:middle;\">Shapefile by jyaist_geosaurus\n",
       "                        <br/>Last Modified: January 29, 2021\n",
       "                        <br/>0 comments, 0 views\n",
       "                    </div>\n",
       "                </div>\n",
       "                "
      ],
      "text/plain": [
       "<Item title:\"Major Towns in GBR\" type:Shapefile owner:jyaist_geosaurus>"
      ]
     },
     "execution_count": 7,
     "metadata": {},
     "output_type": "execute_result"
    }
   ],
   "source": [
    "gbr_cities_shp_item"
   ]
  },
  {
   "cell_type": "markdown",
   "metadata": {},
   "source": [
    "### Publish the item"
   ]
  },
  {
   "cell_type": "code",
   "execution_count": 8,
   "metadata": {},
   "outputs": [],
   "source": [
    "gbr_cities_item = gbr_cities_shp_item.publish()"
   ]
  },
  {
   "cell_type": "code",
   "execution_count": 9,
   "metadata": {},
   "outputs": [
    {
     "data": {
      "text/html": [
       "<div class=\"item_container\" style=\"height: auto; overflow: hidden; border: 1px solid #cfcfcf; border-radius: 2px; background: #f6fafa; line-height: 1.21429em; padding: 10px;\">\n",
       "                    <div class=\"item_left\" style=\"width: 210px; float: left;\">\n",
       "                       <a href='https://geosaurus.maps.arcgis.com/home/item.html?id=779efd2492504d5b81763aad1201190f' target='_blank'>\n",
       "                        <img src='data:image/png;base64,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' width='200' height='133' class=\"itemThumbnail\">\n",
       "                       </a>\n",
       "                    </div>\n",
       "\n",
       "                    <div class=\"item_right\"     style=\"float: none; width: auto; overflow: hidden;\">\n",
       "                        <a href='https://geosaurus.maps.arcgis.com/home/item.html?id=779efd2492504d5b81763aad1201190f' target='_blank'><b>Major Towns in GBR</b>\n",
       "                        </a>\n",
       "                        <br/>Major British cities.<img src='https://geosaurus.maps.arcgis.com/home/js/jsapi/esri/css/images/item_type_icons/featureshosted16.png' style=\"vertical-align:middle;\">Feature Layer Collection by jyaist_geosaurus\n",
       "                        <br/>Last Modified: January 29, 2021\n",
       "                        <br/>0 comments, 0 views\n",
       "                    </div>\n",
       "                </div>\n",
       "                "
      ],
      "text/plain": [
       "<Item title:\"Major Towns in GBR\" type:Feature Layer Collection owner:jyaist_geosaurus>"
      ]
     },
     "execution_count": 9,
     "metadata": {},
     "output_type": "execute_result"
    }
   ],
   "source": [
    "gbr_cities_item"
   ]
  },
  {
   "cell_type": "markdown",
   "metadata": {},
   "source": [
    "### Visualize the feature layer"
   ]
  },
  {
   "cell_type": "code",
   "execution_count": 10,
   "metadata": {},
   "outputs": [
    {
     "data": {
      "application/vnd.jupyter.widget-view+json": {
       "model_id": "caab425f3b4a4ae99b8b3df6e558736b",
       "version_major": 2,
       "version_minor": 0
      },
      "text/plain": [
       "MapView(layout=Layout(height='400px', width='100%'))"
      ]
     },
     "metadata": {},
     "output_type": "display_data"
    },
    {
     "data": {
      "text/html": [
       "<div class=\"map-static-img-preview-7f16f435-d245-4c10-8e41-36e43515c937\"><img src=\"\"></img></div>"
      ],
      "text/plain": [
       "<IPython.core.display.HTML object>"
      ]
     },
     "metadata": {},
     "output_type": "display_data"
    },
    {
     "data": {
      "text/html": [
       "<div class=\"map-html-embed-preview-7f16f435-d245-4c10-8e41-36e43515c937\"></div>"
      ],
      "text/plain": [
       "<IPython.core.display.HTML object>"
      ]
     },
     "metadata": {},
     "output_type": "display_data"
    }
   ],
   "source": [
    "map1 = gis.map('Great Britain', 6)\n",
    "map1.add_layer(gbr_cities_item)\n",
    "map1"
   ]
  },
  {
   "cell_type": "code",
   "execution_count": null,
   "metadata": {},
   "outputs": [],
   "source": []
  }
 ],
 "metadata": {
  "kernelspec": {
   "display_name": "Python 3",
   "language": "python",
   "name": "python3"
  },
  "language_info": {
   "codemirror_mode": {
    "name": "ipython",
    "version": 3
   },
   "file_extension": ".py",
   "mimetype": "text/x-python",
   "name": "python",
   "nbconvert_exporter": "python",
   "pygments_lexer": "ipython3",
   "version": "3.6.10"
  }
 },
 "nbformat": 4,
 "nbformat_minor": 2
}
