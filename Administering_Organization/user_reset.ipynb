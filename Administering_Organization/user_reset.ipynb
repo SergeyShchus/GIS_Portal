{
 "cells": [
  {
   "cell_type": "code",
   "execution_count": null,
   "metadata": {},
   "outputs": [],
   "source": [
    "from pathlib import Path\n",
    "import datetime as dt\n",
    "from dateutil.relativedelta import relativedelta\n",
    "from pytz import timezone\n",
    "import pandas as pd\n",
    "\n",
    "from arcgis.gis import GIS"
   ]
  },
  {
   "cell_type": "code",
   "execution_count": null,
   "metadata": {},
   "outputs": [],
   "source": [
    "gis = GIS(profile=\"your_admin_profile\")"
   ]
  },
  {
   "cell_type": "markdown",
   "metadata": {},
   "source": [
    "### Create users"
   ]
  },
  {
   "cell_type": "code",
   "execution_count": null,
   "metadata": {},
   "outputs": [],
   "source": [
    "data_path = Path(\".\") / \"aux_files/intern_list\""
   ]
  },
  {
   "cell_type": "code",
   "execution_count": null,
   "metadata": {},
   "outputs": [],
   "source": [
    "user_info = data_path / \"interns_for_delete.csv\""
   ]
  },
  {
   "cell_type": "code",
   "execution_count": null,
   "metadata": {},
   "outputs": [],
   "source": [
    "user_file = pd.read_csv(user_info)\n",
    "user_file"
   ]
  },
  {
   "cell_type": "code",
   "execution_count": null,
   "metadata": {},
   "outputs": [],
   "source": [
    "for i in list(user_file[user_file.Role == \"Administrator\"].index):\n",
    "    user_file.at[i, \"Role\"] = \"Publisher\""
   ]
  },
  {
   "cell_type": "code",
   "execution_count": null,
   "metadata": {},
   "outputs": [],
   "source": [
    "user_data = user_file.apply(lambda un:un+\"@jf62\" if un.name == \"Username\" else un)"
   ]
  },
  {
   "cell_type": "code",
   "execution_count": null,
   "metadata": {},
   "outputs": [],
   "source": [
    "user_data = user_data.apply(lambda pw:pw+\"@a7r3\" if pw.name == \"Password\" else pw)"
   ]
  },
  {
   "cell_type": "code",
   "execution_count": null,
   "metadata": {},
   "outputs": [],
   "source": [
    "user_data"
   ]
  },
  {
   "cell_type": "code",
   "execution_count": null,
   "metadata": {},
   "outputs": [],
   "source": [
    "for idx, row in user_data.iterrows():\n",
    "    try:\n",
    "        new_user = gis.users.create(username=row[\"Username\"],\n",
    "                                    password=row[\"Password\"],\n",
    "                                    firstname=row[\"First Name\"],\n",
    "                                    lastname=row[\"Last Name\"],\n",
    "                                    email=row[\"Email\"],\n",
    "                                    user_type=row[\"User Type\"],\n",
    "                                    role=row[\"Role\"])\n",
    "        print(f\"....created {new_user.username}\")\n",
    "        dt_created = dt.datetime.fromtimestamp(new_user.created/1000)\n",
    "    except Exception as e:\n",
    "        print(str(e))"
   ]
  },
  {
   "cell_type": "markdown",
   "metadata": {},
   "source": [
    "### Get the newly created users"
   ]
  },
  {
   "cell_type": "code",
   "execution_count": null,
   "metadata": {},
   "outputs": [],
   "source": [
    "# constuct datetime objects for a time range\n",
    "end = dt_created + relativedelta(minutes=1)\n",
    "half_hr = relativedelta(minutes=30)\n",
    "start = end - half_hr # subtract half hour from the time close to now\n",
    "\n",
    "# format datetime objects to milliseconds for use in query\n",
    "start4_qy = int(start.timestamp()*1000)\n",
    "end4_qy = int(end.timestamp()*1000)"
   ]
  },
  {
   "cell_type": "code",
   "execution_count": null,
   "metadata": {},
   "outputs": [],
   "source": [
    "# Make sure we're only working with non Enterprise-logins\n",
    "builtin_users = [u for u in gis.users.search(f\"created: [{start4_qy} TO {end4_qy}]\")\n",
    "                if len(u.groups) < 2]\n",
    "builtin_users"
   ]
  },
  {
   "cell_type": "markdown",
   "metadata": {},
   "source": [
    "### Extend the scenario: group query"
   ]
  },
  {
   "cell_type": "code",
   "execution_count": null,
   "metadata": {},
   "outputs": [],
   "source": [
    "for grp in gis.groups.search(query=\"African Continent\"):\n",
    "    grp_members = grp.get_members()\n",
    "    for user in grp_members['users']:\n",
    "        user = gis.users.get(user)\n",
    "        user.reset(reset_by_email=True)\n",
    "        print(f\"...sent reset password email to {user.username}\")"
   ]
  },
  {
   "cell_type": "markdown",
   "metadata": {},
   "source": [
    "## Reset the password with an email to the users"
   ]
  },
  {
   "cell_type": "code",
   "execution_count": null,
   "metadata": {},
   "outputs": [],
   "source": [
    "for user in builtin_users:\n",
    "    user.reset(reset_by_email=True)"
   ]
  },
  {
   "cell_type": "markdown",
   "metadata": {
    "heading_collapsed": true
   },
   "source": [
    "### Delete the created users"
   ]
  },
  {
   "cell_type": "code",
   "execution_count": null,
   "metadata": {
    "hidden": true
   },
   "outputs": [],
   "source": [
    "lic_mgr = gis.admin.license\n",
    "\n",
    "for user in builtin_users:\n",
    "    user.disable()\n",
    "    try:\n",
    "        user.delete()\n",
    "        print(f\"...deleted {user.username}\")\n",
    "    except Exception as e:\n",
    "        if user.items() or [i for f in user.folders \n",
    "                            for i in user.items(folder=f)] or gis.groups.search(f\"owner:{user.username}\"):\n",
    "            user.reassign_to(gis.users.me.username)\n",
    "            print(f\"...reassigning items and/or groups from {user.username}\")\n",
    "        add_on_provisions = user.provisions\n",
    "        if add_on_provisions:\n",
    "            for provision in add_on_provisions:\n",
    "                provision_license = lic_mgr.get(provision.title)\n",
    "                provision_license.revoke(user.username, entitlements=\"*\")\n",
    "        user_bundles = user.bundles\n",
    "        if user_bundles:\n",
    "            for bundle in user_bundles:\n",
    "                bundle.revoke(user)\n",
    "        user.delete()\n",
    "        print(f\"...deleted {user.username}\")\n",
    "        print(f\"\\n\")"
   ]
  },
  {
   "cell_type": "code",
   "execution_count": null,
   "metadata": {
    "hidden": true
   },
   "outputs": [],
   "source": []
  }
 ],
 "metadata": {
  "kernelspec": {
   "display_name": "Python 3",
   "language": "python",
   "name": "python3"
  },
  "language_info": {
   "codemirror_mode": {
    "name": "ipython",
    "version": 3
   },
   "file_extension": ".py",
   "mimetype": "text/x-python",
   "name": "python",
   "nbconvert_exporter": "python",
   "pygments_lexer": "ipython3",
   "version": "3.6.10"
  }
 },
 "nbformat": 4,
 "nbformat_minor": 4
}
