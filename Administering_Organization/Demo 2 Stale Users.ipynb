{
 "cells": [
  {
   "cell_type": "markdown",
   "metadata": {},
   "source": [
    "### Demo - Identify Stagnant/Unused Users"
   ]
  },
  {
   "cell_type": "code",
   "execution_count": null,
   "metadata": {},
   "outputs": [],
   "source": [
    "from datetime import datetime as dt\n",
    "from arcgis.gis import GIS\n",
    "gis = GIS(profile='your_enterprise_profile')\n",
    "print(f\"Examining Users for: {gis.properties.name} organization\")"
   ]
  },
  {
   "cell_type": "markdown",
   "metadata": {},
   "source": [
    "#### Collect the Organization's Users"
   ]
  },
  {
   "cell_type": "code",
   "execution_count": null,
   "metadata": {},
   "outputs": [],
   "source": [
    "users = gis.users.search(\"*\", max_users=1000)"
   ]
  },
  {
   "cell_type": "code",
   "execution_count": null,
   "metadata": {},
   "outputs": [],
   "source": [
    "users_to_contact = []\n",
    "never_logged_in = []"
   ]
  },
  {
   "cell_type": "markdown",
   "metadata": {},
   "source": [
    "#### Calculate Last Login/Creation Date"
   ]
  },
  {
   "cell_type": "code",
   "execution_count": null,
   "metadata": {},
   "outputs": [],
   "source": [
    "for user in users:\n",
    "    # weed out the users who have never logged in\n",
    "    if user.lastLogin > 0:\n",
    "        last_login = user.lastLogin\n",
    "        last_login_dif = dt.now() - dt.fromtimestamp(last_login/1000)\n",
    "        if last_login_dif.days >= 90:\n",
    "            users_to_contact.append([user,last_login_dif.days])\n",
    "    elif user.created > 0 and user.lastLogin <= 0:\n",
    "        last_login = user.created\n",
    "        last_login_dif = dt.now() - dt.fromtimestamp(last_login/1000)\n",
    "        if last_login_dif.days >= 90:\n",
    "            never_logged_in.append([user,last_login_dif.days])"
   ]
  },
  {
   "cell_type": "markdown",
   "metadata": {},
   "source": [
    "#### Identified Idle Accounts"
   ]
  },
  {
   "cell_type": "code",
   "execution_count": null,
   "metadata": {},
   "outputs": [],
   "source": [
    "users_to_contact"
   ]
  },
  {
   "cell_type": "markdown",
   "metadata": {},
   "source": [
    "#### Identified Unused Accounts"
   ]
  },
  {
   "cell_type": "code",
   "execution_count": null,
   "metadata": {},
   "outputs": [],
   "source": [
    "never_logged_in"
   ]
  }
 ],
 "metadata": {
  "kernelspec": {
   "display_name": "Python 3",
   "language": "python",
   "name": "python3"
  },
  "language_info": {
   "codemirror_mode": {
    "name": "ipython",
    "version": 3
   },
   "file_extension": ".py",
   "mimetype": "text/x-python",
   "name": "python",
   "nbconvert_exporter": "python",
   "pygments_lexer": "ipython3",
   "version": "3.7.9"
  }
 },
 "nbformat": 4,
 "nbformat_minor": 4
}
