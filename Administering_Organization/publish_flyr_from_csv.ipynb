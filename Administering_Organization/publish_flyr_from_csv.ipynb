{
 "cells": [
  {
   "cell_type": "markdown",
   "metadata": {},
   "source": [
    "### Import Libraries"
   ]
  },
  {
   "cell_type": "code",
   "execution_count": 1,
   "metadata": {},
   "outputs": [],
   "source": [
    "from pathlib import Path\n",
    "\n",
    "from arcgis.gis import GIS"
   ]
  },
  {
   "cell_type": "markdown",
   "metadata": {},
   "source": [
    "### Connect to the GIS"
   ]
  },
  {
   "cell_type": "code",
   "execution_count": 2,
   "metadata": {},
   "outputs": [],
   "source": [
    "gis = GIS(profile=\"johnny_dino\")"
   ]
  },
  {
   "cell_type": "markdown",
   "metadata": {},
   "source": [
    "### Construct Paths for files containing data and images"
   ]
  },
  {
   "cell_type": "code",
   "execution_count": 3,
   "metadata": {},
   "outputs": [],
   "source": [
    "data_path = Path(r\"/Users/john3092/Conferences/DevSummit/2021/\")\n",
    "session = \"Session_12459_Introduction_to_the_ArcGIS_API_for_Python\"\n",
    "datasets = data_path / session / \"nbs/datasets\""
   ]
  },
  {
   "cell_type": "code",
   "execution_count": 4,
   "metadata": {},
   "outputs": [],
   "source": [
    "data_file = \"nyc_emergency_response_points.csv\""
   ]
  },
  {
   "cell_type": "markdown",
   "metadata": {},
   "source": [
    "### Construct item properties"
   ]
  },
  {
   "cell_type": "code",
   "execution_count": 5,
   "metadata": {},
   "outputs": [],
   "source": [
    "csv_properties={\"title\":\"Emergency Response Incidents NYC\",\n",
    "                \"type\":\"CSV\",\n",
    "                \"description\":\"Emergency Response Incidents in Manhattan\",\n",
    "                \"tags\":\"North America, United States,NY,New York City,emergency response,public safety\",\n",
    "                \"snippet\":\"New York City emergency response incidents.\"}\n",
    "thumbnail_path = data_path / session / \"nbs/datasets/imgs\" / \"emer_response.jpg\"\n",
    "\n"
   ]
  },
  {
   "cell_type": "markdown",
   "metadata": {},
   "source": [
    "### Add the data item"
   ]
  },
  {
   "cell_type": "code",
   "execution_count": 6,
   "metadata": {},
   "outputs": [],
   "source": [
    "nyc_emerg_csv_item = gis.content.add(item_properties=csv_properties,\n",
    "                                     data=str(datasets / data_file),\n",
    "                                     thumbnail=str(thumbnail_path),\n",
    "                                     folder=\"nyc_demo\")"
   ]
  },
  {
   "cell_type": "code",
   "execution_count": 7,
   "metadata": {},
   "outputs": [
    {
     "data": {
      "text/html": [
       "<div class=\"item_container\" style=\"height: auto; overflow: hidden; border: 1px solid #cfcfcf; border-radius: 2px; background: #f6fafa; line-height: 1.21429em; padding: 10px;\">\n",
       "                    <div class=\"item_left\" style=\"width: 210px; float: left;\">\n",
       "                       <a href='https://geosaurus.maps.arcgis.com/home/item.html?id=37a1c547c9624c9e871d6f0b25c1d4ae' target='_blank'>\n",
       "                        <img src='data:image/png;base64,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' width='200' height='133' class=\"itemThumbnail\">\n",
       "                       </a>\n",
       "                    </div>\n",
       "\n",
       "                    <div class=\"item_right\"     style=\"float: none; width: auto; overflow: hidden;\">\n",
       "                        <a href='https://geosaurus.maps.arcgis.com/home/item.html?id=37a1c547c9624c9e871d6f0b25c1d4ae' target='_blank'><b>Emergency Response Incidents NYC</b>\n",
       "                        </a>\n",
       "                        <br/>New York City emergency response incidents.<img src='https://geosaurus.maps.arcgis.com/home/js/jsapi/esri/css/images/item_type_icons/layers16.png' style=\"vertical-align:middle;\">CSV by jyaist_geosaurus\n",
       "                        <br/>Last Modified: January 29, 2021\n",
       "                        <br/>0 comments, 0 views\n",
       "                    </div>\n",
       "                </div>\n",
       "                "
      ],
      "text/plain": [
       "<Item title:\"Emergency Response Incidents NYC\" type:CSV owner:jyaist_geosaurus>"
      ]
     },
     "execution_count": 7,
     "metadata": {},
     "output_type": "execute_result"
    }
   ],
   "source": [
    "nyc_emerg_csv_item"
   ]
  },
  {
   "cell_type": "markdown",
   "metadata": {},
   "source": [
    "### Publish the item"
   ]
  },
  {
   "cell_type": "code",
   "execution_count": 8,
   "metadata": {},
   "outputs": [],
   "source": [
    "nyc_emerg_flyr_item = nyc_emerg_csv_item.publish()"
   ]
  },
  {
   "cell_type": "code",
   "execution_count": 9,
   "metadata": {},
   "outputs": [
    {
     "data": {
      "text/html": [
       "<div class=\"item_container\" style=\"height: auto; overflow: hidden; border: 1px solid #cfcfcf; border-radius: 2px; background: #f6fafa; line-height: 1.21429em; padding: 10px;\">\n",
       "                    <div class=\"item_left\" style=\"width: 210px; float: left;\">\n",
       "                       <a href='https://geosaurus.maps.arcgis.com/home/item.html?id=71ff638421f745fd8b800e6e133de096' target='_blank'>\n",
       "                        <img src='data:image/png;base64,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' width='200' height='133' class=\"itemThumbnail\">\n",
       "                       </a>\n",
       "                    </div>\n",
       "\n",
       "                    <div class=\"item_right\"     style=\"float: none; width: auto; overflow: hidden;\">\n",
       "                        <a href='https://geosaurus.maps.arcgis.com/home/item.html?id=71ff638421f745fd8b800e6e133de096' target='_blank'><b>Emergency Response Incidents NYC</b>\n",
       "                        </a>\n",
       "                        <br/>New York City emergency response incidents.<img src='https://geosaurus.maps.arcgis.com/home/js/jsapi/esri/css/images/item_type_icons/featureshosted16.png' style=\"vertical-align:middle;\">Feature Layer Collection by jyaist_geosaurus\n",
       "                        <br/>Last Modified: January 29, 2021\n",
       "                        <br/>0 comments, 0 views\n",
       "                    </div>\n",
       "                </div>\n",
       "                "
      ],
      "text/plain": [
       "<Item title:\"Emergency Response Incidents NYC\" type:Feature Layer Collection owner:jyaist_geosaurus>"
      ]
     },
     "execution_count": 9,
     "metadata": {},
     "output_type": "execute_result"
    }
   ],
   "source": [
    "nyc_emerg_flyr_item"
   ]
  },
  {
   "cell_type": "markdown",
   "metadata": {},
   "source": [
    "### Visualize the feature layer"
   ]
  },
  {
   "cell_type": "code",
   "execution_count": 10,
   "metadata": {},
   "outputs": [
    {
     "data": {
      "application/vnd.jupyter.widget-view+json": {
       "model_id": "901b5dbd044545b9a2440590d597fd07",
       "version_major": 2,
       "version_minor": 0
      },
      "text/plain": [
       "MapView(layout=Layout(height='400px', width='100%'))"
      ]
     },
     "metadata": {},
     "output_type": "display_data"
    },
    {
     "data": {
      "text/html": [
       "<div class=\"map-static-img-preview-66673103-21a1-4ef6-a74f-74d7a1a122d9\"><img src=\"\"></img></div>"
      ],
      "text/plain": [
       "<IPython.core.display.HTML object>"
      ]
     },
     "metadata": {},
     "output_type": "display_data"
    },
    {
     "data": {
      "text/html": [
       "<div class=\"map-html-embed-preview-66673103-21a1-4ef6-a74f-74d7a1a122d9\"></div>"
      ],
      "text/plain": [
       "<IPython.core.display.HTML object>"
      ]
     },
     "metadata": {},
     "output_type": "display_data"
    }
   ],
   "source": [
    "map1 = gis.map('New York', 11)\n",
    "map1.add_layer(nyc_emerg_flyr_item)\n",
    "map1"
   ]
  }
 ],
 "metadata": {
  "kernelspec": {
   "display_name": "Python 3",
   "language": "python",
   "name": "python3"
  },
  "language_info": {
   "codemirror_mode": {
    "name": "ipython",
    "version": 3
   },
   "file_extension": ".py",
   "mimetype": "text/x-python",
   "name": "python",
   "nbconvert_exporter": "python",
   "pygments_lexer": "ipython3",
   "version": "3.6.10"
  }
 },
 "nbformat": 4,
 "nbformat_minor": 2
}
