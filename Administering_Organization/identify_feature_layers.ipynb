{
 "cells": [
  {
   "cell_type": "markdown",
   "metadata": {},
   "source": [
    "Identify popular feature layers (based on item count), recently updated layers, and feature layers that use a lot of database storage"
   ]
  },
  {
   "cell_type": "code",
   "execution_count": 1,
   "metadata": {},
   "outputs": [],
   "source": [
    "import datetime as dt\n",
    "from pytz import timezone\n",
    "from dateutil.relativedelta import relativedelta\n",
    "\n",
    "from arcgis.gis import GIS"
   ]
  },
  {
   "cell_type": "code",
   "execution_count": 2,
   "metadata": {},
   "outputs": [],
   "source": [
    "gis = GIS(profile=\"your_admin_profile\", verify_cert=False)"
   ]
  },
  {
   "cell_type": "markdown",
   "metadata": {},
   "source": [
    "## Popular feature layers based on number of views"
   ]
  },
  {
   "cell_type": "markdown",
   "metadata": {},
   "source": [
    "### Create datetime objects to represent time ranges"
   ]
  },
  {
   "cell_type": "code",
   "execution_count": 3,
   "metadata": {},
   "outputs": [],
   "source": [
    "# represent local timezone information\n",
    "pst_tz = timezone(\"America/Los_Angeles\")"
   ]
  },
  {
   "cell_type": "code",
   "execution_count": 4,
   "metadata": {},
   "outputs": [],
   "source": [
    "# construct datetime objects for time range queries\n",
    "jan27 = dt.datetime.now()\n",
    "six_mos = relativedelta(months=6)\n",
    "jul27 = jan27 - six_mos\n",
    "\n",
    "# construct millisecond timestamps for searching\n",
    "jan27_qy = int(jan27.timestamp()*1000)\n",
    "jul27_qy = int(jul27.timestamp()*1000)"
   ]
  },
  {
   "cell_type": "code",
   "execution_count": 5,
   "metadata": {},
   "outputs": [
    {
     "data": {
      "text/plain": [
       "39"
      ]
     },
     "execution_count": 5,
     "metadata": {},
     "output_type": "execute_result"
    }
   ],
   "source": [
    "fl_6mos = gis.content.search(query=f\"created: [{jul27_qy} TO {jan27_qy}]\",\n",
    "                             item_type=\"Feature Layer\",\n",
    "                             sort_field=\"numViews\",\n",
    "                             sort_order=\"desc\",\n",
    "                             max_items=500)\n",
    "len(fl_6mos)"
   ]
  },
  {
   "cell_type": "code",
   "execution_count": 8,
   "metadata": {},
   "outputs": [
    {
     "name": "stdout",
     "output_type": "stream",
     "text": [
      "Community Analyst Test MLF Layers                         443\n",
      "GeoPlanner MLF Test - Project Feature Service             421\n",
      "PointLinePoly                                             340\n",
      "Boston Public View                                        264\n",
      "Hospitals                                                 54\n",
      "Lines for Joining                                         25\n",
      "Hospitals_CarstenView                                     22\n",
      "Redlands Points with Many Characters                      17\n",
      "LineDomain                                                16\n",
      "Hospitals_MarianneView                                    13\n",
      "Polygons                                                  8\n",
      "crash2019                                                 7\n",
      "City of Glasgow Recycling                                 6\n",
      "Polygon Duplicate from fgdb                               6\n",
      "crash_fgdb                                                6\n",
      "Tussock_Within_Buffersbp                                  6\n",
      "Campgrounds_Within_Rangebp                                5\n",
      "Polygons View Layer One                                   5\n",
      "Campground_Buffersbp                                      5\n",
      "USA_States_Generalized_testing                            4\n",
      "MLF Lassen Polygons                                       4\n",
      "Lines for Joining_1                                       3\n",
      "Viewshedbp                                                2\n",
      "featureDetector_1598903232847                             2\n",
      "Dissolve_Tussock_Within_Buffersb7p                        2\n",
      "featureDetector_1598903582955                             2\n",
      "CommercialDamageAssessment                                2\n",
      "featureDetector_1598903371910                             2\n",
      "featureDetector_1598909560493                             2\n",
      "Viewshed_from_Basebp                                      2\n",
      "CAO Project - patch testing Layers                        0\n",
      "Giraffe Parks                                             0\n",
      "Boston Database                                           0\n",
      "Urban Test (Urban Design Plan)                            0\n",
      "Giraffe Species Ranges (IUCN)                             0\n",
      "First BA Project Layers                                   0\n",
      "City of Glasgow Recycling_fieldworker                     0\n",
      "Scenario A                                                0\n",
      "City of Glasgow Recycling_stakeholder                     0\n"
     ]
    }
   ],
   "source": [
    "for flyr in fl_6mos:\n",
    "    print(f\"{flyr.title[:56]:58}{flyr.numViews}\")"
   ]
  },
  {
   "cell_type": "markdown",
   "metadata": {},
   "source": [
    "## Recently updated feature layers"
   ]
  },
  {
   "cell_type": "code",
   "execution_count": 9,
   "metadata": {},
   "outputs": [],
   "source": [
    "# relative date objects\n",
    "twenty_four_hrs = relativedelta(hours=24)\n",
    "two_wks = relativedelta(weeks=2)\n",
    "one_mo = relativedelta(months=1)\n",
    "two_mo = relativedelta(months=2)\n",
    "\n",
    "deltas = [twenty_four_hrs, two_wks, one_mo, two_mo]\n",
    "\n",
    "# datetime objects \n",
    "hrs6_prev = jan27 - twenty_four_hrs\n",
    "wks2_prev = jan27 - two_wks\n",
    "mos1_prev = jan27 - one_mo\n",
    "mos2_prev = jan27 - two_mo\n",
    "\n",
    "time_pd_objs = [jan27 - rd for rd in deltas]\n",
    "\n",
    "# corresponding millisecond values for platform queries\n",
    "hrs6_prev_qy = int(hrs6_prev.timestamp()*1000)\n",
    "wks2_prev_qy = int(wks2_prev.timestamp()*1000)\n",
    "mos1_prev_qy = int(mos1_prev.timestamp()*1000)\n",
    "mos2_prev_qy = int(mos2_prev.timestamp()*1000)\n",
    "\n",
    "query_objs = [int(time_pd.timestamp()*1000) for time_pd in time_pd_objs]"
   ]
  },
  {
   "cell_type": "code",
   "execution_count": 11,
   "metadata": {},
   "outputs": [],
   "source": [
    "time_ranges = [\"day ago\", \"two weeks ago\", \"one month ago\", \"two_months_ago\"]"
   ]
  },
  {
   "cell_type": "code",
   "execution_count": 20,
   "metadata": {},
   "outputs": [
    {
     "name": "stdout",
     "output_type": "stream",
     "text": [
      "day ago\n",
      "--------------------------------------------------\n",
      "   3 items(s) modified\n",
      "   ====================\n",
      "     test                                    Dashboard                     0\n",
      "     Elevation                               Web Mapping Application       1156\n",
      "     Story Map Series                        Web Mapping Application       516\n",
      "\n",
      "\n",
      "two weeks ago\n",
      "--------------------------------------------------\n",
      "   27 items(s) modified\n",
      "   ====================\n",
      "     test                                    Dashboard                     0\n",
      "     City of Glasgow Recycling_fieldworker   Feature Service               0\n",
      "     City of Glasgow Recycling               Feature Service               12858\n",
      "     CAO Project - patch testing Layers      Feature Service               0\n",
      "     City of Glasgow Recycling_stakeholder   Feature Service               0\n",
      "     City of Glasgow Recycling               Form                          65289\n",
      "     CA Web App Suitability Analysis Data    Web Mapping Application       11\n",
      "     CAO Project - patch testing Layers Fil  Web Mapping Application       11\n",
      "     CA Preferences                          Web Mapping Application       440\n",
      "     Elevation                               Web Mapping Application       1156\n",
      "     Favorite Report Templates               Web Mapping Application       45\n",
      "     CA Web App Favorite Reports Data        Web Mapping Application       11\n",
      "     CA Web App Guided Tour Data             Web Mapping Application       32\n",
      "     CAO Project - patch testing Layers Pre  Web Mapping Application       2\n",
      "     CA Web App Variable Manager Data        Web Mapping Application       11\n",
      "     CA Web App Smart Map Search Data        Web Mapping Application       11\n",
      "     CA Web App Comparison Reports Data      Web Mapping Application       11\n",
      "     CA Web App Statistical Data Collection  Web Mapping Application       11\n",
      "     CA Web App Comparison Reports Variable  Web Mapping Application       11\n",
      "     CA Web App Custom Color Ramps           Web Mapping Application       11\n",
      "     CA Web App Custom Color Picker Colors   Web Mapping Application       11\n",
      "     Story Map Series                        Web Mapping Application       516\n",
      "     f                                       Web Mapping Application       562\n",
      "     CAO Project - patch testing Preference  Web Mapping Application       2\n",
      "     CAO Project - patch testing Map Data    Web Mapping Application       76\n",
      "     CA Web App Custom Symbols               Web Mapping Application       11\n",
      "     CA Web App Void Analysis Data           Web Mapping Application       11\n",
      "\n",
      "\n",
      "one month ago\n",
      "--------------------------------------------------\n",
      "   32 items(s) modified\n",
      "   ====================\n",
      "     test                                    Dashboard                     0\n",
      "     Hospitals_MarianneView                  Feature Service               0\n",
      "     Hospitals                               Feature Service               163840\n",
      "     Hospitals_CarstenView                   Feature Service               0\n",
      "     City of Glasgow Recycling_fieldworker   Feature Service               0\n",
      "     City of Glasgow Recycling               Feature Service               12858\n",
      "     CAO Project - patch testing Layers      Feature Service               0\n",
      "     City of Glasgow Recycling_stakeholder   Feature Service               0\n",
      "     City of Glasgow Recycling               Form                          65289\n",
      "     StoryMap 1610392600000                  StoryMap                      519\n",
      "     CAO Project - patch testing Layers Fil  Web Mapping Application       11\n",
      "     CA Web App Suitability Analysis Data    Web Mapping Application       11\n",
      "     CA Preferences                          Web Mapping Application       440\n",
      "     Elevation                               Web Mapping Application       1156\n",
      "     CAO Project - patch testing Layers Pre  Web Mapping Application       2\n",
      "     Favorite Report Templates               Web Mapping Application       45\n",
      "     CA Web App Favorite Reports Data        Web Mapping Application       11\n",
      "     CA Web App Guided Tour Data             Web Mapping Application       32\n",
      "     Nearby                                  Web Mapping Application       1064\n",
      "     CA Web App Statistical Data Collection  Web Mapping Application       11\n",
      "     CA Web App Comparison Reports Variable  Web Mapping Application       11\n",
      "     CA Web App Variable Manager Data        Web Mapping Application       11\n",
      "     CA Web App Smart Map Search Data        Web Mapping Application       11\n",
      "     CA Web App Comparison Reports Data      Web Mapping Application       11\n",
      "     CA Web App Custom Color Ramps           Web Mapping Application       11\n",
      "     CA Web App Custom Color Picker Colors   Web Mapping Application       11\n",
      "     Story Map Series                        Web Mapping Application       516\n",
      "     f                                       Web Mapping Application       562\n",
      "     CA Web App Custom Symbols               Web Mapping Application       11\n",
      "     CA Web App Void Analysis Data           Web Mapping Application       11\n",
      "     CAO Project - patch testing Preference  Web Mapping Application       2\n",
      "     CAO Project - patch testing Map Data    Web Mapping Application       76\n",
      "\n",
      "\n",
      "two_months_ago\n",
      "--------------------------------------------------\n",
      "   46 items(s) modified\n",
      "   ====================\n",
      "     OrganizationItems_12/16/2020            Administrative Report         839124\n",
      "     OrganizationItems_12/8/2020             Administrative Report         849868\n",
      "     test                                    Dashboard                     0\n",
      "     Hospitals_MarianneView                  Feature Service               0\n",
      "     Hospitals                               Feature Service               163840\n",
      "     Fircrest WA Layers                      Feature Service               196608\n",
      "     Community Analyst Test MLF Layers       Feature Service               0\n",
      "     Hospitals_CarstenView                   Feature Service               0\n",
      "     City of Glasgow Recycling_fieldworker   Feature Service               0\n",
      "     City of Glasgow Recycling               Feature Service               12858\n",
      "     PointLinePoly                           Feature Service               966656\n",
      "     Dissolve_Tussock_Within_Buffersb7p      Feature Service               66338\n",
      "     CAO Project - patch testing Layers      Feature Service               0\n",
      "     MLF Lassen Polygons                     Feature Service               311296\n",
      "     City of Glasgow Recycling_stakeholder   Feature Service               0\n",
      "     GeoPlanner MLF Test - Project Feature   Feature Service               212992\n",
      "     City of Glasgow Recycling               Form                          65289\n",
      "     StoryMap 1610392600000                  StoryMap                      519\n",
      "     MLF Map w Lotsa Layers-MVB              Web Map                       44760\n",
      "     Test Spoof MLF                          Web Map                       5736\n",
      "     Hospitals                               Web Map                       2140\n",
      "     MLF Interactive Legend                  Web Mapping Application       1657\n",
      "     MLF Map Series                          Web Mapping Application       514\n",
      "     CA Web App Suitability Analysis Data    Web Mapping Application       11\n",
      "     CAO Project - patch testing Layers Fil  Web Mapping Application       11\n",
      "     CA Preferences                          Web Mapping Application       440\n",
      "     Elevation                               Web Mapping Application       1156\n",
      "     Favorite Report Templates               Web Mapping Application       45\n",
      "     CA Web App Favorite Reports Data        Web Mapping Application       11\n",
      "     CA Web App Guided Tour Data             Web Mapping Application       32\n",
      "     CAO Project - patch testing Layers Pre  Web Mapping Application       2\n",
      "     Media Map 129                           Web Mapping Application       601\n",
      "     Nearby                                  Web Mapping Application       1064\n",
      "     CA Web App Variable Manager Data        Web Mapping Application       11\n",
      "     CA Web App Smart Map Search Data        Web Mapping Application       11\n",
      "     CA Web App Comparison Reports Data      Web Mapping Application       11\n",
      "     CA Web App Statistical Data Collection  Web Mapping Application       11\n"
     ]
    },
    {
     "name": "stdout",
     "output_type": "stream",
     "text": [
      "     CA Web App Comparison Reports Variable  Web Mapping Application       11\n",
      "     CA Web App Custom Color Ramps           Web Mapping Application       11\n",
      "     CA Web App Custom Color Picker Colors   Web Mapping Application       11\n",
      "     Story Map Series                        Web Mapping Application       516\n",
      "     f                                       Web Mapping Application       562\n",
      "     CAO Project - patch testing Preference  Web Mapping Application       2\n",
      "     CAO Project - patch testing Map Data    Web Mapping Application       76\n",
      "     CA Web App Custom Symbols               Web Mapping Application       11\n",
      "     CA Web App Void Analysis Data           Web Mapping Application       11\n",
      "\n",
      "\n"
     ]
    }
   ],
   "source": [
    "for readable, date_ms in list(zip(time_ranges, query_objs)):\n",
    "    print(f\"{readable}\\n{'-'*50}\")\n",
    "    flyr_list = gis.content.search(query=f\"modified: [{date_ms} TO {jan27_qy}]\",\n",
    "                                   max_items=100,\n",
    "                                   sort_field=\"type\",\n",
    "                                   sort_order=\"asc\")\n",
    "    print(f\"{' ':3}{len(flyr_list)} items(s) modified\\n{' '*3}{'='*20}\")\n",
    "    for flyr in flyr_list:\n",
    "        print(f\"{' ':5}{flyr.title[:38]:40}{flyr.type:30}{flyr.size}\")\n",
    "    print(\"\\n\")"
   ]
  },
  {
   "cell_type": "markdown",
   "metadata": {},
   "source": [
    "## Feature layers using above 1MB of database storage"
   ]
  },
  {
   "cell_type": "code",
   "execution_count": 21,
   "metadata": {},
   "outputs": [],
   "source": [
    "mod_fl_mos2 = [fl \n",
    "               for fl in gis.content.search(query=f\"modified: [{mos2_prev_qy} TO {jan27_qy}]\",\n",
    "                                            max_items=100)\n",
    "               if fl.size/(1024*1024) > 1]"
   ]
  },
  {
   "cell_type": "code",
   "execution_count": 22,
   "metadata": {},
   "outputs": [],
   "source": [
    "def get_mb(item):\n",
    "    return item.size/(1024*1024)"
   ]
  },
  {
   "cell_type": "code",
   "execution_count": 23,
   "metadata": {},
   "outputs": [],
   "source": [
    "mod_fl_mos2.sort(key=get_mb, reverse=True)"
   ]
  },
  {
   "cell_type": "code",
   "execution_count": 24,
   "metadata": {},
   "outputs": [],
   "source": [
    "for item in mod_fl_mos2:\n",
    "    print(f\"{item.title[:35]:40}{item.type:20}{item.size/(1024 * 1024):.3} MB\")"
   ]
  },
  {
   "cell_type": "markdown",
   "metadata": {},
   "source": [
    "## Credit Usage"
   ]
  },
  {
   "cell_type": "code",
   "execution_count": 15,
   "metadata": {},
   "outputs": [],
   "source": [
    "week_prev = mar19 - relativedelta(weeks=1)"
   ]
  },
  {
   "cell_type": "code",
   "execution_count": 17,
   "metadata": {},
   "outputs": [],
   "source": [
    "credit_mgr = gis.admin.credits\n",
    "credit_usg_week = credit_mgr.credit_usage(mar19, week_prev)"
   ]
  },
  {
   "cell_type": "code",
   "execution_count": 18,
   "metadata": {},
   "outputs": [
    {
     "data": {
      "text/plain": [
       "{'features': 482.77126599999997,\n",
       " 'portal': 4.4237087100000005,\n",
       " 'scene': 0.0217645416,\n",
       " 'tiles': 0.388621652,\n",
       " 'vectortiles': 0.77728984,\n",
       " 'applogin': 0.0,\n",
       " 'apploginprovider': 0.0}"
      ]
     },
     "execution_count": 18,
     "metadata": {},
     "output_type": "execute_result"
    }
   ],
   "source": [
    "credit_usg_week"
   ]
  },
  {
   "cell_type": "code",
   "execution_count": 19,
   "metadata": {},
   "outputs": [
    {
     "data": {
      "text/plain": [
       "488.3826507436"
      ]
     },
     "execution_count": 19,
     "metadata": {},
     "output_type": "execute_result"
    }
   ],
   "source": [
    "total = sum(credit_usg_week.values())\n",
    "total"
   ]
  },
  {
   "cell_type": "code",
   "execution_count": 20,
   "metadata": {},
   "outputs": [
    {
     "data": {
      "text/plain": [
       "{'features': 98.85102701026413,\n",
       " 'portal': 0.9057874400871049,\n",
       " 'scene': 0.004456452653848743,\n",
       " 'tiles': 0.07957318946696688,\n",
       " 'vectortiles': 0.15915590752794284,\n",
       " 'applogin': 0.0,\n",
       " 'apploginprovider': 0.0}"
      ]
     },
     "execution_count": 20,
     "metadata": {},
     "output_type": "execute_result"
    }
   ],
   "source": [
    "credit_pct = {k:(v/total*100) for k, v in credit_usg_week.items()}\n",
    "credit_pct"
   ]
  },
  {
   "cell_type": "markdown",
   "metadata": {},
   "source": [
    "### User Usage Reports"
   ]
  },
  {
   "cell_type": "code",
   "execution_count": 21,
   "metadata": {},
   "outputs": [],
   "source": [
    "usage_reports = gis.admin.usage_reports"
   ]
  },
  {
   "cell_type": "code",
   "execution_count": 22,
   "metadata": {},
   "outputs": [],
   "source": [
    "user_usage = usage_reports.users(start_time=mar19, time_frame=\"60days\")"
   ]
  },
  {
   "cell_type": "code",
   "execution_count": 23,
   "metadata": {},
   "outputs": [],
   "source": [
    "def get_users_consuming_credits():\n",
    "    usage_totals = []\n",
    "    for usg_dict in user_usage['data']:\n",
    "        if 'username' in usg_dict:\n",
    "            total_usg = sum([float(ud[1]) for ud in usg_dict['credits']])\n",
    "            if total_usg > 0.0:\n",
    "                #print(f\"{usg_dict['username']}\\n{'-'*50}\")\n",
    "                #print(f\"\\t...used {total_usg} credits during this time\")\n",
    "                usage_totals.append({usg_dict['username']:total_usg})\n",
    "    return usage_totals"
   ]
  },
  {
   "cell_type": "code",
   "execution_count": 24,
   "metadata": {},
   "outputs": [
    {
     "name": "stdout",
     "output_type": "stream",
     "text": [
      "bstearman_uc                            13.37\n",
      "deel4986@esri.com_onlineshowcase        0.008\n",
      "dhrumil_demo                             0.92\n",
      "edwi7454@esri.com_onlineshowcase         1.22\n",
      "ianw_uc                                  0.01\n",
      "jlias_DevSummit                          1.44\n"
     ]
    }
   ],
   "source": [
    "user_credit_use = get_users_consuming_credits()\n",
    "for usage_stats in user_credit_use:\n",
    "    for user, credits in usage_stats.items():\n",
    "        print(f\"{user:40}{credits:>5.4}\")"
   ]
  },
  {
   "cell_type": "code",
   "execution_count": null,
   "metadata": {},
   "outputs": [],
   "source": []
  }
 ],
 "metadata": {
  "kernelspec": {
   "display_name": "Python 3",
   "language": "python",
   "name": "python3"
  },
  "language_info": {
   "codemirror_mode": {
    "name": "ipython",
    "version": 3
   },
   "file_extension": ".py",
   "mimetype": "text/x-python",
   "name": "python",
   "nbconvert_exporter": "python",
   "pygments_lexer": "ipython3",
   "version": "3.6.10"
  }
 },
 "nbformat": 4,
 "nbformat_minor": 4
}
