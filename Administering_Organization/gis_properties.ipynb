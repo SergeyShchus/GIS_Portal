{
 "cells": [
  {
   "cell_type": "code",
   "execution_count": null,
   "metadata": {},
   "outputs": [],
   "source": [
    "from arcgis.gis import GIS"
   ]
  },
  {
   "cell_type": "code",
   "execution_count": null,
   "metadata": {},
   "outputs": [],
   "source": [
    "gis = GIS(profile=\"mmoran\")\n",
    "gis2 = GIS(profile=\"esrihax\")\n",
    "gis3 = GIS(profile=\"johnny_dino\"])\n",
    "ent = GIS(profile=\"my_own_portal\", verify_cert=False)"
   ]
  },
  {
   "cell_type": "code",
   "execution_count": null,
   "metadata": {},
   "outputs": [],
   "source": [
    "gis_systems = [gis, gis2, gis3, ent]\n",
    "for gis_sys in gis_systems:\n",
    "    if gis_sys.properties.portalName == \"ArcGIS Online\":\n",
    "        print(f\"Connected to {gis_sys.properties.urlKey}.{gis_sys.properties.customBaseUrl}\")\n",
    "    else:\n",
    "        print(f\"Connected to {gis_sys.properties.portalHostname.lower()}\")"
   ]
  }
 ],
 "metadata": {
  "kernelspec": {
   "display_name": "Python 3",
   "language": "python",
   "name": "python3"
  },
  "language_info": {
   "codemirror_mode": {
    "name": "ipython",
    "version": 3
   },
   "file_extension": ".py",
   "mimetype": "text/x-python",
   "name": "python",
   "nbconvert_exporter": "python",
   "pygments_lexer": "ipython3",
   "version": "3.6.10"
  }
 },
 "nbformat": 4,
 "nbformat_minor": 4
}
