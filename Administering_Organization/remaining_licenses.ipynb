{
 "cells": [
  {
   "cell_type": "code",
   "execution_count": 4,
   "metadata": {},
   "outputs": [],
   "source": [
    "from arcgis.gis import GIS"
   ]
  },
  {
   "cell_type": "code",
   "execution_count": 5,
   "metadata": {},
   "outputs": [],
   "source": [
    "gis = GIS(profile=\"your_online_admin_profile\")"
   ]
  },
  {
   "cell_type": "markdown",
   "metadata": {},
   "source": [
    "### Get all users"
   ]
  },
  {
   "cell_type": "code",
   "execution_count": 6,
   "metadata": {},
   "outputs": [],
   "source": [
    "user_list = gis.users.search(\"*\")"
   ]
  },
  {
   "cell_type": "markdown",
   "metadata": {},
   "source": [
    "#### Print role and license"
   ]
  },
  {
   "cell_type": "code",
   "execution_count": 7,
   "metadata": {},
   "outputs": [
    {
     "name": "stdout",
     "output_type": "stream",
     "text": [
      "Username                 Role                License Type\n",
      "-----------------------  ------------------  ---------------\n",
      "amani_geosaurus          org_admin           creatorUT\n",
      "andrew57                 org_admin           creatorUT\n",
      "api_data_owner           org_publisher       creatorUT\n",
      "arcgis_python            org_admin           advancedUT\n",
      "ArcGISPyAPIBot           org_admin           creatorUT\n",
      "bmajor_geosaurus         org_admin           creatorUT\n",
      "clonerator               org_admin           creatorUT\n",
      "CornDog9                 org_publisher       creatorUT\n",
      "cpeng_geosaurus          org_publisher       creatorUT\n",
      "cwhitmore_geosaurus      org_publisher       creatorUT\n",
      "DavidJVitale             org_admin           creatorUT\n",
      "demo_user2               org_user            creatorUT\n",
      "forest_publisher         org_publisher       creatorUT\n",
      "jyaist_geosaurus         org_admin           creatorUT\n",
      "maggarwal_geosaurus      org_admin           creatorUT\n",
      "MMajumdar_geosaurus      org_admin           insightsAnalystUT\n",
      "na_qaext01               org_publisher       creatorUT\n",
      "NBAdvanced               org_publisher       creatorUT\n",
      "noarcispro               org_user            creatorUT\n",
      "nshampur_geosaurus       org_publisher       advancedUT\n",
      "oauthlogintest           org_publisher       creatorUT\n",
      "ptuteja_geosaurus        org_admin           advancedUT\n",
      "report_admin_account     org_admin           creatorUT\n",
      "rohitgeo                 org_admin           creatorUT\n",
      "rsingh_geosaurus         org_admin           creatorUT\n",
      "SAmbrose_geosaurus       org_admin           creatorUT\n",
      "SampleAnt555             org_publisher       creatorUT\n",
      "smathew_geosaurus        org_publisher       creatorUT\n",
      "svr_user2                org_publisher       creatorUT\n",
      "svy_user1                org_publisher       creatorUT\n",
      "svy_user3                org_publisher       creatorUT\n",
      "tesri_8f8                org_publisher       creatorUT\n",
      "viewerexporttester       org_user            creatorUT\n",
      "yjiang_geosaurus         org_admin           creatorUT\n"
     ]
    }
   ],
   "source": [
    "print(f\"{'Username':25}{'Role':20}{'License Type'}\")\n",
    "print(f\"{'-'*23}{' '*2}{'-'*18}{' '*2}{'-'*15}\")\n",
    "for user in user_list:\n",
    "    print(f\"{user.username:25}{user.role:20}{user.userLicenseTypeId}\")"
   ]
  },
  {
   "cell_type": "markdown",
   "metadata": {},
   "source": [
    "### Print License Type information for Org"
   ]
  },
  {
   "cell_type": "code",
   "execution_count": 8,
   "metadata": {},
   "outputs": [
    {
     "name": "stdout",
     "output_type": "stream",
     "text": [
      "Name                          License Id              Total Licenses\n",
      "-------------------------     -------------------     ---------------\n",
      "Advanced                      advancedUT              100\n",
      "Creator                       creatorUT               50\n",
      "Insights Analyst              insightsAnalystUT       100\n",
      "Storyteller                   storytellerUT           50\n",
      "Viewer                        viewerUT                0\n"
     ]
    }
   ],
   "source": [
    "print(f\"{'Name':30}{'License Id':24}{'Total Licenses'}\")\n",
    "print(f\"{'-'*25}{' '*5}{'-'*19}{' '*5}{'-'*15}\")\n",
    "for ltype in gis.users.license_types:\n",
    "    print(f\"{ltype['name']:30}{ltype['id']:24}{ltype['maxUsers']}\")"
   ]
  },
  {
   "cell_type": "markdown",
   "metadata": {},
   "source": [
    "### Create a list of License Types and Assigned Totals"
   ]
  },
  {
   "cell_type": "code",
   "execution_count": 9,
   "metadata": {},
   "outputs": [],
   "source": [
    "assigned_license_types = [tuple(r[1]) \n",
    "                          for r in gis.users.counts(type=\"user_type\").iterrows()]"
   ]
  },
  {
   "cell_type": "markdown",
   "metadata": {},
   "source": [
    "### Print License Types and Total Remaining"
   ]
  },
  {
   "cell_type": "code",
   "execution_count": 10,
   "metadata": {},
   "outputs": [
    {
     "name": "stdout",
     "output_type": "stream",
     "text": [
      "License Id            Total Remaining   \n",
      "------------------  --------------------\n",
      "advancedUT                   97         \n",
      "creatorUT                    20         \n",
      "insightsAnalystUT            99         \n",
      "storytellerUT                50         \n",
      "viewerUT                     0          \n"
     ]
    }
   ],
   "source": [
    "print(f\"{'License Id':20}{'Total Remaining':^20}\")\n",
    "print(f\"{'-'*18}{' '*2}{'-'*20}\")\n",
    "for lic in gis.users.license_types:\n",
    "    try:\n",
    "        print(f\"{lic['id']:20}{lic['maxUsers']-[ct[1] for ct in assigned_license_types if ct[0]==lic['id']][0]:^20}\")\n",
    "    except IndexError as ie:\n",
    "        print(f\"{lic['id']:20}{lic['maxUsers']:^20}\")"
   ]
  },
  {
   "cell_type": "code",
   "execution_count": null,
   "metadata": {},
   "outputs": [],
   "source": []
  }
 ],
 "metadata": {
  "kernelspec": {
   "display_name": "Python 3",
   "language": "python",
   "name": "python3"
  },
  "language_info": {
   "codemirror_mode": {
    "name": "ipython",
    "version": 3
   },
   "file_extension": ".py",
   "mimetype": "text/x-python",
   "name": "python",
   "nbconvert_exporter": "python",
   "pygments_lexer": "ipython3",
   "version": "3.6.10"
  }
 },
 "nbformat": 4,
 "nbformat_minor": 2
}
