{
 "cells": [
  {
   "cell_type": "markdown",
   "metadata": {},
   "source": [
    "## Export list of Organization Members"
   ]
  },
  {
   "cell_type": "markdown",
   "metadata": {},
   "source": [
    "### Import Libraries"
   ]
  },
  {
   "cell_type": "code",
   "execution_count": 3,
   "metadata": {},
   "outputs": [],
   "source": [
    "import datetime as dt\n",
    "from pathlib import Path\n",
    "from pytz import timezone\n",
    "\n",
    "import pandas as pd\n",
    "\n",
    "from arcgis.gis import GIS"
   ]
  },
  {
   "cell_type": "markdown",
   "metadata": {},
   "source": [
    "### Connect to the ArcGIS Online Organization"
   ]
  },
  {
   "cell_type": "code",
   "execution_count": 4,
   "metadata": {
    "scrolled": true
   },
   "outputs": [],
   "source": [
    "gis = GIS(profile=\"your_admin_profile\")"
   ]
  },
  {
   "cell_type": "code",
   "execution_count": 5,
   "metadata": {},
   "outputs": [],
   "source": [
    "user_list = gis.users.search(\"*\")"
   ]
  },
  {
   "cell_type": "markdown",
   "metadata": {},
   "source": [
    "### Prepare variables for adding timezone information"
   ]
  },
  {
   "cell_type": "code",
   "execution_count": 6,
   "metadata": {},
   "outputs": [],
   "source": [
    "utc = timezone(\"UTC\")\n",
    "pac_tz = timezone(\"America/Los_Angeles\")"
   ]
  },
  {
   "cell_type": "markdown",
   "metadata": {},
   "source": [
    "### Write user information to a file"
   ]
  },
  {
   "cell_type": "code",
   "execution_count": 7,
   "metadata": {},
   "outputs": [
    {
     "name": "stdout",
     "output_type": "stream",
     "text": [
      "...wrote info on aar11400@esri.com_onlineshowcase to file\n",
      "...wrote info on aaro8864@esri.com_onlineshowcase to file\n",
      "...wrote info on aas11333@esri.com_onlineshowcase to file\n",
      "...wrote info on aawady_uc to file\n"
     ]
    }
   ],
   "source": [
    "with open(\"user_list.csv\", \"w\") as f:\n",
    "    f.write(\"First_Name,Last_Name,Username,Email,User_type,Role,Create_Date\\n\")\n",
    "    for user in user_list[:4]:\n",
    "        firstname, lastname, username = user.fullName.split(' ')[0], user.fullName.split(' ')[1], user.username\n",
    "        created_dt = dt.datetime.fromtimestamp(user.created/1000)\n",
    "        created_utc = utc.localize(created_dt)\n",
    "        created_pac = created_utc.astimezone(pac_tz)\n",
    "        created = f\"{created_pac.strftime('%a %b %d %Y %I:%M:%S %p ')}{created_pac.tzname()}\"\n",
    "        f.write(f\"{firstname},{lastname},{username},{user.email},{user.userLicenseTypeId[:-2].capitalize()},\"\n",
    "                f\"{user.role},{created}\\n\")\n",
    "        print(f\"...wrote info on {user.username} to file\")"
   ]
  },
  {
   "cell_type": "markdown",
   "metadata": {},
   "source": [
    "### Read new file"
   ]
  },
  {
   "cell_type": "code",
   "execution_count": 8,
   "metadata": {},
   "outputs": [],
   "source": [
    "user_dir = Path(\".\")"
   ]
  },
  {
   "cell_type": "code",
   "execution_count": 9,
   "metadata": {},
   "outputs": [],
   "source": [
    "for user_file in user_dir.glob(\"user_list.csv\"):\n",
    "    user_info = pd.read_csv(user_file)"
   ]
  },
  {
   "cell_type": "code",
   "execution_count": 10,
   "metadata": {},
   "outputs": [
    {
     "data": {
      "text/html": [
       "<div>\n",
       "<style scoped>\n",
       "    .dataframe tbody tr th:only-of-type {\n",
       "        vertical-align: middle;\n",
       "    }\n",
       "\n",
       "    .dataframe tbody tr th {\n",
       "        vertical-align: top;\n",
       "    }\n",
       "\n",
       "    .dataframe thead th {\n",
       "        text-align: right;\n",
       "    }\n",
       "</style>\n",
       "<table border=\"1\" class=\"dataframe\">\n",
       "  <thead>\n",
       "    <tr style=\"text-align: right;\">\n",
       "      <th></th>\n",
       "      <th>First_Name</th>\n",
       "      <th>Last_Name</th>\n",
       "      <th>Username</th>\n",
       "      <th>Email</th>\n",
       "      <th>User_type</th>\n",
       "      <th>Role</th>\n",
       "      <th>Create_Date</th>\n",
       "    </tr>\n",
       "  </thead>\n",
       "  <tbody>\n",
       "    <tr>\n",
       "      <th>0</th>\n",
       "      <td>Aaron</td>\n",
       "      <td>Lee</td>\n",
       "      <td>aar11400@esri.com_onlineshowcase</td>\n",
       "      <td>aaronlee@esri.com</td>\n",
       "      <td>Creator</td>\n",
       "      <td>org_publisher</td>\n",
       "      <td>Mon Nov 16 2020 01:36:25 AM PST</td>\n",
       "    </tr>\n",
       "    <tr>\n",
       "      <th>1</th>\n",
       "      <td>Aaron</td>\n",
       "      <td>Nelson</td>\n",
       "      <td>aaro8864@esri.com_onlineshowcase</td>\n",
       "      <td>ANelson@esri.com</td>\n",
       "      <td>Creator</td>\n",
       "      <td>org_publisher</td>\n",
       "      <td>Wed Jul 01 2020 08:57:41 AM PDT</td>\n",
       "    </tr>\n",
       "    <tr>\n",
       "      <th>2</th>\n",
       "      <td>Aashis</td>\n",
       "      <td>Lamsal</td>\n",
       "      <td>aas11333@esri.com_onlineshowcase</td>\n",
       "      <td>alamsal@esri.com</td>\n",
       "      <td>Creator</td>\n",
       "      <td>org_publisher</td>\n",
       "      <td>Thu Oct 15 2020 12:21:54 AM PDT</td>\n",
       "    </tr>\n",
       "    <tr>\n",
       "      <th>3</th>\n",
       "      <td>Ahmed</td>\n",
       "      <td>Awady</td>\n",
       "      <td>aawady_uc</td>\n",
       "      <td>AAwady@esri.com</td>\n",
       "      <td>Creator</td>\n",
       "      <td>org_publisher</td>\n",
       "      <td>Thu Jul 10 2014 04:42:11 PM PDT</td>\n",
       "    </tr>\n",
       "  </tbody>\n",
       "</table>\n",
       "</div>"
      ],
      "text/plain": [
       "  First_Name Last_Name                          Username              Email  \\\n",
       "0      Aaron       Lee  aar11400@esri.com_onlineshowcase  aaronlee@esri.com   \n",
       "1      Aaron    Nelson  aaro8864@esri.com_onlineshowcase   ANelson@esri.com   \n",
       "2     Aashis    Lamsal  aas11333@esri.com_onlineshowcase   alamsal@esri.com   \n",
       "3      Ahmed     Awady                         aawady_uc    AAwady@esri.com   \n",
       "\n",
       "  User_type           Role                      Create_Date  \n",
       "0   Creator  org_publisher  Mon Nov 16 2020 01:36:25 AM PST  \n",
       "1   Creator  org_publisher  Wed Jul 01 2020 08:57:41 AM PDT  \n",
       "2   Creator  org_publisher  Thu Oct 15 2020 12:21:54 AM PDT  \n",
       "3   Creator  org_publisher  Thu Jul 10 2014 04:42:11 PM PDT  "
      ]
     },
     "execution_count": 10,
     "metadata": {},
     "output_type": "execute_result"
    }
   ],
   "source": [
    "user_info"
   ]
  }
 ],
 "metadata": {
  "kernelspec": {
   "display_name": "Python 3",
   "language": "python",
   "name": "python3"
  },
  "language_info": {
   "codemirror_mode": {
    "name": "ipython",
    "version": 3
   },
   "file_extension": ".py",
   "mimetype": "text/x-python",
   "name": "python",
   "nbconvert_exporter": "python",
   "pygments_lexer": "ipython3",
   "version": "3.6.10"
  }
 },
 "nbformat": 4,
 "nbformat_minor": 4
}
